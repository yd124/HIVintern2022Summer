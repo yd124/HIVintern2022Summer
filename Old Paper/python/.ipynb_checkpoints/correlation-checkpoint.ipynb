{
 "cells": [
  {
   "cell_type": "code",
   "execution_count": 3,
   "id": "72e0e43a",
   "metadata": {},
   "outputs": [],
   "source": [
    "import pandas as pd\n",
    "import numpy as np\n",
    "import matplotlib.pyplot as plt\n"
   ]
  },
  {
   "cell_type": "code",
   "execution_count": 4,
   "id": "4e5fd49c",
   "metadata": {},
   "outputs": [
    {
     "data": {
      "text/html": [
       "<div>\n",
       "<style scoped>\n",
       "    .dataframe tbody tr th:only-of-type {\n",
       "        vertical-align: middle;\n",
       "    }\n",
       "\n",
       "    .dataframe tbody tr th {\n",
       "        vertical-align: top;\n",
       "    }\n",
       "\n",
       "    .dataframe thead th {\n",
       "        text-align: right;\n",
       "    }\n",
       "</style>\n",
       "<table border=\"1\" class=\"dataframe\">\n",
       "  <thead>\n",
       "    <tr style=\"text-align: right;\">\n",
       "      <th></th>\n",
       "      <th>patient</th>\n",
       "      <th>IgM</th>\n",
       "      <th>IgG</th>\n",
       "      <th>IgM+IgG</th>\n",
       "    </tr>\n",
       "  </thead>\n",
       "  <tbody>\n",
       "    <tr>\n",
       "      <th>0</th>\n",
       "      <td>CHID46</td>\n",
       "      <td>0.261554</td>\n",
       "      <td>0.241568</td>\n",
       "      <td>0.503122</td>\n",
       "    </tr>\n",
       "    <tr>\n",
       "      <th>1</th>\n",
       "      <td>CHID77</td>\n",
       "      <td>0.317600</td>\n",
       "      <td>0.066923</td>\n",
       "      <td>0.362000</td>\n",
       "    </tr>\n",
       "    <tr>\n",
       "      <th>2</th>\n",
       "      <td>CHID79</td>\n",
       "      <td>0.154923</td>\n",
       "      <td>0.064222</td>\n",
       "      <td>0.190846</td>\n",
       "    </tr>\n",
       "    <tr>\n",
       "      <th>3</th>\n",
       "      <td>CHID32</td>\n",
       "      <td>0.224462</td>\n",
       "      <td>0.097577</td>\n",
       "      <td>0.322038</td>\n",
       "    </tr>\n",
       "    <tr>\n",
       "      <th>4</th>\n",
       "      <td>CHID40</td>\n",
       "      <td>0.117885</td>\n",
       "      <td>0.229596</td>\n",
       "      <td>0.347481</td>\n",
       "    </tr>\n",
       "    <tr>\n",
       "      <th>5</th>\n",
       "      <td>CHID08</td>\n",
       "      <td>0.093962</td>\n",
       "      <td>0.113101</td>\n",
       "      <td>0.197189</td>\n",
       "    </tr>\n",
       "  </tbody>\n",
       "</table>\n",
       "</div>"
      ],
      "text/plain": [
       "  patient       IgM       IgG   IgM+IgG\n",
       "0  CHID46  0.261554  0.241568  0.503122\n",
       "1  CHID77  0.317600  0.066923  0.362000\n",
       "2  CHID79  0.154923  0.064222  0.190846\n",
       "3  CHID32  0.224462  0.097577  0.322038\n",
       "4  CHID40  0.117885  0.229596  0.347481\n",
       "5  CHID08  0.093962  0.113101  0.197189"
      ]
     },
     "execution_count": 4,
     "metadata": {},
     "output_type": "execute_result"
    }
   ],
   "source": [
    "ab_df = pd.read_csv('../data/data1/antibodies_rate.csv')\n",
    "ab_df"
   ]
  },
  {
   "cell_type": "code",
   "execution_count": 5,
   "id": "b4e320f0",
   "metadata": {},
   "outputs": [
    {
     "data": {
      "text/html": [
       "<div>\n",
       "<style scoped>\n",
       "    .dataframe tbody tr th:only-of-type {\n",
       "        vertical-align: middle;\n",
       "    }\n",
       "\n",
       "    .dataframe tbody tr th {\n",
       "        vertical-align: top;\n",
       "    }\n",
       "\n",
       "    .dataframe thead th {\n",
       "        text-align: right;\n",
       "    }\n",
       "</style>\n",
       "<table border=\"1\" class=\"dataframe\">\n",
       "  <thead>\n",
       "    <tr style=\"text-align: right;\">\n",
       "      <th></th>\n",
       "      <th>beta0</th>\n",
       "      <th>beta_infty</th>\n",
       "      <th>k</th>\n",
       "      <th>dlt</th>\n",
       "      <th>p</th>\n",
       "      <th>d</th>\n",
       "      <th>tau</th>\n",
       "    </tr>\n",
       "  </thead>\n",
       "  <tbody>\n",
       "    <tr>\n",
       "      <th>0</th>\n",
       "      <td>2.021060e-07</td>\n",
       "      <td>1.271311e-07</td>\n",
       "      <td>0.409097</td>\n",
       "      <td>1.526404</td>\n",
       "      <td>41096.978594</td>\n",
       "      <td>3.901598e-02</td>\n",
       "      <td>6</td>\n",
       "    </tr>\n",
       "    <tr>\n",
       "      <th>1</th>\n",
       "      <td>3.254512e-07</td>\n",
       "      <td>1.038005e-07</td>\n",
       "      <td>0.048908</td>\n",
       "      <td>0.764852</td>\n",
       "      <td>16761.462876</td>\n",
       "      <td>4.330391e-02</td>\n",
       "      <td>6</td>\n",
       "    </tr>\n",
       "    <tr>\n",
       "      <th>2</th>\n",
       "      <td>1.454776e-07</td>\n",
       "      <td>3.339903e-13</td>\n",
       "      <td>0.012340</td>\n",
       "      <td>1.149570</td>\n",
       "      <td>43839.956053</td>\n",
       "      <td>3.714219e-02</td>\n",
       "      <td>10</td>\n",
       "    </tr>\n",
       "    <tr>\n",
       "      <th>3</th>\n",
       "      <td>1.423658e-06</td>\n",
       "      <td>1.203840e-06</td>\n",
       "      <td>2.956800</td>\n",
       "      <td>4.679841</td>\n",
       "      <td>10126.798554</td>\n",
       "      <td>6.391226e-02</td>\n",
       "      <td>13</td>\n",
       "    </tr>\n",
       "    <tr>\n",
       "      <th>4</th>\n",
       "      <td>3.029264e-07</td>\n",
       "      <td>2.032426e-07</td>\n",
       "      <td>0.481904</td>\n",
       "      <td>1.399886</td>\n",
       "      <td>25229.807938</td>\n",
       "      <td>3.570534e-02</td>\n",
       "      <td>6</td>\n",
       "    </tr>\n",
       "    <tr>\n",
       "      <th>5</th>\n",
       "      <td>2.718743e-08</td>\n",
       "      <td>1.468200e-07</td>\n",
       "      <td>0.093243</td>\n",
       "      <td>5.234241</td>\n",
       "      <td>585114.332961</td>\n",
       "      <td>6.065821e-15</td>\n",
       "      <td>21</td>\n",
       "    </tr>\n",
       "  </tbody>\n",
       "</table>\n",
       "</div>"
      ],
      "text/plain": [
       "          beta0    beta_infty         k       dlt              p  \\\n",
       "0  2.021060e-07  1.271311e-07  0.409097  1.526404   41096.978594   \n",
       "1  3.254512e-07  1.038005e-07  0.048908  0.764852   16761.462876   \n",
       "2  1.454776e-07  3.339903e-13  0.012340  1.149570   43839.956053   \n",
       "3  1.423658e-06  1.203840e-06  2.956800  4.679841   10126.798554   \n",
       "4  3.029264e-07  2.032426e-07  0.481904  1.399886   25229.807938   \n",
       "5  2.718743e-08  1.468200e-07  0.093243  5.234241  585114.332961   \n",
       "\n",
       "              d  tau  \n",
       "0  3.901598e-02    6  \n",
       "1  4.330391e-02    6  \n",
       "2  3.714219e-02   10  \n",
       "3  6.391226e-02   13  \n",
       "4  3.570534e-02    6  \n",
       "5  6.065821e-15   21  "
      ]
     },
     "execution_count": 5,
     "metadata": {},
     "output_type": "execute_result"
    }
   ],
   "source": [
    "decay_df = pd.read_csv('../MATLAB/best_params_mat.csv') \n",
    "decay_df"
   ]
  },
  {
   "cell_type": "code",
   "execution_count": 11,
   "id": "8139b1b1",
   "metadata": {},
   "outputs": [
    {
     "data": {
      "text/html": [
       "<div>\n",
       "<style scoped>\n",
       "    .dataframe tbody tr th:only-of-type {\n",
       "        vertical-align: middle;\n",
       "    }\n",
       "\n",
       "    .dataframe tbody tr th {\n",
       "        vertical-align: top;\n",
       "    }\n",
       "\n",
       "    .dataframe thead th {\n",
       "        text-align: right;\n",
       "    }\n",
       "</style>\n",
       "<table border=\"1\" class=\"dataframe\">\n",
       "  <thead>\n",
       "    <tr style=\"text-align: right;\">\n",
       "      <th></th>\n",
       "      <th>patient</th>\n",
       "      <th>IgM</th>\n",
       "      <th>IgG</th>\n",
       "      <th>IgM+IgG</th>\n",
       "      <th>k</th>\n",
       "    </tr>\n",
       "  </thead>\n",
       "  <tbody>\n",
       "    <tr>\n",
       "      <th>0</th>\n",
       "      <td>CHID46</td>\n",
       "      <td>0.261554</td>\n",
       "      <td>0.241568</td>\n",
       "      <td>0.503122</td>\n",
       "      <td>0.409097</td>\n",
       "    </tr>\n",
       "    <tr>\n",
       "      <th>1</th>\n",
       "      <td>CHID77</td>\n",
       "      <td>0.317600</td>\n",
       "      <td>0.066923</td>\n",
       "      <td>0.362000</td>\n",
       "      <td>0.048908</td>\n",
       "    </tr>\n",
       "    <tr>\n",
       "      <th>2</th>\n",
       "      <td>CHID79</td>\n",
       "      <td>0.154923</td>\n",
       "      <td>0.064222</td>\n",
       "      <td>0.190846</td>\n",
       "      <td>0.012340</td>\n",
       "    </tr>\n",
       "    <tr>\n",
       "      <th>3</th>\n",
       "      <td>CHID32</td>\n",
       "      <td>0.224462</td>\n",
       "      <td>0.097577</td>\n",
       "      <td>0.322038</td>\n",
       "      <td>2.956800</td>\n",
       "    </tr>\n",
       "    <tr>\n",
       "      <th>4</th>\n",
       "      <td>CHID40</td>\n",
       "      <td>0.117885</td>\n",
       "      <td>0.229596</td>\n",
       "      <td>0.347481</td>\n",
       "      <td>0.481904</td>\n",
       "    </tr>\n",
       "    <tr>\n",
       "      <th>5</th>\n",
       "      <td>CHID08</td>\n",
       "      <td>0.093962</td>\n",
       "      <td>0.113101</td>\n",
       "      <td>0.197189</td>\n",
       "      <td>0.093243</td>\n",
       "    </tr>\n",
       "  </tbody>\n",
       "</table>\n",
       "</div>"
      ],
      "text/plain": [
       "  patient       IgM       IgG   IgM+IgG         k\n",
       "0  CHID46  0.261554  0.241568  0.503122  0.409097\n",
       "1  CHID77  0.317600  0.066923  0.362000  0.048908\n",
       "2  CHID79  0.154923  0.064222  0.190846  0.012340\n",
       "3  CHID32  0.224462  0.097577  0.322038  2.956800\n",
       "4  CHID40  0.117885  0.229596  0.347481  0.481904\n",
       "5  CHID08  0.093962  0.113101  0.197189  0.093243"
      ]
     },
     "execution_count": 11,
     "metadata": {},
     "output_type": "execute_result"
    }
   ],
   "source": [
    "df = ab_df\n",
    "df['k'] = decay_df['k']\n",
    "df"
   ]
  },
  {
   "cell_type": "code",
   "execution_count": 12,
   "id": "363ac344",
   "metadata": {},
   "outputs": [
    {
     "data": {
      "text/plain": [
       "0    0.409097\n",
       "1    0.048908\n",
       "2    0.012340\n",
       "3    2.956800\n",
       "4    0.481904\n",
       "5    0.093243\n",
       "Name: k, dtype: float64"
      ]
     },
     "execution_count": 12,
     "metadata": {},
     "output_type": "execute_result"
    }
   ],
   "source": [
    "df['k']"
   ]
  },
  {
   "cell_type": "code",
   "execution_count": 20,
   "id": "26926e9e",
   "metadata": {},
   "outputs": [
    {
     "data": {
      "text/plain": [
       "<matplotlib.collections.PathCollection at 0x7fba0849dd90>"
      ]
     },
     "execution_count": 20,
     "metadata": {},
     "output_type": "execute_result"
    },
    {
     "data": {
      "image/png": "[encoded data removed]",
      "text/plain": [
       "<Figure size 432x288 with 1 Axes>"
      ]
     },
     "metadata": {
      "needs_background": "light"
     },
     "output_type": "display_data"
    }
   ],
   "source": [
    "plt.scatter(df[cols[0]],df['k'])\n"
   ]
  },
  {
   "cell_type": "code",
   "execution_count": 24,
   "id": "1c8be0eb",
   "metadata": {},
   "outputs": [
    {
     "data": {
      "text/plain": [
       "0    0.503122\n",
       "1    0.362000\n",
       "2    0.190846\n",
       "3    0.322038\n",
       "4    0.347481\n",
       "5    0.197189\n",
       "Name: IgM+IgG, dtype: float64"
      ]
     },
     "execution_count": 24,
     "metadata": {},
     "output_type": "execute_result"
    }
   ],
   "source": [
    "df[cols[2]]\n"
   ]
  },
  {
   "cell_type": "code",
   "execution_count": 29,
   "id": "7642c21a",
   "metadata": {},
   "outputs": [
    {
     "data": {
      "image/png": "[encoded data removed]",
      "text/plain": [
       "<Figure size 864x576 with 3 Axes>"
      ]
     },
     "metadata": {
      "needs_background": "light"
     },
     "output_type": "display_data"
    }
   ],
   "source": [
    "plt.figure(figsize=(12,8),tight_layout=True)\n",
    "cols = df.columns[1:-1]\n",
    "for n in range(3):\n",
    "    ax = plt.subplot(331+n)\n",
    "#     ax.set_xlim(left=0, right=0.4)\n",
    "#     ax.set_ylim(bottom=0, top=0.4)\n",
    "    \n",
    "#     x = df[cols[n]]\n",
    "    plt.scatter(df[cols[n]],df['k'],label=cols[n])\n",
    "    \n",
    "    plt.xlabel('Slope of '+cols[n]+ ' increase')\n",
    "    plt.ylabel('Slope of infectivity decay')\n",
    "    plt.legend()\n",
    "#     plt.title(patient_cols[n])    \n",
    "\n",
    "plt.show()"
   ]
  },
  {
   "cell_type": "code",
   "execution_count": null,
   "id": "3aedaddb",
   "metadata": {},
   "outputs": [],
   "source": []
  }
 ],
 "metadata": {
  "kernelspec": {
   "display_name": "Python 3 (ipykernel)",
   "language": "python",
   "name": "python3"
  },
  "language_info": {
   "codemirror_mode": {
    "name": "ipython",
    "version": 3
   },
   "file_extension": ".py",
   "mimetype": "text/x-python",
   "name": "python",
   "nbconvert_exporter": "python",
   "pygments_lexer": "ipython3",
   "version": "3.9.7"
  }
 },
 "nbformat": 4,
 "nbformat_minor": 5
}
