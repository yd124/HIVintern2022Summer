{
 "cells": [
  {
   "cell_type": "code",
   "execution_count": 38,
   "id": "72e0e43a",
   "metadata": {},
   "outputs": [],
   "source": [
    "import pandas as pd\n",
    "import numpy as np\n",
    "import matplotlib.pyplot as plt\n",
    "from sklearn.linear_model import LinearRegression\n",
    "import scipy.stats"
   ]
  },
  {
   "cell_type": "code",
   "execution_count": 3,
   "id": "4e5fd49c",
   "metadata": {},
   "outputs": [
    {
     "data": {
      "text/html": [
       "<div>\n",
       "<style scoped>\n",
       "    .dataframe tbody tr th:only-of-type {\n",
       "        vertical-align: middle;\n",
       "    }\n",
       "\n",
       "    .dataframe tbody tr th {\n",
       "        vertical-align: top;\n",
       "    }\n",
       "\n",
       "    .dataframe thead th {\n",
       "        text-align: right;\n",
       "    }\n",
       "</style>\n",
       "<table border=\"1\" class=\"dataframe\">\n",
       "  <thead>\n",
       "    <tr style=\"text-align: right;\">\n",
       "      <th></th>\n",
       "      <th>patient</th>\n",
       "      <th>IgM</th>\n",
       "      <th>IgG</th>\n",
       "      <th>IgM+IgG</th>\n",
       "    </tr>\n",
       "  </thead>\n",
       "  <tbody>\n",
       "    <tr>\n",
       "      <th>0</th>\n",
       "      <td>CHID46</td>\n",
       "      <td>0.261554</td>\n",
       "      <td>0.241568</td>\n",
       "      <td>0.503122</td>\n",
       "    </tr>\n",
       "    <tr>\n",
       "      <th>1</th>\n",
       "      <td>CHID77</td>\n",
       "      <td>0.317600</td>\n",
       "      <td>0.066923</td>\n",
       "      <td>0.362000</td>\n",
       "    </tr>\n",
       "    <tr>\n",
       "      <th>2</th>\n",
       "      <td>CHID79</td>\n",
       "      <td>0.154923</td>\n",
       "      <td>0.064222</td>\n",
       "      <td>0.190846</td>\n",
       "    </tr>\n",
       "    <tr>\n",
       "      <th>3</th>\n",
       "      <td>CHID32</td>\n",
       "      <td>0.224462</td>\n",
       "      <td>0.097577</td>\n",
       "      <td>0.322038</td>\n",
       "    </tr>\n",
       "    <tr>\n",
       "      <th>4</th>\n",
       "      <td>CHID40</td>\n",
       "      <td>0.117885</td>\n",
       "      <td>0.229596</td>\n",
       "      <td>0.347481</td>\n",
       "    </tr>\n",
       "    <tr>\n",
       "      <th>5</th>\n",
       "      <td>CHID08</td>\n",
       "      <td>0.093962</td>\n",
       "      <td>0.113101</td>\n",
       "      <td>0.197189</td>\n",
       "    </tr>\n",
       "  </tbody>\n",
       "</table>\n",
       "</div>"
      ],
      "text/plain": [
       "  patient       IgM       IgG   IgM+IgG\n",
       "0  CHID46  0.261554  0.241568  0.503122\n",
       "1  CHID77  0.317600  0.066923  0.362000\n",
       "2  CHID79  0.154923  0.064222  0.190846\n",
       "3  CHID32  0.224462  0.097577  0.322038\n",
       "4  CHID40  0.117885  0.229596  0.347481\n",
       "5  CHID08  0.093962  0.113101  0.197189"
      ]
     },
     "execution_count": 3,
     "metadata": {},
     "output_type": "execute_result"
    }
   ],
   "source": [
    "ab_df = pd.read_csv('../data/data1/antibodies_rate.csv')\n",
    "ab_df"
   ]
  },
  {
   "cell_type": "code",
   "execution_count": 4,
   "id": "b4e320f0",
   "metadata": {},
   "outputs": [
    {
     "data": {
      "text/html": [
       "<div>\n",
       "<style scoped>\n",
       "    .dataframe tbody tr th:only-of-type {\n",
       "        vertical-align: middle;\n",
       "    }\n",
       "\n",
       "    .dataframe tbody tr th {\n",
       "        vertical-align: top;\n",
       "    }\n",
       "\n",
       "    .dataframe thead th {\n",
       "        text-align: right;\n",
       "    }\n",
       "</style>\n",
       "<table border=\"1\" class=\"dataframe\">\n",
       "  <thead>\n",
       "    <tr style=\"text-align: right;\">\n",
       "      <th></th>\n",
       "      <th>k</th>\n",
       "    </tr>\n",
       "  </thead>\n",
       "  <tbody>\n",
       "    <tr>\n",
       "      <th>0</th>\n",
       "      <td>1.486030</td>\n",
       "    </tr>\n",
       "    <tr>\n",
       "      <th>1</th>\n",
       "      <td>0.042013</td>\n",
       "    </tr>\n",
       "    <tr>\n",
       "      <th>2</th>\n",
       "      <td>0.013120</td>\n",
       "    </tr>\n",
       "    <tr>\n",
       "      <th>3</th>\n",
       "      <td>0.021517</td>\n",
       "    </tr>\n",
       "    <tr>\n",
       "      <th>4</th>\n",
       "      <td>0.170156</td>\n",
       "    </tr>\n",
       "    <tr>\n",
       "      <th>5</th>\n",
       "      <td>0.035013</td>\n",
       "    </tr>\n",
       "  </tbody>\n",
       "</table>\n",
       "</div>"
      ],
      "text/plain": [
       "          k\n",
       "0  1.486030\n",
       "1  0.042013\n",
       "2  0.013120\n",
       "3  0.021517\n",
       "4  0.170156\n",
       "5  0.035013"
      ]
     },
     "execution_count": 4,
     "metadata": {},
     "output_type": "execute_result"
    }
   ],
   "source": [
    "k_df = pd.read_csv('../MATLAB/new_work/k.csv') \n",
    "k_df"
   ]
  },
  {
   "cell_type": "code",
   "execution_count": 5,
   "id": "8139b1b1",
   "metadata": {},
   "outputs": [
    {
     "data": {
      "text/html": [
       "<div>\n",
       "<style scoped>\n",
       "    .dataframe tbody tr th:only-of-type {\n",
       "        vertical-align: middle;\n",
       "    }\n",
       "\n",
       "    .dataframe tbody tr th {\n",
       "        vertical-align: top;\n",
       "    }\n",
       "\n",
       "    .dataframe thead th {\n",
       "        text-align: right;\n",
       "    }\n",
       "</style>\n",
       "<table border=\"1\" class=\"dataframe\">\n",
       "  <thead>\n",
       "    <tr style=\"text-align: right;\">\n",
       "      <th></th>\n",
       "      <th>patient</th>\n",
       "      <th>IgM</th>\n",
       "      <th>IgG</th>\n",
       "      <th>IgM+IgG</th>\n",
       "      <th>k</th>\n",
       "    </tr>\n",
       "  </thead>\n",
       "  <tbody>\n",
       "    <tr>\n",
       "      <th>2</th>\n",
       "      <td>CHID79</td>\n",
       "      <td>0.154923</td>\n",
       "      <td>0.064222</td>\n",
       "      <td>0.190846</td>\n",
       "      <td>0.013120</td>\n",
       "    </tr>\n",
       "    <tr>\n",
       "      <th>3</th>\n",
       "      <td>CHID32</td>\n",
       "      <td>0.224462</td>\n",
       "      <td>0.097577</td>\n",
       "      <td>0.322038</td>\n",
       "      <td>0.021517</td>\n",
       "    </tr>\n",
       "    <tr>\n",
       "      <th>5</th>\n",
       "      <td>CHID08</td>\n",
       "      <td>0.093962</td>\n",
       "      <td>0.113101</td>\n",
       "      <td>0.197189</td>\n",
       "      <td>0.035013</td>\n",
       "    </tr>\n",
       "    <tr>\n",
       "      <th>1</th>\n",
       "      <td>CHID77</td>\n",
       "      <td>0.317600</td>\n",
       "      <td>0.066923</td>\n",
       "      <td>0.362000</td>\n",
       "      <td>0.042013</td>\n",
       "    </tr>\n",
       "    <tr>\n",
       "      <th>4</th>\n",
       "      <td>CHID40</td>\n",
       "      <td>0.117885</td>\n",
       "      <td>0.229596</td>\n",
       "      <td>0.347481</td>\n",
       "      <td>0.170156</td>\n",
       "    </tr>\n",
       "    <tr>\n",
       "      <th>0</th>\n",
       "      <td>CHID46</td>\n",
       "      <td>0.261554</td>\n",
       "      <td>0.241568</td>\n",
       "      <td>0.503122</td>\n",
       "      <td>1.486030</td>\n",
       "    </tr>\n",
       "  </tbody>\n",
       "</table>\n",
       "</div>"
      ],
      "text/plain": [
       "  patient       IgM       IgG   IgM+IgG         k\n",
       "2  CHID79  0.154923  0.064222  0.190846  0.013120\n",
       "3  CHID32  0.224462  0.097577  0.322038  0.021517\n",
       "5  CHID08  0.093962  0.113101  0.197189  0.035013\n",
       "1  CHID77  0.317600  0.066923  0.362000  0.042013\n",
       "4  CHID40  0.117885  0.229596  0.347481  0.170156\n",
       "0  CHID46  0.261554  0.241568  0.503122  1.486030"
      ]
     },
     "execution_count": 5,
     "metadata": {},
     "output_type": "execute_result"
    }
   ],
   "source": [
    "df = ab_df\n",
    "df['k'] = k_df['k']\n",
    "df.sort_values('k')"
   ]
  },
  {
   "cell_type": "code",
   "execution_count": 60,
   "id": "7642c21a",
   "metadata": {},
   "outputs": [
    {
     "data": {
      "image/png": "[encoded data removed]",
      "text/plain": [
       "<Figure size 864x576 with 3 Axes>"
      ]
     },
     "metadata": {
      "needs_background": "light"
     },
     "output_type": "display_data"
    }
   ],
   "source": [
    "plt.figure(figsize=(12,8),tight_layout=True)\n",
    "cols = df.columns[1:-1]\n",
    "for n in range(3):\n",
    "    ax = plt.subplot(331+n)\n",
    "#     ax.set_xlim(left=0, right=0.4)\n",
    "#     ax.set_ylim(bottom=0, top=0.4)\n",
    "    \n",
    "#     x = df[cols[n]]\n",
    "    plt.scatter(df[cols[n]],df['k'],label=cols[n])\n",
    "   \n",
    "    X = df[cols[n]].values.reshape(-1,1)\n",
    "    y = df['k'].values\n",
    "    reg = LinearRegression().fit(X,y)\n",
    "    k = reg.coef_[0]\n",
    "    b = reg.intercept_\n",
    "    t = np.arange(0.05,max(X) + 0.05, (max(X)-min(X))/100)\n",
    "    plt.plot(t, k*t+b)    \n",
    "    \n",
    "    r,p = scipy.stats.pearsonr(df[cols[n]], df['k'])\n",
    "\n",
    "    plt.text(0.15, 0.9,'r = '+ str(round(r,3)),horizontalalignment='center',verticalalignment='center',transform = ax.transAxes)\n",
    "    plt.text(0.15, 0.8,'p = '+ str(round(p,3)),horizontalalignment='center',verticalalignment='center',transform = ax.transAxes)\n",
    "\n",
    "    \n",
    "    plt.xlabel('Slope of '+cols[n]+ ' increase')\n",
    "    plt.ylabel('Slope of infectivity decay')\n",
    "#     plt.legend()\n",
    "#     plt.title(patient_cols[n])    \n",
    "\n",
    "plt.show()"
   ]
  },
  {
   "cell_type": "code",
   "execution_count": 8,
   "id": "3aedaddb",
   "metadata": {},
   "outputs": [
    {
     "data": {
      "text/html": [
       "<div>\n",
       "<style scoped>\n",
       "    .dataframe tbody tr th:only-of-type {\n",
       "        vertical-align: middle;\n",
       "    }\n",
       "\n",
       "    .dataframe tbody tr th {\n",
       "        vertical-align: top;\n",
       "    }\n",
       "\n",
       "    .dataframe thead th {\n",
       "        text-align: right;\n",
       "    }\n",
       "</style>\n",
       "<table border=\"1\" class=\"dataframe\">\n",
       "  <thead>\n",
       "    <tr style=\"text-align: right;\">\n",
       "      <th></th>\n",
       "      <th>patient</th>\n",
       "      <th>IgM</th>\n",
       "      <th>IgG</th>\n",
       "      <th>IgM+IgG</th>\n",
       "      <th>k</th>\n",
       "    </tr>\n",
       "  </thead>\n",
       "  <tbody>\n",
       "    <tr>\n",
       "      <th>2</th>\n",
       "      <td>CHID79</td>\n",
       "      <td>0.154923</td>\n",
       "      <td>0.064222</td>\n",
       "      <td>0.190846</td>\n",
       "      <td>0.013120</td>\n",
       "    </tr>\n",
       "    <tr>\n",
       "      <th>3</th>\n",
       "      <td>CHID32</td>\n",
       "      <td>0.224462</td>\n",
       "      <td>0.097577</td>\n",
       "      <td>0.322038</td>\n",
       "      <td>0.021517</td>\n",
       "    </tr>\n",
       "    <tr>\n",
       "      <th>5</th>\n",
       "      <td>CHID08</td>\n",
       "      <td>0.093962</td>\n",
       "      <td>0.113101</td>\n",
       "      <td>0.197189</td>\n",
       "      <td>0.035013</td>\n",
       "    </tr>\n",
       "    <tr>\n",
       "      <th>1</th>\n",
       "      <td>CHID77</td>\n",
       "      <td>0.317600</td>\n",
       "      <td>0.066923</td>\n",
       "      <td>0.362000</td>\n",
       "      <td>0.042013</td>\n",
       "    </tr>\n",
       "    <tr>\n",
       "      <th>4</th>\n",
       "      <td>CHID40</td>\n",
       "      <td>0.117885</td>\n",
       "      <td>0.229596</td>\n",
       "      <td>0.347481</td>\n",
       "      <td>0.170156</td>\n",
       "    </tr>\n",
       "  </tbody>\n",
       "</table>\n",
       "</div>"
      ],
      "text/plain": [
       "  patient       IgM       IgG   IgM+IgG         k\n",
       "2  CHID79  0.154923  0.064222  0.190846  0.013120\n",
       "3  CHID32  0.224462  0.097577  0.322038  0.021517\n",
       "5  CHID08  0.093962  0.113101  0.197189  0.035013\n",
       "1  CHID77  0.317600  0.066923  0.362000  0.042013\n",
       "4  CHID40  0.117885  0.229596  0.347481  0.170156"
      ]
     },
     "execution_count": 8,
     "metadata": {},
     "output_type": "execute_result"
    }
   ],
   "source": [
    "\n",
    "dg = df.sort_values('k')[:-1]\n",
    "dg"
   ]
  },
  {
   "cell_type": "code",
   "execution_count": 27,
   "id": "4f898d1c",
   "metadata": {},
   "outputs": [
    {
     "data": {
      "text/plain": [
       "'IgM'"
      ]
     },
     "execution_count": 27,
     "metadata": {},
     "output_type": "execute_result"
    }
   ],
   "source": [
    "dg.columns[1]"
   ]
  },
  {
   "cell_type": "code",
   "execution_count": 63,
   "id": "28409ccd",
   "metadata": {},
   "outputs": [
    {
     "data": {
      "image/png": "[encoded data removed]",
      "text/plain": [
       "<Figure size 864x576 with 3 Axes>"
      ]
     },
     "metadata": {
      "needs_background": "light"
     },
     "output_type": "display_data"
    }
   ],
   "source": [
    "plt.figure(figsize=(12,8),tight_layout=True)\n",
    "cols = dg.columns[1:-1]\n",
    "for n in range(3):\n",
    "    ax = plt.subplot(331+n)\n",
    "#     ax.set_xlim(left=0.05, right=0.4)\n",
    "#     ax.set_ylim(bottom=0, top=0.4)\n",
    "    \n",
    "#     x = df[cols[n]]\n",
    "    plt.scatter(dg[cols[n]],dg['k'],label=cols[n])\n",
    "\n",
    "    X = dg[dg.columns[n+1]].values.reshape(-1,1)\n",
    "    y = dg['k'].values\n",
    "    reg = LinearRegression().fit(X,y)\n",
    "    k = reg.coef_[0]\n",
    "    b = reg.intercept_\n",
    "    t = np.arange(0.05,max(X) + 0.05, (max(X)-min(X))/100)\n",
    "    plt.plot(t, k*t+b)    \n",
    "\n",
    "    r,p = scipy.stats.pearsonr(dg[cols[n]], dg['k'])\n",
    "\n",
    "    plt.text(0.15, 0.9,'r = '+ str(round(r,3)),horizontalalignment='center',verticalalignment='center',transform = ax.transAxes)\n",
    "    plt.text(0.15, 0.8,'p = '+ str(round(p,3)),horizontalalignment='center',verticalalignment='center',transform = ax.transAxes)\n",
    "\n",
    "\n",
    "    plt.xlabel('Slope of '+cols[n]+ ' increase')\n",
    "    plt.ylabel('Slope of infectivity decay')\n",
    "#     plt.legend()\n",
    "#     plt.title(patient_cols[n])    \n",
    "\n",
    "plt.show()"
   ]
  }
 ],
 "metadata": {
  "kernelspec": {
   "display_name": "Python 3 (ipykernel)",
   "language": "python",
   "name": "python3"
  },
  "language_info": {
   "codemirror_mode": {
    "name": "ipython",
    "version": 3
   },
   "file_extension": ".py",
   "mimetype": "text/x-python",
   "name": "python",
   "nbconvert_exporter": "python",
   "pygments_lexer": "ipython3",
   "version": "3.9.7"
  }
 },
 "nbformat": 4,
 "nbformat_minor": 5
}
