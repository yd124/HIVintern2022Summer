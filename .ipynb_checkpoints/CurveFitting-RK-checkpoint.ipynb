{
 "cells": [
  {
   "cell_type": "code",
   "execution_count": 1,
   "id": "bf05c6e2",
   "metadata": {},
   "outputs": [],
   "source": [
    "import pandas as pd\n",
    "import numpy as np\n",
    "import matplotlib.pyplot as plt"
   ]
  },
  {
   "cell_type": "code",
   "execution_count": 2,
   "id": "fa493575",
   "metadata": {},
   "outputs": [
    {
     "data": {
      "text/html": [
       "<div>\n",
       "<style scoped>\n",
       "    .dataframe tbody tr th:only-of-type {\n",
       "        vertical-align: middle;\n",
       "    }\n",
       "\n",
       "    .dataframe tbody tr th {\n",
       "        vertical-align: top;\n",
       "    }\n",
       "\n",
       "    .dataframe thead th {\n",
       "        text-align: right;\n",
       "    }\n",
       "</style>\n",
       "<table border=\"1\" class=\"dataframe\">\n",
       "  <thead>\n",
       "    <tr style=\"text-align: right;\">\n",
       "      <th></th>\n",
       "      <th>patient</th>\n",
       "      <th>dpi</th>\n",
       "      <th>vRNA</th>\n",
       "      <th>IgM</th>\n",
       "      <th>IgG</th>\n",
       "      <th>log_vRNA</th>\n",
       "    </tr>\n",
       "  </thead>\n",
       "  <tbody>\n",
       "    <tr>\n",
       "      <th>0</th>\n",
       "      <td>CHID46</td>\n",
       "      <td>13</td>\n",
       "      <td>10910</td>\n",
       "      <td>-</td>\n",
       "      <td>-</td>\n",
       "      <td>4.037825</td>\n",
       "    </tr>\n",
       "    <tr>\n",
       "      <th>1</th>\n",
       "      <td>CHID46</td>\n",
       "      <td>16</td>\n",
       "      <td>108100</td>\n",
       "      <td>0.026</td>\n",
       "      <td>0.268</td>\n",
       "      <td>5.033826</td>\n",
       "    </tr>\n",
       "    <tr>\n",
       "      <th>2</th>\n",
       "      <td>CHID46</td>\n",
       "      <td>20</td>\n",
       "      <td>800000</td>\n",
       "      <td>0.371</td>\n",
       "      <td>0.354</td>\n",
       "      <td>5.903090</td>\n",
       "    </tr>\n",
       "    <tr>\n",
       "      <th>3</th>\n",
       "      <td>CHID46</td>\n",
       "      <td>23</td>\n",
       "      <td>922270</td>\n",
       "      <td>1.927</td>\n",
       "      <td>2.047</td>\n",
       "      <td>5.964858</td>\n",
       "    </tr>\n",
       "    <tr>\n",
       "      <th>4</th>\n",
       "      <td>CHID46</td>\n",
       "      <td>27</td>\n",
       "      <td>340400</td>\n",
       "      <td>1.512</td>\n",
       "      <td>2.335</td>\n",
       "      <td>5.531990</td>\n",
       "    </tr>\n",
       "    <tr>\n",
       "      <th>...</th>\n",
       "      <td>...</td>\n",
       "      <td>...</td>\n",
       "      <td>...</td>\n",
       "      <td>...</td>\n",
       "      <td>...</td>\n",
       "      <td>...</td>\n",
       "    </tr>\n",
       "    <tr>\n",
       "      <th>62</th>\n",
       "      <td>CHID08</td>\n",
       "      <td>19</td>\n",
       "      <td>5631550</td>\n",
       "      <td>0.014</td>\n",
       "      <td>0.175</td>\n",
       "      <td>6.750628</td>\n",
       "    </tr>\n",
       "    <tr>\n",
       "      <th>63</th>\n",
       "      <td>CHID08</td>\n",
       "      <td>24</td>\n",
       "      <td>6486240</td>\n",
       "      <td>0.114</td>\n",
       "      <td>0.258</td>\n",
       "      <td>6.811993</td>\n",
       "    </tr>\n",
       "    <tr>\n",
       "      <th>64</th>\n",
       "      <td>CHID08</td>\n",
       "      <td>26</td>\n",
       "      <td>2296060</td>\n",
       "      <td>0.795</td>\n",
       "      <td>0.585</td>\n",
       "      <td>6.360983</td>\n",
       "    </tr>\n",
       "    <tr>\n",
       "      <th>65</th>\n",
       "      <td>CHID08</td>\n",
       "      <td>31</td>\n",
       "      <td>26311</td>\n",
       "      <td>0.997</td>\n",
       "      <td>1.456</td>\n",
       "      <td>4.420137</td>\n",
       "    </tr>\n",
       "    <tr>\n",
       "      <th>66</th>\n",
       "      <td>CHID08</td>\n",
       "      <td>33</td>\n",
       "      <td>17425</td>\n",
       "      <td>0.872</td>\n",
       "      <td>1.579</td>\n",
       "      <td>4.241173</td>\n",
       "    </tr>\n",
       "  </tbody>\n",
       "</table>\n",
       "<p>67 rows × 6 columns</p>\n",
       "</div>"
      ],
      "text/plain": [
       "   patient  dpi     vRNA    IgM    IgG  log_vRNA\n",
       "0   CHID46   13    10910      -      -  4.037825\n",
       "1   CHID46   16   108100  0.026  0.268  5.033826\n",
       "2   CHID46   20   800000  0.371  0.354  5.903090\n",
       "3   CHID46   23   922270  1.927  2.047  5.964858\n",
       "4   CHID46   27   340400  1.512  2.335  5.531990\n",
       "..     ...  ...      ...    ...    ...       ...\n",
       "62  CHID08   19  5631550  0.014  0.175  6.750628\n",
       "63  CHID08   24  6486240  0.114  0.258  6.811993\n",
       "64  CHID08   26  2296060  0.795  0.585  6.360983\n",
       "65  CHID08   31    26311  0.997  1.456  4.420137\n",
       "66  CHID08   33    17425  0.872  1.579  4.241173\n",
       "\n",
       "[67 rows x 6 columns]"
      ]
     },
     "execution_count": 2,
     "metadata": {},
     "output_type": "execute_result"
    }
   ],
   "source": [
    "df = pd.read_csv('table2.csv') \n",
    "df.rename(columns={'Patient':'patient',\n",
    "                     'Days post Infection':'dpi',\n",
    "                     'vRNA copies/ml':'vRNA', \n",
    "                     'IgM (O.D.)':'IgM',\n",
    "                    'IgG (O.D.)':'IgG'}, inplace=True)\n",
    "\n",
    "df['log_vRNA'] = np.log10(df['vRNA'])\n",
    "df"
   ]
  },
  {
   "cell_type": "code",
   "execution_count": 14,
   "id": "636fbb50",
   "metadata": {},
   "outputs": [],
   "source": [
    "dg = df[['patient','dpi','log_vRNA']]"
   ]
  },
  {
   "cell_type": "code",
   "execution_count": 29,
   "id": "db44b876",
   "metadata": {},
   "outputs": [
    {
     "data": {
      "text/plain": [
       "array(['CHID46', 'CHID77', 'CHID79', 'CHID32', 'CHID40', 'CHID08'],\n",
       "      dtype=object)"
      ]
     },
     "execution_count": 29,
     "metadata": {},
     "output_type": "execute_result"
    }
   ],
   "source": [
    "patients = df.patient.unique()\n",
    "patients"
   ]
  },
  {
   "cell_type": "code",
   "execution_count": 85,
   "id": "f378fa6c",
   "metadata": {},
   "outputs": [],
   "source": [
    "dg1 = dg.groupby('patient').get_group(patients[0])"
   ]
  },
  {
   "cell_type": "code",
   "execution_count": 46,
   "id": "851ef428",
   "metadata": {},
   "outputs": [
    {
     "data": {
      "text/plain": [
       "6.040400571771011"
      ]
     },
     "execution_count": 46,
     "metadata": {},
     "output_type": "execute_result"
    }
   ],
   "source": [
    "dg1['log_vRNA'].max()"
   ]
  },
  {
   "cell_type": "code",
   "execution_count": 54,
   "id": "c6b282d1",
   "metadata": {},
   "outputs": [
    {
     "data": {
      "text/plain": [
       "57"
      ]
     },
     "execution_count": 54,
     "metadata": {},
     "output_type": "execute_result"
    }
   ],
   "source": [
    "dg1.loc[dg1['log_vRNA'] == dg1['log_vRNA'].max()].index[0]+1"
   ]
  },
  {
   "cell_type": "code",
   "execution_count": 56,
   "id": "83b3b6c5",
   "metadata": {},
   "outputs": [
    {
     "data": {
      "text/plain": [
       "patient       CHID40\n",
       "dpi               29\n",
       "log_vRNA    4.803873\n",
       "Name: 57, dtype: object"
      ]
     },
     "execution_count": 56,
     "metadata": {},
     "output_type": "execute_result"
    }
   ],
   "source": [
    "dg1.loc[57]"
   ]
  },
  {
   "cell_type": "code",
   "execution_count": 57,
   "id": "4f4672f3",
   "metadata": {},
   "outputs": [
    {
     "data": {
      "text/plain": [
       "patient       CHID40\n",
       "dpi               29\n",
       "log_vRNA    4.803873\n",
       "Name: 57, dtype: object"
      ]
     },
     "execution_count": 57,
     "metadata": {},
     "output_type": "execute_result"
    }
   ],
   "source": [
    "dg1.loc[dg1.loc[dg1['log_vRNA'] == dg1['log_vRNA'].max()].index[0] + 1]"
   ]
  },
  {
   "cell_type": "markdown",
   "id": "e0151b7d",
   "metadata": {},
   "source": [
    "[markers](https://matplotlib.org/stable/api/markers_api.html)\n",
    "\n",
    "[linestyle](https://matplotlib.org/stable/gallery/lines_bars_and_markers/linestyles.html)"
   ]
  },
  {
   "cell_type": "markdown",
   "id": "8c58c95f",
   "metadata": {},
   "source": [
    "* T: target cells （CD4$^+$ T cells)\n",
    "* I: productively infected CD4$^+$ T cells,\n",
    "* V: free virus\n",
    "\n",
    "\\begin{align}\n",
    "\\frac{dT}{dt} &= \\lambda -dT -\\beta(t)TV, \\quad T(0) =T_0\\\\\n",
    "\\frac{dI}{dt} &= \\beta(t) TV - \\delta I,\\quad  I(0)= I_0 \\\\\n",
    "\\frac{dV}{dt} &= pI - cV, \\quad V(0) = V_0\n",
    "\\end{align}\n",
    "where \n",
    "\\begin{align}\n",
    "\\beta(t) = \n",
    "\\begin{cases}\n",
    "\\beta_0, \\quad t\\leq \\tau \\\\\n",
    "\\beta_{\\infty} + (\\beta_0 - \\beta_{\\infty}) e^{-k(t-\\tau)}, \\quad t>\\tau\n",
    "\\end{cases}\n",
    "\\end{align}\n",
    "\n",
    "Determine the parameters $(\\beta_0,\\beta_{\\infty},\\lambda, d, \\delta, p, c, k, \\tau)$ so that it can fit the real data\n",
    "\n",
    "In this case, we will pick $c=23$, $\\lambda =dT_0$, that is \n",
    "\\begin{align}\n",
    "\\frac{dT}{dt} &= d\\cdot(T_0-T) -\\beta(t)TV, \\quad T(0) =T_0\\\\\n",
    "\\frac{dI}{dt} &= \\beta(t) TV - \\delta I,\\quad  I(0)= I_0 \\\\\n",
    "\\frac{dV}{dt} &= pI - 23V, \\quad V(0) = V_0\n",
    "\\end{align}"
   ]
  },
  {
   "cell_type": "code",
   "execution_count": null,
   "id": "60b302ae",
   "metadata": {},
   "outputs": [],
   "source": []
  },
  {
   "cell_type": "code",
   "execution_count": 5,
   "id": "c1ec091e",
   "metadata": {},
   "outputs": [],
   "source": [
    "# fT = dT/dt\n",
    "def fT(lda,d,T,b,V):\n",
    "    return d*10**4 - d*T - b*T*V\n",
    "\n",
    "# fI = dI/dt\n",
    "def fI(b,T,V,dlt,I):\n",
    "    return b*T*V-dlt*I\n",
    "\n",
    "# fV = dV/dt\n",
    "def fV(p,I,c,V):\n",
    "    return p*I-c*V\n",
    "\n",
    "def beta(t, tau, k,beta_0,beta_ifty):\n",
    "    if t <= tau:\n",
    "        return beta_0\n",
    "    else:\n",
    "        return beta_ifty + (beta_0-beta_ifty)*np.exp(-k*(t-tau))"
   ]
  },
  {
   "cell_type": "markdown",
   "id": "0ae7a3f4",
   "metadata": {},
   "source": [
    "###  Runge-Kutta 4th order \n",
    "Solve\n",
    "$\n",
    "\\frac{dy}{dt} = f(t,y)\n",
    "$ with $ y(0) = y_0 $\n",
    "by using\n",
    "\\begin{align}\n",
    "k_1 &= h f(t_n,y_n) \\\\\n",
    "k_2 &= h f(t_n+\\frac{h}{2}, y_n + \\frac{k_1}{2})\\\\\n",
    "k_3 &= h f(t_n+\\frac{h}{2}, y_n + \\frac{k_2}{2})\\\\\n",
    "k_4 &= h f(t_n +h, y_n + k_3) \\\\\n",
    "y_{n+1} &= y_n + \\frac{1}{6}k_1 + \\frac{1}{3}k_2 + \\frac{1}{3}k_3+\\frac{1}{6}k_4 + O(h^5)\n",
    "\\end{align}\n",
    "\n",
    "\n",
    "<!-- \\begin{align}\n",
    "T(t+\\Delta t) - T(t) &= \\Delta t \\cdot\\big(\\lambda - dT(t) - \\beta(t) T(t)V(t)\\big)\\\\\n",
    "I(t+\\Delta t) - I(t) &= \\Delta t\\cdot \\big(\\beta(t) T(t)V(t) - \\delta I(t)\\big) \\\\\n",
    "V(t+\\Delta t) - V(t) &= \\Delta t\\cdot\\big(pI(t) - cV(t)\\big)\n",
    "\\end{align} -->\n",
    "\n",
    "<!-- Backward Euler\n",
    "\n",
    "\\begin{align}\n",
    "T(t+h) - T(t) &= \\lambda - dT(t+h) - \\beta(t+h) T(t+h)V(t+h)\\\\\n",
    "I(t+h) - I(t) &= \\beta(t+h) T(t+h) V(t+h) - \\delta I(t+h) \\\\\n",
    "V(t+h) - V(t) &= pI(t+h) - cV(t+h)\n",
    "\\end{align} -->\n",
    "\n",
    "<!-- Then we have \n",
    "\\begin{align}\n",
    "T(t+h) - T(t) &= \n",
    "\n",
    "\n",
    "\\end{align} -->\n",
    "\n"
   ]
  },
  {
   "cell_type": "code",
   "execution_count": 6,
   "id": "e1722a6b",
   "metadata": {},
   "outputs": [],
   "source": [
    "def runge_kutta_4th(T,I,V,t,h,lda,c,param):\n",
    "    beta_0 = param[0]\n",
    "    beta_ifty = param[1] \n",
    "    k = param[2] \n",
    "    dlt = param[3] \n",
    "    p = param[4]\n",
    "    d = param[5]  \n",
    "    tau = param[6] \n",
    "    \n",
    "    \n",
    "    b1 = beta(t,tau,k,beta_0,beta_ifty)\n",
    "    Tk1 = h*fT(lda,d,T,b1,V)\n",
    "    Ik1 = h*fI(b1,T,V,dlt,I)\n",
    "    Vk1 = h*fV(p,I,c,V)\n",
    "    \n",
    "    #######################################\n",
    "    b2 = beta(t+h/2,tau,k,beta_0,beta_ifty)\n",
    "    T2 = T+Tk1/2\n",
    "    I2 = I+Ik1/2\n",
    "    V2 = V+Vk1/2\n",
    "    \n",
    "    Tk2 = h*fT(lda,d,T2,b2,V2)\n",
    "    Ik2 = h*fI(b2,T2,V2,dlt,I2)\n",
    "    Vk2 = h*fV(p,I2,c,V2)    \n",
    "    \n",
    "    #######################################\n",
    "    b3 = beta(t+h/2,tau,k,beta_0,beta_ifty)\n",
    "    T3 = T+Tk2/2\n",
    "    I3 = I+Ik2/2\n",
    "    V3 = V+Vk2/2\n",
    "    \n",
    "    Tk3 = h*fT(lda,d,T3,b3,V3)\n",
    "    Ik3 = h*fI(b3,T3,V3,dlt,I3)\n",
    "    Vk3 = h*fV(p,I3,c,V3)    \n",
    "    \n",
    "    #######################################\n",
    "    b4 = beta(t+h,tau,k,beta_0,beta_ifty)\n",
    "    T4 = T+Tk3/2\n",
    "    I4 = I+Ik3/2\n",
    "    V4 = V+Vk3/2\n",
    "    \n",
    "    Tk4 = h*fT(lda,d,T4,b4,V4)\n",
    "    Ik4 = h*fI(b4,T4,V4,dlt,I4)\n",
    "    Vk4 = h*fV(p,I4,c,V4)\n",
    "    \n",
    "    #######################################\n",
    "    T_new = T+Tk1/6+Tk2/3+Tk3/3+Tk4/6\n",
    "    I_new = I+Ik1/6+Ik2/3+Ik3/3+Ik4/6\n",
    "    V_new = V+Vk1/6+Vk2/3+Vk3/3+Vk4/6    \n",
    "    \n",
    "    return [max(T_new,0),max(I_new,0),max(V_new,0)]"
   ]
  },
  {
   "cell_type": "code",
   "execution_count": 7,
   "id": "2f96c46e",
   "metadata": {},
   "outputs": [],
   "source": [
    "def predict_v(init, beta_0,beta_ifty, k, dlt, p, d, tau):\n",
    "    \n",
    "    # initial value \n",
    "    T = N * [init[0]]\n",
    "    I = N * [init[1]]\n",
    "    V = N * [init[2]]\n",
    "    c = init[3] \n",
    "    \n",
    "    t_end = init[4]\n",
    "    h = init[5]\n",
    "    N = int(t_end/h)\n",
    "    \n",
    "    lda = d * init[0] \n",
    "    \n",
    "    param = [beta_0,beta_ifty, k, dlt, p, d, tau]\n",
    "    \n",
    "    i = 0\n",
    "    t = h\n",
    "    while t < t_end:\n",
    "        \n",
    "        T[i+1],I[i+1],V[i+1] = runge_kutta_4th(T[i],I[i],V[i],t,h,lda,c,param)\n",
    "\n",
    "        i += 1\n",
    "        t += h\n",
    "        \n",
    "    return V"
   ]
  },
  {
   "cell_type": "code",
   "execution_count": null,
   "id": "9801c806",
   "metadata": {},
   "outputs": [],
   "source": []
  },
  {
   "cell_type": "code",
   "execution_count": 10,
   "id": "66c1f087",
   "metadata": {},
   "outputs": [],
   "source": [
    "T0 = 10**4\n",
    "I0 = 0\n",
    "V0 = 10**-3\n",
    "c = 23\n",
    "\n",
    "t_end = 80\n",
    "h = 0.01"
   ]
  },
  {
   "cell_type": "code",
   "execution_count": 11,
   "id": "09a25923",
   "metadata": {},
   "outputs": [],
   "source": [
    "init = [T0,I0,V0,c,t_end,h]"
   ]
  },
  {
   "cell_type": "code",
   "execution_count": 194,
   "id": "72756b5f",
   "metadata": {},
   "outputs": [],
   "source": [
    "beta_0 = [10**-i for i in range(3,10)]\n",
    "beta_ifty = [.5*10**-i for i in range(3,10)]\n",
    "k = np.arange(0.01,0.1,0.01)\n",
    "dlt = np.arange(0.01,0.1,0.01)\n",
    "p = [10**i for i in range(4)]\n",
    "d = np.arange(0.01,0.1,0.01)\n",
    "tau = np.arange(1,25)"
   ]
  },
  {
   "cell_type": "code",
   "execution_count": 195,
   "id": "fb6cb9b7",
   "metadata": {},
   "outputs": [],
   "source": [
    "import itertools\n",
    "A = [beta_0,beta_ifty,k,dlt,p,d,tau]\n",
    "SA = list(itertools.product(*A))"
   ]
  },
  {
   "cell_type": "code",
   "execution_count": 202,
   "id": "114d0bf6",
   "metadata": {},
   "outputs": [],
   "source": [
    "SA1 = [x for x in SA if x[0] > x[1]]"
   ]
  },
  {
   "cell_type": "code",
   "execution_count": 203,
   "id": "b01b2a3f",
   "metadata": {},
   "outputs": [
    {
     "data": {
      "text/plain": [
       "1959552"
      ]
     },
     "execution_count": 203,
     "metadata": {},
     "output_type": "execute_result"
    }
   ],
   "source": [
    "len(SA1)"
   ]
  },
  {
   "cell_type": "code",
   "execution_count": 198,
   "id": "0371259e",
   "metadata": {},
   "outputs": [],
   "source": [
    "mn = float('inf')\n",
    "true = dg1['log_vRNA'].values"
   ]
  },
  {
   "cell_type": "code",
   "execution_count": 204,
   "id": "970dc3d0",
   "metadata": {},
   "outputs": [
    {
     "name": "stderr",
     "output_type": "stream",
     "text": [
      "/var/folders/f3/n_k12zn16934xvkj_g52jk4c0000gn/T/ipykernel_25967/1233831347.py:3: RuntimeWarning: overflow encountered in double_scalars\n",
      "  return d*10**4 - d*T - b*T*V\n",
      "/var/folders/f3/n_k12zn16934xvkj_g52jk4c0000gn/T/ipykernel_25967/1233831347.py:7: RuntimeWarning: overflow encountered in double_scalars\n",
      "  return b*T*V-dlt*I\n",
      "/var/folders/f3/n_k12zn16934xvkj_g52jk4c0000gn/T/ipykernel_25967/738040735.py:47: RuntimeWarning: invalid value encountered in double_scalars\n",
      "  T_new = T+Tk1/6+Tk2/3+Tk3/3+Tk4/6\n",
      "/var/folders/f3/n_k12zn16934xvkj_g52jk4c0000gn/T/ipykernel_25967/738040735.py:48: RuntimeWarning: invalid value encountered in double_scalars\n",
      "  I_new = I+Ik1/6+Ik2/3+Ik3/3+Ik4/6\n",
      "<timed exec>:2: RuntimeWarning: divide by zero encountered in log10\n",
      "/var/folders/f3/n_k12zn16934xvkj_g52jk4c0000gn/T/ipykernel_25967/1233831347.py:11: RuntimeWarning: overflow encountered in double_scalars\n",
      "  return p*I-c*V\n",
      "/var/folders/f3/n_k12zn16934xvkj_g52jk4c0000gn/T/ipykernel_25967/1233831347.py:11: RuntimeWarning: invalid value encountered in double_scalars\n",
      "  return p*I-c*V\n",
      "/var/folders/f3/n_k12zn16934xvkj_g52jk4c0000gn/T/ipykernel_25967/738040735.py:19: RuntimeWarning: invalid value encountered in double_scalars\n",
      "  I2 = I+Ik1/2\n"
     ]
    },
    {
     "ename": "KeyboardInterrupt",
     "evalue": "",
     "output_type": "error",
     "traceback": [
      "\u001b[0;31m---------------------------------------------------------------------------\u001b[0m",
      "\u001b[0;31mKeyboardInterrupt\u001b[0m                         Traceback (most recent call last)",
      "\u001b[0;32m<timed exec>\u001b[0m in \u001b[0;36m<module>\u001b[0;34m\u001b[0m\n",
      "\u001b[0;32m/var/folders/f3/n_k12zn16934xvkj_g52jk4c0000gn/T/ipykernel_25967/3358523425.py\u001b[0m in \u001b[0;36mpredict_v\u001b[0;34m(init, beta_0, beta_ifty, k, dlt, p, d, tau)\u001b[0m\n\u001b[1;32m     23\u001b[0m     \u001b[0;32mwhile\u001b[0m \u001b[0mt\u001b[0m \u001b[0;34m<\u001b[0m \u001b[0mt_end\u001b[0m\u001b[0;34m:\u001b[0m\u001b[0;34m\u001b[0m\u001b[0;34m\u001b[0m\u001b[0m\n\u001b[1;32m     24\u001b[0m \u001b[0;34m\u001b[0m\u001b[0m\n\u001b[0;32m---> 25\u001b[0;31m         \u001b[0mT\u001b[0m\u001b[0;34m[\u001b[0m\u001b[0mi\u001b[0m\u001b[0;34m+\u001b[0m\u001b[0;36m1\u001b[0m\u001b[0;34m]\u001b[0m\u001b[0;34m,\u001b[0m\u001b[0mI\u001b[0m\u001b[0;34m[\u001b[0m\u001b[0mi\u001b[0m\u001b[0;34m+\u001b[0m\u001b[0;36m1\u001b[0m\u001b[0;34m]\u001b[0m\u001b[0;34m,\u001b[0m\u001b[0mV\u001b[0m\u001b[0;34m[\u001b[0m\u001b[0mi\u001b[0m\u001b[0;34m+\u001b[0m\u001b[0;36m1\u001b[0m\u001b[0;34m]\u001b[0m \u001b[0;34m=\u001b[0m \u001b[0mrunge_kutta_4th\u001b[0m\u001b[0;34m(\u001b[0m\u001b[0mT\u001b[0m\u001b[0;34m[\u001b[0m\u001b[0mi\u001b[0m\u001b[0;34m]\u001b[0m\u001b[0;34m,\u001b[0m\u001b[0mI\u001b[0m\u001b[0;34m[\u001b[0m\u001b[0mi\u001b[0m\u001b[0;34m]\u001b[0m\u001b[0;34m,\u001b[0m\u001b[0mV\u001b[0m\u001b[0;34m[\u001b[0m\u001b[0mi\u001b[0m\u001b[0;34m]\u001b[0m\u001b[0;34m,\u001b[0m\u001b[0mt\u001b[0m\u001b[0;34m,\u001b[0m\u001b[0mh\u001b[0m\u001b[0;34m,\u001b[0m\u001b[0mlda\u001b[0m\u001b[0;34m,\u001b[0m\u001b[0mc\u001b[0m\u001b[0;34m,\u001b[0m\u001b[0mparam\u001b[0m\u001b[0;34m)\u001b[0m\u001b[0;34m\u001b[0m\u001b[0;34m\u001b[0m\u001b[0m\n\u001b[0m\u001b[1;32m     26\u001b[0m \u001b[0;34m\u001b[0m\u001b[0m\n\u001b[1;32m     27\u001b[0m         \u001b[0mi\u001b[0m \u001b[0;34m+=\u001b[0m \u001b[0;36m1\u001b[0m\u001b[0;34m\u001b[0m\u001b[0;34m\u001b[0m\u001b[0m\n",
      "\u001b[0;32m/var/folders/f3/n_k12zn16934xvkj_g52jk4c0000gn/T/ipykernel_25967/738040735.py\u001b[0m in \u001b[0;36mrunge_kutta_4th\u001b[0;34m(T, I, V, t, h, lda, c, param)\u001b[0m\n\u001b[1;32m     18\u001b[0m     \u001b[0mT2\u001b[0m \u001b[0;34m=\u001b[0m \u001b[0mT\u001b[0m\u001b[0;34m+\u001b[0m\u001b[0mTk1\u001b[0m\u001b[0;34m/\u001b[0m\u001b[0;36m2\u001b[0m\u001b[0;34m\u001b[0m\u001b[0;34m\u001b[0m\u001b[0m\n\u001b[1;32m     19\u001b[0m     \u001b[0mI2\u001b[0m \u001b[0;34m=\u001b[0m \u001b[0mI\u001b[0m\u001b[0;34m+\u001b[0m\u001b[0mIk1\u001b[0m\u001b[0;34m/\u001b[0m\u001b[0;36m2\u001b[0m\u001b[0;34m\u001b[0m\u001b[0;34m\u001b[0m\u001b[0m\n\u001b[0;32m---> 20\u001b[0;31m     \u001b[0mV2\u001b[0m \u001b[0;34m=\u001b[0m \u001b[0mV\u001b[0m\u001b[0;34m+\u001b[0m\u001b[0mVk1\u001b[0m\u001b[0;34m/\u001b[0m\u001b[0;36m2\u001b[0m\u001b[0;34m\u001b[0m\u001b[0;34m\u001b[0m\u001b[0m\n\u001b[0m\u001b[1;32m     21\u001b[0m \u001b[0;34m\u001b[0m\u001b[0m\n\u001b[1;32m     22\u001b[0m     \u001b[0mTk2\u001b[0m \u001b[0;34m=\u001b[0m \u001b[0mh\u001b[0m\u001b[0;34m*\u001b[0m\u001b[0mfT\u001b[0m\u001b[0;34m(\u001b[0m\u001b[0mlda\u001b[0m\u001b[0;34m,\u001b[0m\u001b[0md\u001b[0m\u001b[0;34m,\u001b[0m\u001b[0mT2\u001b[0m\u001b[0;34m,\u001b[0m\u001b[0mb2\u001b[0m\u001b[0;34m,\u001b[0m\u001b[0mV2\u001b[0m\u001b[0;34m)\u001b[0m\u001b[0;34m\u001b[0m\u001b[0;34m\u001b[0m\u001b[0m\n",
      "\u001b[0;31mKeyboardInterrupt\u001b[0m: "
     ]
    }
   ],
   "source": [
    "%%time \n",
    "for a in SA:\n",
    "    pred = np.log10(predict_v(init,a[0],a[1],a[2],a[3],a[4],a[5],a[6]))\n",
    "    \n",
    "    pred_LV = [pred[int(x/h)] for x in dg1.dpi.values]\n",
    "    mn = min(mn,  J(pred_LV, true))\n",
    "    mn_comb = a                \n",
    "                    \n",
    "    \n",
    "    "
   ]
  },
  {
   "cell_type": "code",
   "execution_count": 205,
   "id": "7bab27b9",
   "metadata": {},
   "outputs": [
    {
     "data": {
      "text/plain": [
       "(0.001, 0.0005, 0.03, 0.08, 1000, 0.01, 7)"
      ]
     },
     "execution_count": 205,
     "metadata": {},
     "output_type": "execute_result"
    }
   ],
   "source": [
    "mn_comb"
   ]
  },
  {
   "cell_type": "code",
   "execution_count": 142,
   "id": "73e48e90",
   "metadata": {},
   "outputs": [
    {
     "data": {
      "text/plain": [
       "<matplotlib.collections.PathCollection at 0x7fb14879ac40>"
      ]
     },
     "execution_count": 142,
     "metadata": {},
     "output_type": "execute_result"
    },
    {
     "data": {
      "image/png": "[encoded data removed]",
      "text/plain": [
       "<Figure size 432x288 with 1 Axes>"
      ]
     },
     "metadata": {
      "needs_background": "light"
     },
     "output_type": "display_data"
    }
   ],
   "source": [
    "pred = np.log10(predict_v(init,4.09*(10**-7), 0.233*(10**-6),0.249, 0.775,14.5*(10**3),0.030,7))\n",
    "plt.plot(np.arange(0,80,0.01),pred)\n",
    "df11 = df1.groupby('patient').get_group('CHID46')\n",
    "plt.scatter(df11.dpi,df11['log_vRNA'])"
   ]
  },
  {
   "cell_type": "code",
   "execution_count": 149,
   "id": "b326d4a8",
   "metadata": {},
   "outputs": [],
   "source": [
    "def J(pred,LV):\n",
    "    N = len(LV)\n",
    "    return 1/N * sum([(pred[i]-LV[i])**2 for i in range(N)])"
   ]
  },
  {
   "cell_type": "code",
   "execution_count": 145,
   "id": "634641f6",
   "metadata": {},
   "outputs": [
    {
     "data": {
      "text/plain": [
       "[3.9566622667922164,\n",
       " 4.994795371936321,\n",
       " 5.908798344008052,\n",
       " 5.9080635910708335,\n",
       " 5.420397693531324,\n",
       " 5.026510332318666,\n",
       " 4.444726475536109,\n",
       " 4.323853916004886,\n",
       " 4.175570174553303]"
      ]
     },
     "execution_count": 145,
     "metadata": {},
     "output_type": "execute_result"
    }
   ],
   "source": [
    "pred = [pred[int(x/h)] for x in dg1.dpi.values]\n",
    "pred"
   ]
  },
  {
   "cell_type": "code",
   "execution_count": 147,
   "id": "adb4259e",
   "metadata": {},
   "outputs": [
    {
     "data": {
      "text/plain": [
       "9"
      ]
     },
     "execution_count": 147,
     "metadata": {},
     "output_type": "execute_result"
    }
   ],
   "source": [
    "len(pred)"
   ]
  },
  {
   "cell_type": "code",
   "execution_count": 148,
   "id": "adbe5b83",
   "metadata": {},
   "outputs": [
    {
     "data": {
      "text/plain": [
       "9"
      ]
     },
     "execution_count": 148,
     "metadata": {},
     "output_type": "execute_result"
    }
   ],
   "source": [
    "len(dg1['log_vRNA'].values)"
   ]
  },
  {
   "cell_type": "code",
   "execution_count": 150,
   "id": "cc207d1b",
   "metadata": {},
   "outputs": [
    {
     "data": {
      "text/plain": [
       "0.008270064571845568"
      ]
     },
     "execution_count": 150,
     "metadata": {},
     "output_type": "execute_result"
    }
   ],
   "source": [
    "J(pred,dg1['log_vRNA'].values)"
   ]
  }
 ],
 "metadata": {
  "kernelspec": {
   "display_name": "Python 3 (ipykernel)",
   "language": "python",
   "name": "python3"
  },
  "language_info": {
   "codemirror_mode": {
    "name": "ipython",
    "version": 3
   },
   "file_extension": ".py",
   "mimetype": "text/x-python",
   "name": "python",
   "nbconvert_exporter": "python",
   "pygments_lexer": "ipython3",
   "version": "3.9.7"
  }
 },
 "nbformat": 4,
 "nbformat_minor": 5
}
