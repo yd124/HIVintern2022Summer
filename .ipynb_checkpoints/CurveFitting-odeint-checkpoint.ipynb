{
 "cells": [
  {
   "cell_type": "code",
   "execution_count": 64,
   "id": "bf05c6e2",
   "metadata": {},
   "outputs": [],
   "source": [
    "import pandas as pd\n",
    "import numpy as np\n",
    "import matplotlib.pyplot as plt\n",
    "\n",
    "from scipy.integrate import odeint\n"
   ]
  },
  {
   "cell_type": "code",
   "execution_count": 20,
   "id": "fa493575",
   "metadata": {},
   "outputs": [
    {
     "data": {
      "text/html": [
       "<div>\n",
       "<style scoped>\n",
       "    .dataframe tbody tr th:only-of-type {\n",
       "        vertical-align: middle;\n",
       "    }\n",
       "\n",
       "    .dataframe tbody tr th {\n",
       "        vertical-align: top;\n",
       "    }\n",
       "\n",
       "    .dataframe thead th {\n",
       "        text-align: right;\n",
       "    }\n",
       "</style>\n",
       "<table border=\"1\" class=\"dataframe\">\n",
       "  <thead>\n",
       "    <tr style=\"text-align: right;\">\n",
       "      <th></th>\n",
       "      <th>patient</th>\n",
       "      <th>dpi</th>\n",
       "      <th>vRNA</th>\n",
       "      <th>IgM</th>\n",
       "      <th>IgG</th>\n",
       "      <th>log_vRNA</th>\n",
       "    </tr>\n",
       "  </thead>\n",
       "  <tbody>\n",
       "    <tr>\n",
       "      <th>0</th>\n",
       "      <td>CHID46</td>\n",
       "      <td>13</td>\n",
       "      <td>10910</td>\n",
       "      <td>-</td>\n",
       "      <td>-</td>\n",
       "      <td>4.037825</td>\n",
       "    </tr>\n",
       "    <tr>\n",
       "      <th>1</th>\n",
       "      <td>CHID46</td>\n",
       "      <td>16</td>\n",
       "      <td>108100</td>\n",
       "      <td>0.026</td>\n",
       "      <td>0.268</td>\n",
       "      <td>5.033826</td>\n",
       "    </tr>\n",
       "    <tr>\n",
       "      <th>2</th>\n",
       "      <td>CHID46</td>\n",
       "      <td>20</td>\n",
       "      <td>800000</td>\n",
       "      <td>0.371</td>\n",
       "      <td>0.354</td>\n",
       "      <td>5.903090</td>\n",
       "    </tr>\n",
       "    <tr>\n",
       "      <th>3</th>\n",
       "      <td>CHID46</td>\n",
       "      <td>23</td>\n",
       "      <td>922270</td>\n",
       "      <td>1.927</td>\n",
       "      <td>2.047</td>\n",
       "      <td>5.964858</td>\n",
       "    </tr>\n",
       "    <tr>\n",
       "      <th>4</th>\n",
       "      <td>CHID46</td>\n",
       "      <td>27</td>\n",
       "      <td>340400</td>\n",
       "      <td>1.512</td>\n",
       "      <td>2.335</td>\n",
       "      <td>5.531990</td>\n",
       "    </tr>\n",
       "    <tr>\n",
       "      <th>...</th>\n",
       "      <td>...</td>\n",
       "      <td>...</td>\n",
       "      <td>...</td>\n",
       "      <td>...</td>\n",
       "      <td>...</td>\n",
       "      <td>...</td>\n",
       "    </tr>\n",
       "    <tr>\n",
       "      <th>62</th>\n",
       "      <td>CHID08</td>\n",
       "      <td>19</td>\n",
       "      <td>5631550</td>\n",
       "      <td>0.014</td>\n",
       "      <td>0.175</td>\n",
       "      <td>6.750628</td>\n",
       "    </tr>\n",
       "    <tr>\n",
       "      <th>63</th>\n",
       "      <td>CHID08</td>\n",
       "      <td>24</td>\n",
       "      <td>6486240</td>\n",
       "      <td>0.114</td>\n",
       "      <td>0.258</td>\n",
       "      <td>6.811993</td>\n",
       "    </tr>\n",
       "    <tr>\n",
       "      <th>64</th>\n",
       "      <td>CHID08</td>\n",
       "      <td>26</td>\n",
       "      <td>2296060</td>\n",
       "      <td>0.795</td>\n",
       "      <td>0.585</td>\n",
       "      <td>6.360983</td>\n",
       "    </tr>\n",
       "    <tr>\n",
       "      <th>65</th>\n",
       "      <td>CHID08</td>\n",
       "      <td>31</td>\n",
       "      <td>26311</td>\n",
       "      <td>0.997</td>\n",
       "      <td>1.456</td>\n",
       "      <td>4.420137</td>\n",
       "    </tr>\n",
       "    <tr>\n",
       "      <th>66</th>\n",
       "      <td>CHID08</td>\n",
       "      <td>33</td>\n",
       "      <td>17425</td>\n",
       "      <td>0.872</td>\n",
       "      <td>1.579</td>\n",
       "      <td>4.241173</td>\n",
       "    </tr>\n",
       "  </tbody>\n",
       "</table>\n",
       "<p>67 rows × 6 columns</p>\n",
       "</div>"
      ],
      "text/plain": [
       "   patient  dpi     vRNA    IgM    IgG  log_vRNA\n",
       "0   CHID46   13    10910      -      -  4.037825\n",
       "1   CHID46   16   108100  0.026  0.268  5.033826\n",
       "2   CHID46   20   800000  0.371  0.354  5.903090\n",
       "3   CHID46   23   922270  1.927  2.047  5.964858\n",
       "4   CHID46   27   340400  1.512  2.335  5.531990\n",
       "..     ...  ...      ...    ...    ...       ...\n",
       "62  CHID08   19  5631550  0.014  0.175  6.750628\n",
       "63  CHID08   24  6486240  0.114  0.258  6.811993\n",
       "64  CHID08   26  2296060  0.795  0.585  6.360983\n",
       "65  CHID08   31    26311  0.997  1.456  4.420137\n",
       "66  CHID08   33    17425  0.872  1.579  4.241173\n",
       "\n",
       "[67 rows x 6 columns]"
      ]
     },
     "execution_count": 20,
     "metadata": {},
     "output_type": "execute_result"
    }
   ],
   "source": [
    "df = pd.read_csv('table2.csv') \n",
    "df.rename(columns={'Patient':'patient',\n",
    "                     'Days post Infection':'dpi',\n",
    "                     'vRNA copies/ml':'vRNA', \n",
    "                     'IgM (O.D.)':'IgM',\n",
    "                    'IgG (O.D.)':'IgG'}, inplace=True)\n",
    "\n",
    "df['log_vRNA'] = np.log10(df['vRNA'])\n",
    "df"
   ]
  },
  {
   "cell_type": "code",
   "execution_count": 21,
   "id": "de3d5017",
   "metadata": {},
   "outputs": [
    {
     "data": {
      "text/html": [
       "<div>\n",
       "<style scoped>\n",
       "    .dataframe tbody tr th:only-of-type {\n",
       "        vertical-align: middle;\n",
       "    }\n",
       "\n",
       "    .dataframe tbody tr th {\n",
       "        vertical-align: top;\n",
       "    }\n",
       "\n",
       "    .dataframe thead th {\n",
       "        text-align: right;\n",
       "    }\n",
       "</style>\n",
       "<table border=\"1\" class=\"dataframe\">\n",
       "  <thead>\n",
       "    <tr style=\"text-align: right;\">\n",
       "      <th></th>\n",
       "      <th>patient</th>\n",
       "      <th>dpi</th>\n",
       "      <th>vRNA</th>\n",
       "    </tr>\n",
       "  </thead>\n",
       "  <tbody>\n",
       "    <tr>\n",
       "      <th>0</th>\n",
       "      <td>CHID46</td>\n",
       "      <td>13</td>\n",
       "      <td>10910</td>\n",
       "    </tr>\n",
       "    <tr>\n",
       "      <th>1</th>\n",
       "      <td>CHID46</td>\n",
       "      <td>16</td>\n",
       "      <td>108100</td>\n",
       "    </tr>\n",
       "    <tr>\n",
       "      <th>2</th>\n",
       "      <td>CHID46</td>\n",
       "      <td>20</td>\n",
       "      <td>800000</td>\n",
       "    </tr>\n",
       "    <tr>\n",
       "      <th>3</th>\n",
       "      <td>CHID46</td>\n",
       "      <td>23</td>\n",
       "      <td>922270</td>\n",
       "    </tr>\n",
       "    <tr>\n",
       "      <th>4</th>\n",
       "      <td>CHID46</td>\n",
       "      <td>27</td>\n",
       "      <td>340400</td>\n",
       "    </tr>\n",
       "    <tr>\n",
       "      <th>5</th>\n",
       "      <td>CHID46</td>\n",
       "      <td>30</td>\n",
       "      <td>77800</td>\n",
       "    </tr>\n",
       "    <tr>\n",
       "      <th>6</th>\n",
       "      <td>CHID46</td>\n",
       "      <td>36</td>\n",
       "      <td>27540</td>\n",
       "    </tr>\n",
       "    <tr>\n",
       "      <th>7</th>\n",
       "      <td>CHID46</td>\n",
       "      <td>38</td>\n",
       "      <td>14700</td>\n",
       "    </tr>\n",
       "    <tr>\n",
       "      <th>8</th>\n",
       "      <td>CHID46</td>\n",
       "      <td>43</td>\n",
       "      <td>18340</td>\n",
       "    </tr>\n",
       "  </tbody>\n",
       "</table>\n",
       "</div>"
      ],
      "text/plain": [
       "  patient  dpi    vRNA\n",
       "0  CHID46   13   10910\n",
       "1  CHID46   16  108100\n",
       "2  CHID46   20  800000\n",
       "3  CHID46   23  922270\n",
       "4  CHID46   27  340400\n",
       "5  CHID46   30   77800\n",
       "6  CHID46   36   27540\n",
       "7  CHID46   38   14700\n",
       "8  CHID46   43   18340"
      ]
     },
     "execution_count": 21,
     "metadata": {},
     "output_type": "execute_result"
    }
   ],
   "source": [
    "dg1=  df[['patient','dpi','vRNA']].groupby('patient').get_group('CHID46')\n",
    "dg1"
   ]
  },
  {
   "cell_type": "code",
   "execution_count": 49,
   "id": "636fbb50",
   "metadata": {},
   "outputs": [],
   "source": [
    "df1 = df[['patient','dpi','log_vRNA']]\n",
    "df11 = df1.groupby('patient').get_group('CHID46')\n",
    "\n",
    "\n",
    "\n",
    "\n",
    "df2 = df[['patient','dpi','IgM','IgG']].replace('-',np.nan).dropna()\n",
    "df2[['IgM','IgG']] = df2[['IgM','IgG']].astype(float)\n",
    "\n",
    "df2['IgM+IgG'] = df2['IgM'] + df2['IgG']\n"
   ]
  },
  {
   "cell_type": "code",
   "execution_count": 23,
   "id": "874f798f",
   "metadata": {},
   "outputs": [
    {
     "data": {
      "text/plain": [
       "array(['CHID46', 'CHID77', 'CHID79', 'CHID32', 'CHID40', 'CHID08'],\n",
       "      dtype=object)"
      ]
     },
     "execution_count": 23,
     "metadata": {},
     "output_type": "execute_result"
    }
   ],
   "source": [
    "patient_cols = df.patient.unique()\n",
    "patient_cols"
   ]
  },
  {
   "cell_type": "markdown",
   "id": "e0151b7d",
   "metadata": {},
   "source": [
    "[markers](https://matplotlib.org/stable/api/markers_api.html)\n",
    "\n",
    "[linestyle](https://matplotlib.org/stable/gallery/lines_bars_and_markers/linestyles.html)"
   ]
  },
  {
   "cell_type": "markdown",
   "id": "8c58c95f",
   "metadata": {},
   "source": [
    "* T: target cells （CD4$^+$ T cells)\n",
    "* I: productively infected CD4$^+$ T cells,\n",
    "* V: free virus\n",
    "\n",
    "\\begin{align}\n",
    "\\frac{dT}{dt} &= \\lambda -dT -\\beta(t)TV, \\quad T(0) =T_0\\\\\n",
    "\\frac{dI}{dt} &= \\beta(t) TV - \\delta I,\\quad  I(0)= I_0 \\\\\n",
    "\\frac{dV}{dt} &= pI - cV, \\quad V(0) = V_0\n",
    "\\end{align}\n",
    "where \n",
    "\\begin{align}\n",
    "\\beta(t) = \n",
    "\\begin{cases}\n",
    "\\beta_0, \\quad t\\leq \\tau \\\\\n",
    "\\beta_{\\infty} + (\\beta_0 - \\beta_{\\infty}) e^{-k(t-\\tau)}, \\quad t>\\tau\n",
    "\\end{cases}\n",
    "\\end{align}\n",
    "\n",
    "Determine the parameters $(\\beta_0,\\beta_{\\infty},\\lambda, d, \\delta, p, c, k, \\tau)$ so that it can fit the real data\n"
   ]
  },
  {
   "cell_type": "code",
   "execution_count": 24,
   "id": "cda70122",
   "metadata": {},
   "outputs": [],
   "source": [
    "T_0 = 10**4  # ml\n",
    "I_0 = 0\n",
    "V_0 = 10**-3"
   ]
  },
  {
   "cell_type": "code",
   "execution_count": 53,
   "id": "3549f256",
   "metadata": {},
   "outputs": [],
   "source": [
    "def beta(t, tau, k,beta_0,beta_ifty):\n",
    "    if t <= tau:\n",
    "        return beta_0\n",
    "    else:\n",
    "        return beta_ifty + (beta_0-beta_ifty)*np.exp(-k*(t-tau))\n",
    "    \n",
    "def model(y,t, tau, beta_0,beta_ifty,k,dlt,p,d,tau):\n",
    "    T = y[0]\n",
    "    I = y[1]\n",
    "    V = y[2]\n",
    "    \n",
    "    c=23\n",
    "    \n",
    "    b = beta(t, tau, k,beta_0,beta_ifty)\n",
    "    \n",
    "    dTdt = d*(10**4) - d * T - b*T*V\n",
    "    dIdt = b*T*V-dlt*I\n",
    "    dVdt = p*I-c*V\n",
    "    \n",
    "    dydt = [dTdt,dIdt,dVdt]\n",
    "    return dydt    "
   ]
  },
  {
   "cell_type": "code",
   "execution_count": 157,
   "id": "edc10e99",
   "metadata": {},
   "outputs": [],
   "source": [
    "def pred_LV(t, beta_0,beta_ifty,k,dlt,p,d,tau):\n",
    "    sol = odeint(model,[T_0,I_0,V_0],t, args =(beta_0,beta_ifty,k,dlt,p,d,tau))   \n",
    "#     pred = sol[:,2]\n",
    "#     return np.array([pred[int(x/h)] for x in dg1.dpi.values])\n",
    "    \n",
    "    pred = np.log10([x[2] for x in sol])  #  sol[:,2])\n",
    "    \n",
    "    return np.array([pred[int(x/h)] for x in df11.dpi.values])\n",
    "    "
   ]
  },
  {
   "cell_type": "code",
   "execution_count": 158,
   "id": "06808512",
   "metadata": {},
   "outputs": [],
   "source": [
    "from scipy.optimize import curve_fit\n",
    "t = np.linspace(0,80,8000)\n",
    "# ydata = df11['log_vRNA'].values\n",
    "ydata = dg1['vRNA'].values\n",
    "\n",
    "\n",
    "beta_0 = 4.09*(10**-7)\n",
    "beta_ifty = 0.233*(10**-6)\n",
    "k = 0.249\n",
    "dlt =  0.775\n",
    "p = 14.5*(10**3)\n",
    "d = 0.030\n",
    "tau = 7\n",
    "\n",
    "# p0=[beta_0,beta_ifty,k,dlt,p,d,tau]\n",
    "\n",
    "popt, pcov = curve_fit(pred_LV, t,ydata, bounds = ([0,0,0,0,0,0,0],[10**-6,10**-6,1,1,10**5,1,23]))\n",
    "\n",
    "\n",
    "\n",
    "\n"
   ]
  },
  {
   "cell_type": "code",
   "execution_count": 159,
   "id": "05a0ee85",
   "metadata": {},
   "outputs": [
    {
     "data": {
      "text/plain": [
       "array([9.99984147e-07, 9.96890774e-07, 4.99998086e-01, 3.15955479e-03,\n",
       "       9.97500000e+04, 9.96839593e-01, 1.15000000e+01])"
      ]
     },
     "execution_count": 159,
     "metadata": {},
     "output_type": "execute_result"
    }
   ],
   "source": [
    "popt"
   ]
  },
  {
   "cell_type": "code",
   "execution_count": 165,
   "id": "d57c9ac2",
   "metadata": {},
   "outputs": [
    {
     "data": {
      "text/plain": [
       "<matplotlib.collections.PathCollection at 0x7fe160aba250>"
      ]
     },
     "execution_count": 165,
     "metadata": {},
     "output_type": "execute_result"
    },
    {
     "data": {
      "image/png": "[encoded data removed]",
      "text/plain": [
       "<Figure size 432x288 with 1 Axes>"
      ]
     },
     "metadata": {
      "needs_background": "light"
     },
     "output_type": "display_data"
    }
   ],
   "source": [
    "\n",
    "beta_0,beta_ifty,k,dlt,p,d,tau = popt\n",
    "plt.scatter(df11.dpi.values, pred_LV(t,beta_0,beta_ifty,k,dlt,p,d,tau))\n",
    "plt.scatter(df11.dpi.values,ydata)"
   ]
  },
  {
   "cell_type": "code",
   "execution_count": null,
   "id": "c4ab791e",
   "metadata": {},
   "outputs": [],
   "source": []
  },
  {
   "cell_type": "code",
   "execution_count": 98,
   "id": "11d264d1",
   "metadata": {},
   "outputs": [
    {
     "data": {
      "text/plain": [
       "array([3.97027273, 5.00889396, 5.91448851, 5.90390299, 5.41316615,\n",
       "       5.01993402, 4.44082015, 4.32087869, 4.17478334])"
      ]
     },
     "execution_count": 98,
     "metadata": {},
     "output_type": "execute_result"
    }
   ],
   "source": [
    "pred_LV(beta_0,beta_ifty,k,dlt,p,d,tau)"
   ]
  },
  {
   "cell_type": "code",
   "execution_count": null,
   "id": "d771cc74",
   "metadata": {},
   "outputs": [],
   "source": []
  },
  {
   "cell_type": "code",
   "execution_count": 70,
   "id": "d9294d97",
   "metadata": {},
   "outputs": [
    {
     "data": {
      "text/plain": [
       "array([-3.        , -3.0985096 , -3.19381336, ...,  5.11873283,\n",
       "        5.11836521,  5.11799768])"
      ]
     },
     "execution_count": 70,
     "metadata": {},
     "output_type": "execute_result"
    }
   ],
   "source": [
    "beta_0 = 4.09*(10**-7)\n",
    "beta_ifty = 0.233*(10**-6)\n",
    "k = 0.249\n",
    "dlt =  0.775\n",
    "p = 14.5*(10**3)\n",
    "d = 0.030\n",
    "tau = 7\n",
    "pred = pred_LV(beta_0,beta_ifty,k,dlt,p,d,tau)\n",
    "pred"
   ]
  },
  {
   "cell_type": "code",
   "execution_count": 71,
   "id": "1e6a21c3",
   "metadata": {},
   "outputs": [
    {
     "data": {
      "text/plain": [
       "0    4.037825\n",
       "1    5.033826\n",
       "2    5.903090\n",
       "3    5.964858\n",
       "4    5.531990\n",
       "5    4.890980\n",
       "6    4.439964\n",
       "7    4.167317\n",
       "8    4.263399\n",
       "Name: log_vRNA, dtype: float64"
      ]
     },
     "execution_count": 71,
     "metadata": {},
     "output_type": "execute_result"
    }
   ],
   "source": [
    "df11['log_vRNA']"
   ]
  },
  {
   "cell_type": "code",
   "execution_count": 74,
   "id": "45b3a808",
   "metadata": {},
   "outputs": [],
   "source": [
    "xdata = [4.09*(10**-7), 0.233*(10**-6),0.249, 0.775,14.5*(10**3),0.030,7]"
   ]
  },
  {
   "cell_type": "code",
   "execution_count": 85,
   "id": "082446be",
   "metadata": {},
   "outputs": [
    {
     "data": {
      "text/plain": [
       "(9,)"
      ]
     },
     "execution_count": 85,
     "metadata": {},
     "output_type": "execute_result"
    }
   ],
   "source": [
    "ydata = df11['log_vRNA'].values\n",
    "ydata.shape"
   ]
  },
  {
   "cell_type": "code",
   "execution_count": 89,
   "id": "6d941b4c",
   "metadata": {},
   "outputs": [
    {
     "data": {
      "text/plain": [
       "9"
      ]
     },
     "execution_count": 89,
     "metadata": {},
     "output_type": "execute_result"
    }
   ],
   "source": [
    "len(pred_LV(4.09*(10**-7), 0.233*(10**-6),0.249, 0.775,14.5*(10**3),0.030,7))"
   ]
  },
  {
   "cell_type": "code",
   "execution_count": 90,
   "id": "ed588f70",
   "metadata": {},
   "outputs": [
    {
     "ename": "ValueError",
     "evalue": "setting an array element with a sequence. The requested array has an inhomogeneous shape after 1 dimensions. The detected shape was (3,) + inhomogeneous part.",
     "output_type": "error",
     "traceback": [
      "\u001b[0;31m---------------------------------------------------------------------------\u001b[0m",
      "\u001b[0;31mValueError\u001b[0m                                Traceback (most recent call last)",
      "\u001b[0;32m/var/folders/f3/n_k12zn16934xvkj_g52jk4c0000gn/T/ipykernel_38772/2427155072.py\u001b[0m in \u001b[0;36m<module>\u001b[0;34m\u001b[0m\n\u001b[1;32m      1\u001b[0m \u001b[0;32mfrom\u001b[0m \u001b[0mscipy\u001b[0m\u001b[0;34m.\u001b[0m\u001b[0moptimize\u001b[0m \u001b[0;32mimport\u001b[0m \u001b[0mcurve_fit\u001b[0m\u001b[0;34m\u001b[0m\u001b[0;34m\u001b[0m\u001b[0m\n\u001b[0;32m----> 2\u001b[0;31m \u001b[0mpopt\u001b[0m\u001b[0;34m,\u001b[0m \u001b[0mpcov\u001b[0m \u001b[0;34m=\u001b[0m \u001b[0mcurve_fit\u001b[0m\u001b[0;34m(\u001b[0m\u001b[0mpred_LV\u001b[0m\u001b[0;34m,\u001b[0m \u001b[0mxdata\u001b[0m\u001b[0;34m,\u001b[0m\u001b[0mydata\u001b[0m\u001b[0;34m)\u001b[0m\u001b[0;34m\u001b[0m\u001b[0;34m\u001b[0m\u001b[0m\n\u001b[0m",
      "\u001b[0;32m~/opt/anaconda3/lib/python3.9/site-packages/scipy/optimize/minpack.py\u001b[0m in \u001b[0;36mcurve_fit\u001b[0;34m(f, xdata, ydata, p0, sigma, absolute_sigma, check_finite, bounds, method, jac, **kwargs)\u001b[0m\n\u001b[1;32m    787\u001b[0m         \u001b[0;31m# Remove full_output from kwargs, otherwise we're passing it in twice.\u001b[0m\u001b[0;34m\u001b[0m\u001b[0;34m\u001b[0m\u001b[0m\n\u001b[1;32m    788\u001b[0m         \u001b[0mreturn_full\u001b[0m \u001b[0;34m=\u001b[0m \u001b[0mkwargs\u001b[0m\u001b[0;34m.\u001b[0m\u001b[0mpop\u001b[0m\u001b[0;34m(\u001b[0m\u001b[0;34m'full_output'\u001b[0m\u001b[0;34m,\u001b[0m \u001b[0;32mFalse\u001b[0m\u001b[0;34m)\u001b[0m\u001b[0;34m\u001b[0m\u001b[0;34m\u001b[0m\u001b[0m\n\u001b[0;32m--> 789\u001b[0;31m         \u001b[0mres\u001b[0m \u001b[0;34m=\u001b[0m \u001b[0mleastsq\u001b[0m\u001b[0;34m(\u001b[0m\u001b[0mfunc\u001b[0m\u001b[0;34m,\u001b[0m \u001b[0mp0\u001b[0m\u001b[0;34m,\u001b[0m \u001b[0mDfun\u001b[0m\u001b[0;34m=\u001b[0m\u001b[0mjac\u001b[0m\u001b[0;34m,\u001b[0m \u001b[0mfull_output\u001b[0m\u001b[0;34m=\u001b[0m\u001b[0;36m1\u001b[0m\u001b[0;34m,\u001b[0m \u001b[0;34m**\u001b[0m\u001b[0mkwargs\u001b[0m\u001b[0;34m)\u001b[0m\u001b[0;34m\u001b[0m\u001b[0;34m\u001b[0m\u001b[0m\n\u001b[0m\u001b[1;32m    790\u001b[0m         \u001b[0mpopt\u001b[0m\u001b[0;34m,\u001b[0m \u001b[0mpcov\u001b[0m\u001b[0;34m,\u001b[0m \u001b[0minfodict\u001b[0m\u001b[0;34m,\u001b[0m \u001b[0merrmsg\u001b[0m\u001b[0;34m,\u001b[0m \u001b[0mier\u001b[0m \u001b[0;34m=\u001b[0m \u001b[0mres\u001b[0m\u001b[0;34m\u001b[0m\u001b[0;34m\u001b[0m\u001b[0m\n\u001b[1;32m    791\u001b[0m         \u001b[0mysize\u001b[0m \u001b[0;34m=\u001b[0m \u001b[0mlen\u001b[0m\u001b[0;34m(\u001b[0m\u001b[0minfodict\u001b[0m\u001b[0;34m[\u001b[0m\u001b[0;34m'fvec'\u001b[0m\u001b[0;34m]\u001b[0m\u001b[0;34m)\u001b[0m\u001b[0;34m\u001b[0m\u001b[0;34m\u001b[0m\u001b[0m\n",
      "\u001b[0;32m~/opt/anaconda3/lib/python3.9/site-packages/scipy/optimize/minpack.py\u001b[0m in \u001b[0;36mleastsq\u001b[0;34m(func, x0, args, Dfun, full_output, col_deriv, ftol, xtol, gtol, maxfev, epsfcn, factor, diag)\u001b[0m\n\u001b[1;32m    408\u001b[0m     \u001b[0;32mif\u001b[0m \u001b[0;32mnot\u001b[0m \u001b[0misinstance\u001b[0m\u001b[0;34m(\u001b[0m\u001b[0margs\u001b[0m\u001b[0;34m,\u001b[0m \u001b[0mtuple\u001b[0m\u001b[0;34m)\u001b[0m\u001b[0;34m:\u001b[0m\u001b[0;34m\u001b[0m\u001b[0;34m\u001b[0m\u001b[0m\n\u001b[1;32m    409\u001b[0m         \u001b[0margs\u001b[0m \u001b[0;34m=\u001b[0m \u001b[0;34m(\u001b[0m\u001b[0margs\u001b[0m\u001b[0;34m,\u001b[0m\u001b[0;34m)\u001b[0m\u001b[0;34m\u001b[0m\u001b[0;34m\u001b[0m\u001b[0m\n\u001b[0;32m--> 410\u001b[0;31m     \u001b[0mshape\u001b[0m\u001b[0;34m,\u001b[0m \u001b[0mdtype\u001b[0m \u001b[0;34m=\u001b[0m \u001b[0m_check_func\u001b[0m\u001b[0;34m(\u001b[0m\u001b[0;34m'leastsq'\u001b[0m\u001b[0;34m,\u001b[0m \u001b[0;34m'func'\u001b[0m\u001b[0;34m,\u001b[0m \u001b[0mfunc\u001b[0m\u001b[0;34m,\u001b[0m \u001b[0mx0\u001b[0m\u001b[0;34m,\u001b[0m \u001b[0margs\u001b[0m\u001b[0;34m,\u001b[0m \u001b[0mn\u001b[0m\u001b[0;34m)\u001b[0m\u001b[0;34m\u001b[0m\u001b[0;34m\u001b[0m\u001b[0m\n\u001b[0m\u001b[1;32m    411\u001b[0m     \u001b[0mm\u001b[0m \u001b[0;34m=\u001b[0m \u001b[0mshape\u001b[0m\u001b[0;34m[\u001b[0m\u001b[0;36m0\u001b[0m\u001b[0;34m]\u001b[0m\u001b[0;34m\u001b[0m\u001b[0;34m\u001b[0m\u001b[0m\n\u001b[1;32m    412\u001b[0m \u001b[0;34m\u001b[0m\u001b[0m\n",
      "\u001b[0;32m~/opt/anaconda3/lib/python3.9/site-packages/scipy/optimize/minpack.py\u001b[0m in \u001b[0;36m_check_func\u001b[0;34m(checker, argname, thefunc, x0, args, numinputs, output_shape)\u001b[0m\n\u001b[1;32m     22\u001b[0m def _check_func(checker, argname, thefunc, x0, args, numinputs,\n\u001b[1;32m     23\u001b[0m                 output_shape=None):\n\u001b[0;32m---> 24\u001b[0;31m     \u001b[0mres\u001b[0m \u001b[0;34m=\u001b[0m \u001b[0matleast_1d\u001b[0m\u001b[0;34m(\u001b[0m\u001b[0mthefunc\u001b[0m\u001b[0;34m(\u001b[0m\u001b[0;34m*\u001b[0m\u001b[0;34m(\u001b[0m\u001b[0;34m(\u001b[0m\u001b[0mx0\u001b[0m\u001b[0;34m[\u001b[0m\u001b[0;34m:\u001b[0m\u001b[0mnuminputs\u001b[0m\u001b[0;34m]\u001b[0m\u001b[0;34m,\u001b[0m\u001b[0;34m)\u001b[0m \u001b[0;34m+\u001b[0m \u001b[0margs\u001b[0m\u001b[0;34m)\u001b[0m\u001b[0;34m)\u001b[0m\u001b[0;34m)\u001b[0m\u001b[0;34m\u001b[0m\u001b[0;34m\u001b[0m\u001b[0m\n\u001b[0m\u001b[1;32m     25\u001b[0m     \u001b[0;32mif\u001b[0m \u001b[0;34m(\u001b[0m\u001b[0moutput_shape\u001b[0m \u001b[0;32mis\u001b[0m \u001b[0;32mnot\u001b[0m \u001b[0;32mNone\u001b[0m\u001b[0;34m)\u001b[0m \u001b[0;32mand\u001b[0m \u001b[0;34m(\u001b[0m\u001b[0mshape\u001b[0m\u001b[0;34m(\u001b[0m\u001b[0mres\u001b[0m\u001b[0;34m)\u001b[0m \u001b[0;34m!=\u001b[0m \u001b[0moutput_shape\u001b[0m\u001b[0;34m)\u001b[0m\u001b[0;34m:\u001b[0m\u001b[0;34m\u001b[0m\u001b[0;34m\u001b[0m\u001b[0m\n\u001b[1;32m     26\u001b[0m         \u001b[0;32mif\u001b[0m \u001b[0;34m(\u001b[0m\u001b[0moutput_shape\u001b[0m\u001b[0;34m[\u001b[0m\u001b[0;36m0\u001b[0m\u001b[0;34m]\u001b[0m \u001b[0;34m!=\u001b[0m \u001b[0;36m1\u001b[0m\u001b[0;34m)\u001b[0m\u001b[0;34m:\u001b[0m\u001b[0;34m\u001b[0m\u001b[0;34m\u001b[0m\u001b[0m\n",
      "\u001b[0;32m~/opt/anaconda3/lib/python3.9/site-packages/scipy/optimize/minpack.py\u001b[0m in \u001b[0;36mfunc_wrapped\u001b[0;34m(params)\u001b[0m\n\u001b[1;32m    483\u001b[0m     \u001b[0;32mif\u001b[0m \u001b[0mtransform\u001b[0m \u001b[0;32mis\u001b[0m \u001b[0;32mNone\u001b[0m\u001b[0;34m:\u001b[0m\u001b[0;34m\u001b[0m\u001b[0;34m\u001b[0m\u001b[0m\n\u001b[1;32m    484\u001b[0m         \u001b[0;32mdef\u001b[0m \u001b[0mfunc_wrapped\u001b[0m\u001b[0;34m(\u001b[0m\u001b[0mparams\u001b[0m\u001b[0;34m)\u001b[0m\u001b[0;34m:\u001b[0m\u001b[0;34m\u001b[0m\u001b[0;34m\u001b[0m\u001b[0m\n\u001b[0;32m--> 485\u001b[0;31m             \u001b[0;32mreturn\u001b[0m \u001b[0mfunc\u001b[0m\u001b[0;34m(\u001b[0m\u001b[0mxdata\u001b[0m\u001b[0;34m,\u001b[0m \u001b[0;34m*\u001b[0m\u001b[0mparams\u001b[0m\u001b[0;34m)\u001b[0m \u001b[0;34m-\u001b[0m \u001b[0mydata\u001b[0m\u001b[0;34m\u001b[0m\u001b[0;34m\u001b[0m\u001b[0m\n\u001b[0m\u001b[1;32m    486\u001b[0m     \u001b[0;32melif\u001b[0m \u001b[0mtransform\u001b[0m\u001b[0;34m.\u001b[0m\u001b[0mndim\u001b[0m \u001b[0;34m==\u001b[0m \u001b[0;36m1\u001b[0m\u001b[0;34m:\u001b[0m\u001b[0;34m\u001b[0m\u001b[0;34m\u001b[0m\u001b[0m\n\u001b[1;32m    487\u001b[0m         \u001b[0;32mdef\u001b[0m \u001b[0mfunc_wrapped\u001b[0m\u001b[0;34m(\u001b[0m\u001b[0mparams\u001b[0m\u001b[0;34m)\u001b[0m\u001b[0;34m:\u001b[0m\u001b[0;34m\u001b[0m\u001b[0;34m\u001b[0m\u001b[0m\n",
      "\u001b[0;32m/var/folders/f3/n_k12zn16934xvkj_g52jk4c0000gn/T/ipykernel_38772/255391157.py\u001b[0m in \u001b[0;36mpred_LV\u001b[0;34m(beta_0, beta_ifty, k, dlt, p, d, tau)\u001b[0m\n\u001b[1;32m      1\u001b[0m \u001b[0;32mdef\u001b[0m \u001b[0mpred_LV\u001b[0m\u001b[0;34m(\u001b[0m\u001b[0mbeta_0\u001b[0m\u001b[0;34m,\u001b[0m\u001b[0mbeta_ifty\u001b[0m\u001b[0;34m,\u001b[0m\u001b[0mk\u001b[0m\u001b[0;34m,\u001b[0m\u001b[0mdlt\u001b[0m\u001b[0;34m,\u001b[0m\u001b[0mp\u001b[0m\u001b[0;34m,\u001b[0m\u001b[0md\u001b[0m\u001b[0;34m,\u001b[0m\u001b[0mtau\u001b[0m\u001b[0;34m)\u001b[0m\u001b[0;34m:\u001b[0m\u001b[0;34m\u001b[0m\u001b[0;34m\u001b[0m\u001b[0m\n\u001b[0;32m----> 2\u001b[0;31m     \u001b[0msol\u001b[0m \u001b[0;34m=\u001b[0m \u001b[0modeint\u001b[0m\u001b[0;34m(\u001b[0m\u001b[0mmodel\u001b[0m\u001b[0;34m,\u001b[0m\u001b[0;34m[\u001b[0m\u001b[0mT_0\u001b[0m\u001b[0;34m,\u001b[0m\u001b[0mI_0\u001b[0m\u001b[0;34m,\u001b[0m\u001b[0mV_0\u001b[0m\u001b[0;34m]\u001b[0m\u001b[0;34m,\u001b[0m\u001b[0mt\u001b[0m\u001b[0;34m,\u001b[0m \u001b[0margs\u001b[0m \u001b[0;34m=\u001b[0m\u001b[0;34m(\u001b[0m\u001b[0mbeta_0\u001b[0m\u001b[0;34m,\u001b[0m\u001b[0mbeta_ifty\u001b[0m\u001b[0;34m,\u001b[0m\u001b[0mk\u001b[0m\u001b[0;34m,\u001b[0m\u001b[0mdlt\u001b[0m\u001b[0;34m,\u001b[0m\u001b[0mp\u001b[0m\u001b[0;34m,\u001b[0m\u001b[0md\u001b[0m\u001b[0;34m,\u001b[0m\u001b[0mtau\u001b[0m\u001b[0;34m)\u001b[0m\u001b[0;34m)\u001b[0m\u001b[0;34m\u001b[0m\u001b[0;34m\u001b[0m\u001b[0m\n\u001b[0m\u001b[1;32m      3\u001b[0m     \u001b[0mpred\u001b[0m \u001b[0;34m=\u001b[0m \u001b[0mnp\u001b[0m\u001b[0;34m.\u001b[0m\u001b[0mlog10\u001b[0m\u001b[0;34m(\u001b[0m\u001b[0;34m[\u001b[0m\u001b[0mx\u001b[0m\u001b[0;34m[\u001b[0m\u001b[0;36m2\u001b[0m\u001b[0;34m]\u001b[0m \u001b[0;32mfor\u001b[0m \u001b[0mx\u001b[0m \u001b[0;32min\u001b[0m \u001b[0msol\u001b[0m\u001b[0;34m]\u001b[0m\u001b[0;34m)\u001b[0m\u001b[0;34m\u001b[0m\u001b[0;34m\u001b[0m\u001b[0m\n\u001b[1;32m      4\u001b[0m \u001b[0;34m\u001b[0m\u001b[0m\n\u001b[1;32m      5\u001b[0m     \u001b[0;32mreturn\u001b[0m \u001b[0;34m[\u001b[0m\u001b[0mpred\u001b[0m\u001b[0;34m[\u001b[0m\u001b[0mint\u001b[0m\u001b[0;34m(\u001b[0m\u001b[0mx\u001b[0m\u001b[0;34m/\u001b[0m\u001b[0mh\u001b[0m\u001b[0;34m)\u001b[0m\u001b[0;34m]\u001b[0m \u001b[0;32mfor\u001b[0m \u001b[0mx\u001b[0m \u001b[0;32min\u001b[0m \u001b[0mdf11\u001b[0m\u001b[0;34m.\u001b[0m\u001b[0mdpi\u001b[0m\u001b[0;34m.\u001b[0m\u001b[0mvalues\u001b[0m\u001b[0;34m]\u001b[0m\u001b[0;34m\u001b[0m\u001b[0;34m\u001b[0m\u001b[0m\n",
      "\u001b[0;32m~/opt/anaconda3/lib/python3.9/site-packages/scipy/integrate/odepack.py\u001b[0m in \u001b[0;36modeint\u001b[0;34m(func, y0, t, args, Dfun, col_deriv, full_output, ml, mu, rtol, atol, tcrit, h0, hmax, hmin, ixpr, mxstep, mxhnil, mxordn, mxords, printmessg, tfirst)\u001b[0m\n\u001b[1;32m    239\u001b[0m     \u001b[0mt\u001b[0m \u001b[0;34m=\u001b[0m \u001b[0mcopy\u001b[0m\u001b[0;34m(\u001b[0m\u001b[0mt\u001b[0m\u001b[0;34m)\u001b[0m\u001b[0;34m\u001b[0m\u001b[0;34m\u001b[0m\u001b[0m\n\u001b[1;32m    240\u001b[0m     \u001b[0my0\u001b[0m \u001b[0;34m=\u001b[0m \u001b[0mcopy\u001b[0m\u001b[0;34m(\u001b[0m\u001b[0my0\u001b[0m\u001b[0;34m)\u001b[0m\u001b[0;34m\u001b[0m\u001b[0;34m\u001b[0m\u001b[0m\n\u001b[0;32m--> 241\u001b[0;31m     output = _odepack.odeint(func, y0, t, args, Dfun, col_deriv, ml, mu,\n\u001b[0m\u001b[1;32m    242\u001b[0m                              \u001b[0mfull_output\u001b[0m\u001b[0;34m,\u001b[0m \u001b[0mrtol\u001b[0m\u001b[0;34m,\u001b[0m \u001b[0matol\u001b[0m\u001b[0;34m,\u001b[0m \u001b[0mtcrit\u001b[0m\u001b[0;34m,\u001b[0m \u001b[0mh0\u001b[0m\u001b[0;34m,\u001b[0m \u001b[0mhmax\u001b[0m\u001b[0;34m,\u001b[0m \u001b[0mhmin\u001b[0m\u001b[0;34m,\u001b[0m\u001b[0;34m\u001b[0m\u001b[0;34m\u001b[0m\u001b[0m\n\u001b[1;32m    243\u001b[0m                              \u001b[0mixpr\u001b[0m\u001b[0;34m,\u001b[0m \u001b[0mmxstep\u001b[0m\u001b[0;34m,\u001b[0m \u001b[0mmxhnil\u001b[0m\u001b[0;34m,\u001b[0m \u001b[0mmxordn\u001b[0m\u001b[0;34m,\u001b[0m \u001b[0mmxords\u001b[0m\u001b[0;34m,\u001b[0m\u001b[0;34m\u001b[0m\u001b[0;34m\u001b[0m\u001b[0m\n",
      "\u001b[0;31mValueError\u001b[0m: setting an array element with a sequence. The requested array has an inhomogeneous shape after 1 dimensions. The detected shape was (3,) + inhomogeneous part."
     ]
    }
   ],
   "source": [
    "from scipy.optimize import curve_fit\n",
    "popt, pcov = curve_fit(pred_LV, xdata,ydata)"
   ]
  },
  {
   "cell_type": "code",
   "execution_count": null,
   "id": "938ba56f",
   "metadata": {},
   "outputs": [],
   "source": []
  },
  {
   "cell_type": "code",
   "execution_count": null,
   "id": "a851b3c3",
   "metadata": {},
   "outputs": [],
   "source": []
  },
  {
   "cell_type": "code",
   "execution_count": null,
   "id": "5dfc1374",
   "metadata": {},
   "outputs": [],
   "source": []
  },
  {
   "cell_type": "code",
   "execution_count": null,
   "id": "1e720336",
   "metadata": {},
   "outputs": [],
   "source": []
  },
  {
   "cell_type": "code",
   "execution_count": null,
   "id": "f7da8a3c",
   "metadata": {},
   "outputs": [],
   "source": []
  },
  {
   "cell_type": "code",
   "execution_count": null,
   "id": "815dc209",
   "metadata": {},
   "outputs": [],
   "source": []
  },
  {
   "cell_type": "code",
   "execution_count": null,
   "id": "53150db7",
   "metadata": {},
   "outputs": [],
   "source": []
  },
  {
   "cell_type": "code",
   "execution_count": null,
   "id": "97612588",
   "metadata": {},
   "outputs": [],
   "source": []
  },
  {
   "cell_type": "code",
   "execution_count": 57,
   "id": "58f236bf",
   "metadata": {},
   "outputs": [],
   "source": [
    "beta_0 = 4.09*(10**-7)\n",
    "beta_ifty = 0.233*(10**-6)\n",
    "k = 0.249\n",
    "dlt =  0.775\n",
    "p = 14.5*(10**3)\n",
    "d = 0.030\n",
    "tau = 7\n",
    "\n",
    "sol = odeint(model,[T_0,I_0,V_0],t, args =(beta_0,beta_ifty,k,dlt,p,d,tau))\n",
    "pred_V = [x[2] for x in sol]"
   ]
  },
  {
   "cell_type": "code",
   "execution_count": null,
   "id": "0556e4d3",
   "metadata": {},
   "outputs": [],
   "source": []
  },
  {
   "cell_type": "code",
   "execution_count": 63,
   "id": "ddc6b8ce",
   "metadata": {},
   "outputs": [
    {
     "ename": "NameError",
     "evalue": "name 'init' is not defined",
     "output_type": "error",
     "traceback": [
      "\u001b[0;31m---------------------------------------------------------------------------\u001b[0m",
      "\u001b[0;31mNameError\u001b[0m                                 Traceback (most recent call last)",
      "\u001b[0;32m/var/folders/f3/n_k12zn16934xvkj_g52jk4c0000gn/T/ipykernel_38772/4136317310.py\u001b[0m in \u001b[0;36m<module>\u001b[0;34m\u001b[0m\n\u001b[0;32m----> 1\u001b[0;31m \u001b[0mpred_V\u001b[0m \u001b[0;34m=\u001b[0m \u001b[0mpredV\u001b[0m\u001b[0;34m(\u001b[0m\u001b[0minit\u001b[0m\u001b[0;34m,\u001b[0m\u001b[0mbeta_0\u001b[0m\u001b[0;34m,\u001b[0m\u001b[0mbeta_ifty\u001b[0m\u001b[0;34m,\u001b[0m\u001b[0mk\u001b[0m\u001b[0;34m,\u001b[0m\u001b[0mdlt\u001b[0m\u001b[0;34m,\u001b[0m\u001b[0mp\u001b[0m\u001b[0;34m,\u001b[0m\u001b[0md\u001b[0m\u001b[0;34m,\u001b[0m\u001b[0mtau\u001b[0m\u001b[0;34m)\u001b[0m\u001b[0;34m\u001b[0m\u001b[0;34m\u001b[0m\u001b[0m\n\u001b[0m",
      "\u001b[0;31mNameError\u001b[0m: name 'init' is not defined"
     ]
    }
   ],
   "source": [
    "pred_V = predV(init,beta_0,beta_ifty,k,dlt,p,d,tau)"
   ]
  },
  {
   "cell_type": "code",
   "execution_count": 37,
   "id": "e2ee447b",
   "metadata": {},
   "outputs": [],
   "source": [
    "t = np.linspace(0,80,8000)\n"
   ]
  },
  {
   "cell_type": "code",
   "execution_count": 58,
   "id": "08f21d48",
   "metadata": {},
   "outputs": [
    {
     "data": {
      "text/plain": [
       "<matplotlib.collections.PathCollection at 0x7fe150d82d30>"
      ]
     },
     "execution_count": 58,
     "metadata": {},
     "output_type": "execute_result"
    },
    {
     "data": {
      "image/png": "[encoded data removed]",
      "text/plain": [
       "<Figure size 432x288 with 1 Axes>"
      ]
     },
     "metadata": {
      "needs_background": "light"
     },
     "output_type": "display_data"
    }
   ],
   "source": [
    "\n",
    "plt.plot(t,pred_V)\n",
    "plt.scatter(dg1.dpi,dg1.vRNA)"
   ]
  },
  {
   "cell_type": "code",
   "execution_count": 62,
   "id": "967be485",
   "metadata": {},
   "outputs": [],
   "source": [
    "def predV(init,beta_0,beta_ifty,k,dlt,p,d,tau):\n",
    "    sol = odeint(model,[T_0,I_0,V_0],t,beta_0,beta_ifty,k,dlt,p,d,tau)\n",
    "    return [x[2] for x in sol]\n",
    "\n"
   ]
  },
  {
   "cell_type": "code",
   "execution_count": 51,
   "id": "2c185a5f",
   "metadata": {},
   "outputs": [
    {
     "data": {
      "text/plain": [
       "0.007912575158182143"
      ]
     },
     "execution_count": 51,
     "metadata": {},
     "output_type": "execute_result"
    }
   ],
   "source": [
    "pred_LV = np.log10(pred_V)\n",
    "h = 0.01\n",
    "pred_LV = [pred_LV[int(x/h)] for x in df11.dpi.values]\n",
    "J(pred_LV,df11['log_vRNA'])"
   ]
  },
  {
   "cell_type": "code",
   "execution_count": null,
   "id": "727d4e06",
   "metadata": {},
   "outputs": [],
   "source": []
  },
  {
   "cell_type": "code",
   "execution_count": 44,
   "id": "b0c54d7c",
   "metadata": {},
   "outputs": [],
   "source": [
    "def J(pred,LV):\n",
    "    N = len(LV)\n",
    "    return 1/N * sum([(pred[i]-LV[i])**2 for i in range(N)])"
   ]
  },
  {
   "cell_type": "code",
   "execution_count": null,
   "id": "e5ce3b51",
   "metadata": {},
   "outputs": [],
   "source": [
    "def J(beta_0,beta_infty, k, delta, p, d):\n",
    "    return 1/N * sum(([np.log10(V[i]) -np.log10(V_true[i])**2 for i in range(N)])   "
   ]
  }
 ],
 "metadata": {
  "kernelspec": {
   "display_name": "Python 3 (ipykernel)",
   "language": "python",
   "name": "python3"
  },
  "language_info": {
   "codemirror_mode": {
    "name": "ipython",
    "version": 3
   },
   "file_extension": ".py",
   "mimetype": "text/x-python",
   "name": "python",
   "nbconvert_exporter": "python",
   "pygments_lexer": "ipython3",
   "version": "3.9.7"
  }
 },
 "nbformat": 4,
 "nbformat_minor": 5
}
