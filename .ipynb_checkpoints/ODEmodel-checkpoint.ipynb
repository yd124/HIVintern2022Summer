{
 "cells": [
  {
   "cell_type": "code",
   "execution_count": 8,
   "id": "bf05c6e2",
   "metadata": {},
   "outputs": [],
   "source": [
    "import pandas as pd\n",
    "import numpy as np"
   ]
  },
  {
   "cell_type": "markdown",
   "id": "8c58c95f",
   "metadata": {},
   "source": [
    "* T: target cells （CD4$^+$ T cells)\n",
    "* I: productively infected CD4$^+$ T cells,\n",
    "* V: free virus\n",
    "\n",
    "\\begin{align}\n",
    "\\frac{dT}{dt} &= \\lambda -dT -\\beta(t)TV, \\quad T(0) =T_0\\\\\n",
    "\\frac{dI}{dt} &= \\beta(t) TV - \\delta I,\\quad  I(0)= I_0 \\\\\n",
    "\\frac{dV}{dt} &= pI - cV, \\quad V(0) = V_0\n",
    "\\end{align}\n",
    "where \n",
    "\\begin{align}\n",
    "\\beta(t) = \n",
    "\\begin{cases}\n",
    "\\beta_0, \\quad t\\leq \\tau \\\\\n",
    "\\beta_{\\infty} + (\\beta_0 - \\beta_{\\infty}) e^{-k(t-\\tau)}, \\quad t>\\tau\n",
    "\\end{cases}\n",
    "\\end{align}\n",
    "\n",
    "Determine the parameters $(\\beta_0,\\beta_{\\infty},\\lambda, d, \\delta, p, c, k, \\tau)$ so that it can fit the real data\n"
   ]
  },
  {
   "cell_type": "markdown",
   "id": "2d8d9bb3",
   "metadata": {},
   "source": [
    "You can also use odeit() https://docs.scipy.org/doc/scipy/reference/generated/scipy.integrate.odeint.html\n"
   ]
  },
  {
   "cell_type": "markdown",
   "id": "0ae7a3f4",
   "metadata": {},
   "source": [
    "Forward Euler \n",
    "\n",
    "\\begin{align}\n",
    "T(t+h) - T(t) &= \\lambda - dT(t) - \\beta(t) T(t)V(t)\\\\\n",
    "I(t+h) - I(t) &= \\beta(t) T(t)V(t) - \\delta I(t) \\\\\n",
    "V(t+h) - V(t) &= pI(t) - cV(t)\n",
    "\\end{align}\n",
    "\n",
    "Backward Euler\n",
    "\n",
    "\\begin{align}\n",
    "T(t+h) - T(t) &= \\lambda - dT(t+h) - \\beta(t+h) T(t+h)V(t+h)\\\\\n",
    "I(t+h) - I(t) &= \\beta(t+h) T(t+h) V(t+h) - \\delta I(t+h) \\\\\n",
    "V(t+h) - V(t) &= pI(t+h) - cV(t+h)\n",
    "\\end{align}\n",
    "\n",
    "<!-- Then we have \n",
    "\\begin{align}\n",
    "T(t+h) - T(t) &= \n",
    "\n",
    "\n",
    "\\end{align} -->\n",
    "\n"
   ]
  },
  {
   "cell_type": "code",
   "execution_count": 12,
   "id": "273c13b2",
   "metadata": {},
   "outputs": [],
   "source": [
    "T_0 = 10**4 \n",
    "I_0 = 0\n",
    "V_0 = 10**-3\n",
    "c = 23 # day^-1  p.2\n",
    "# lbda = d * T_0 \n",
    "tau = 1 # try 1 day in increments\n",
    "\n"
   ]
  },
  {
   "cell_type": "code",
   "execution_count": 2,
   "id": "3b24abb3",
   "metadata": {},
   "outputs": [],
   "source": [
    "def beta(t, tau, k):\n",
    "    if t <= tau:\n",
    "        return beta_0\n",
    "    else:\n",
    "        return beta_infty + (beta_0-beta_infty)*exp(-k*(t-tau))"
   ]
  },
  {
   "cell_type": "code",
   "execution_count": 4,
   "id": "54b7cdef",
   "metadata": {},
   "outputs": [],
   "source": [
    "# T_end = 1 \n",
    "# N = 5\n",
    "\n",
    "# h = T/N\n",
    "# t = 0\n",
    "\n",
    "# old_T = T_0\n",
    "# old_I = I_0\n",
    "# old_V = V_0 \n",
    "\n",
    "\n",
    "# while t < T_end:\n",
    "#     # Forward Euler\n",
    "#     new_T = old_T + d*T_0 - d*old_T - beta(t,tau,k)*old_T*old_V \n",
    "#     new_I = old_I + beta(t,tau,k)*old_T*old_v - delta*old_I\n",
    "#     new_V = old_V + p*old_I - c*old_V\n",
    "    \n",
    "#     # Backward Euler\n",
    "#     new_T = old_T + lbda - d*old_T - beta(t,tau,k)*old_T*old_V \n",
    "#     new_I = old_I + beta(t,tau,k)*old_T*old_V - delta*old_I\n",
    "#     new_V = old_V + p*old_I - c*old_V    \n",
    "    \n",
    "    \n",
    "#     old_T = new_T\n",
    "#     old_I = new_I\n",
    "#     old_V = new_V\n",
    "    \n",
    "#     t += h"
   ]
  },
  {
   "cell_type": "code",
   "execution_count": null,
   "id": "938f13f5",
   "metadata": {},
   "outputs": [],
   "source": [
    "T_end = 1 \n",
    "N = 5\n",
    "\n",
    "h = T/N\n",
    "t = 0\n",
    "\n",
    "T = N * [T_0]\n",
    "I = N * [I_0]\n",
    "V = N * [V_0]\n",
    "\n",
    "i = 0\n",
    "while t < T_end:\n",
    "    # Forward Euler\n",
    "    T[i+1] = T[i] + d*T_0 - d*T[i] - beta(t,tau,k)*T[i]*V[i]\n",
    "    I[i+1] = I[i] + beta(t,tau,k)*T[i]*V[i] - delta*I[i]\n",
    "    V[i+1] = V[i] + p*I[i] - c*V[i]\n",
    "    \n",
    "    i += 1\n",
    "    t += h\n",
    "\n",
    "def J(beta_0,beta_infty, k, delta, p, d):\n",
    "    return 1/N * sum(([np.log10(V[i]) -np.log10(V_true[i])**2 for i in range(N)])    "
   ]
  },
  {
   "cell_type": "code",
   "execution_count": null,
   "id": "edf01799",
   "metadata": {},
   "outputs": [],
   "source": []
  },
  {
   "cell_type": "code",
   "execution_count": null,
   "id": "4cdc8afe",
   "metadata": {},
   "outputs": [],
   "source": []
  },
  {
   "cell_type": "code",
   "execution_count": null,
   "id": "006eb52b",
   "metadata": {},
   "outputs": [],
   "source": []
  }
 ],
 "metadata": {
  "kernelspec": {
   "display_name": "Python 3 (ipykernel)",
   "language": "python",
   "name": "python3"
  },
  "language_info": {
   "codemirror_mode": {
    "name": "ipython",
    "version": 3
   },
   "file_extension": ".py",
   "mimetype": "text/x-python",
   "name": "python",
   "nbconvert_exporter": "python",
   "pygments_lexer": "ipython3",
   "version": "3.9.7"
  }
 },
 "nbformat": 4,
 "nbformat_minor": 5
}
