{
 "cells": [
  {
   "cell_type": "code",
   "execution_count": 1,
   "id": "2311f158",
   "metadata": {},
   "outputs": [],
   "source": [
    "import pandas as pd\n",
    "import numpy as np\n",
    "import matplotlib.pyplot as plt"
   ]
  },
  {
   "cell_type": "code",
   "execution_count": 26,
   "id": "c1284957",
   "metadata": {},
   "outputs": [
    {
     "data": {
      "text/html": [
       "<div>\n",
       "<style scoped>\n",
       "    .dataframe tbody tr th:only-of-type {\n",
       "        vertical-align: middle;\n",
       "    }\n",
       "\n",
       "    .dataframe tbody tr th {\n",
       "        vertical-align: top;\n",
       "    }\n",
       "\n",
       "    .dataframe thead th {\n",
       "        text-align: right;\n",
       "    }\n",
       "</style>\n",
       "<table border=\"1\" class=\"dataframe\">\n",
       "  <thead>\n",
       "    <tr style=\"text-align: right;\">\n",
       "      <th></th>\n",
       "      <th>patient</th>\n",
       "      <th>dpi</th>\n",
       "      <th>vRNA</th>\n",
       "      <th>IgM</th>\n",
       "      <th>IgG</th>\n",
       "      <th>log_vRNA</th>\n",
       "    </tr>\n",
       "  </thead>\n",
       "  <tbody>\n",
       "    <tr>\n",
       "      <th>0</th>\n",
       "      <td>CHID46</td>\n",
       "      <td>13</td>\n",
       "      <td>10910</td>\n",
       "      <td>-</td>\n",
       "      <td>-</td>\n",
       "      <td>4.037825</td>\n",
       "    </tr>\n",
       "    <tr>\n",
       "      <th>1</th>\n",
       "      <td>CHID46</td>\n",
       "      <td>16</td>\n",
       "      <td>108100</td>\n",
       "      <td>0.026</td>\n",
       "      <td>0.268</td>\n",
       "      <td>5.033826</td>\n",
       "    </tr>\n",
       "    <tr>\n",
       "      <th>2</th>\n",
       "      <td>CHID46</td>\n",
       "      <td>20</td>\n",
       "      <td>800000</td>\n",
       "      <td>0.371</td>\n",
       "      <td>0.354</td>\n",
       "      <td>5.903090</td>\n",
       "    </tr>\n",
       "    <tr>\n",
       "      <th>3</th>\n",
       "      <td>CHID46</td>\n",
       "      <td>23</td>\n",
       "      <td>922270</td>\n",
       "      <td>1.927</td>\n",
       "      <td>2.047</td>\n",
       "      <td>5.964858</td>\n",
       "    </tr>\n",
       "    <tr>\n",
       "      <th>4</th>\n",
       "      <td>CHID46</td>\n",
       "      <td>27</td>\n",
       "      <td>340400</td>\n",
       "      <td>1.512</td>\n",
       "      <td>2.335</td>\n",
       "      <td>5.531990</td>\n",
       "    </tr>\n",
       "    <tr>\n",
       "      <th>...</th>\n",
       "      <td>...</td>\n",
       "      <td>...</td>\n",
       "      <td>...</td>\n",
       "      <td>...</td>\n",
       "      <td>...</td>\n",
       "      <td>...</td>\n",
       "    </tr>\n",
       "    <tr>\n",
       "      <th>62</th>\n",
       "      <td>CHID08</td>\n",
       "      <td>19</td>\n",
       "      <td>5631550</td>\n",
       "      <td>0.014</td>\n",
       "      <td>0.175</td>\n",
       "      <td>6.750628</td>\n",
       "    </tr>\n",
       "    <tr>\n",
       "      <th>63</th>\n",
       "      <td>CHID08</td>\n",
       "      <td>24</td>\n",
       "      <td>6486240</td>\n",
       "      <td>0.114</td>\n",
       "      <td>0.258</td>\n",
       "      <td>6.811993</td>\n",
       "    </tr>\n",
       "    <tr>\n",
       "      <th>64</th>\n",
       "      <td>CHID08</td>\n",
       "      <td>26</td>\n",
       "      <td>2296060</td>\n",
       "      <td>0.795</td>\n",
       "      <td>0.585</td>\n",
       "      <td>6.360983</td>\n",
       "    </tr>\n",
       "    <tr>\n",
       "      <th>65</th>\n",
       "      <td>CHID08</td>\n",
       "      <td>31</td>\n",
       "      <td>26311</td>\n",
       "      <td>0.997</td>\n",
       "      <td>1.456</td>\n",
       "      <td>4.420137</td>\n",
       "    </tr>\n",
       "    <tr>\n",
       "      <th>66</th>\n",
       "      <td>CHID08</td>\n",
       "      <td>33</td>\n",
       "      <td>17425</td>\n",
       "      <td>0.872</td>\n",
       "      <td>1.579</td>\n",
       "      <td>4.241173</td>\n",
       "    </tr>\n",
       "  </tbody>\n",
       "</table>\n",
       "<p>67 rows × 6 columns</p>\n",
       "</div>"
      ],
      "text/plain": [
       "   patient  dpi     vRNA    IgM    IgG  log_vRNA\n",
       "0   CHID46   13    10910      -      -  4.037825\n",
       "1   CHID46   16   108100  0.026  0.268  5.033826\n",
       "2   CHID46   20   800000  0.371  0.354  5.903090\n",
       "3   CHID46   23   922270  1.927  2.047  5.964858\n",
       "4   CHID46   27   340400  1.512  2.335  5.531990\n",
       "..     ...  ...      ...    ...    ...       ...\n",
       "62  CHID08   19  5631550  0.014  0.175  6.750628\n",
       "63  CHID08   24  6486240  0.114  0.258  6.811993\n",
       "64  CHID08   26  2296060  0.795  0.585  6.360983\n",
       "65  CHID08   31    26311  0.997  1.456  4.420137\n",
       "66  CHID08   33    17425  0.872  1.579  4.241173\n",
       "\n",
       "[67 rows x 6 columns]"
      ]
     },
     "execution_count": 26,
     "metadata": {},
     "output_type": "execute_result"
    }
   ],
   "source": [
    "df = pd.read_csv('table2.csv') \n",
    "df.rename(columns={'Patient':'patient',\n",
    "                     'Days post Infection':'dpi',\n",
    "                     'vRNA copies/ml':'vRNA', \n",
    "                     'IgM (O.D.)':'IgM',\n",
    "                    'IgG (O.D.)':'IgG'}, inplace=True)\n",
    "\n",
    "df['log_vRNA'] = np.log10(df['vRNA'])\n",
    "df\n",
    "\n"
   ]
  },
  {
   "cell_type": "markdown",
   "id": "e96c6590",
   "metadata": {},
   "source": [
    "###  `log_vRNA` data "
   ]
  },
  {
   "cell_type": "code",
   "execution_count": 34,
   "id": "323e1509",
   "metadata": {},
   "outputs": [],
   "source": [
    "patients = df.patient.unique()"
   ]
  },
  {
   "cell_type": "code",
   "execution_count": 35,
   "id": "743fe008",
   "metadata": {},
   "outputs": [],
   "source": [
    "df1 = df[['patient','dpi','log_vRNA']]\n",
    "# df1"
   ]
  },
  {
   "cell_type": "code",
   "execution_count": 46,
   "id": "88701c5f",
   "metadata": {},
   "outputs": [],
   "source": [
    "for p in patients:\n",
    "    df11 = df1.groupby('patient').get_group(p)\n",
    "    df11[['dpi','log_vRNA']].to_csv('data/'+p,index=False, header=False)"
   ]
  },
  {
   "cell_type": "code",
   "execution_count": null,
   "id": "b9ca2456",
   "metadata": {},
   "outputs": [],
   "source": []
  },
  {
   "cell_type": "code",
   "execution_count": null,
   "id": "8a266749",
   "metadata": {},
   "outputs": [],
   "source": []
  },
  {
   "cell_type": "code",
   "execution_count": null,
   "id": "d44a449b",
   "metadata": {},
   "outputs": [],
   "source": []
  },
  {
   "cell_type": "code",
   "execution_count": null,
   "id": "13684a66",
   "metadata": {},
   "outputs": [],
   "source": []
  },
  {
   "cell_type": "code",
   "execution_count": 27,
   "id": "e2084456",
   "metadata": {},
   "outputs": [
    {
     "data": {
      "text/plain": [
       "array(['CHID46', 'CHID77', 'CHID79', 'CHID32', 'CHID40', 'CHID08'],\n",
       "      dtype=object)"
      ]
     },
     "execution_count": 27,
     "metadata": {},
     "output_type": "execute_result"
    }
   ],
   "source": [
    "df.patient.unique()"
   ]
  },
  {
   "cell_type": "code",
   "execution_count": 21,
   "id": "06d6699e",
   "metadata": {},
   "outputs": [
    {
     "data": {
      "text/html": [
       "<div>\n",
       "<style scoped>\n",
       "    .dataframe tbody tr th:only-of-type {\n",
       "        vertical-align: middle;\n",
       "    }\n",
       "\n",
       "    .dataframe tbody tr th {\n",
       "        vertical-align: top;\n",
       "    }\n",
       "\n",
       "    .dataframe thead th {\n",
       "        text-align: right;\n",
       "    }\n",
       "</style>\n",
       "<table border=\"1\" class=\"dataframe\">\n",
       "  <thead>\n",
       "    <tr style=\"text-align: right;\">\n",
       "      <th></th>\n",
       "      <th>patient</th>\n",
       "      <th>dpi</th>\n",
       "      <th>vRNA</th>\n",
       "    </tr>\n",
       "  </thead>\n",
       "  <tbody>\n",
       "    <tr>\n",
       "      <th>0</th>\n",
       "      <td>CHID46</td>\n",
       "      <td>13</td>\n",
       "      <td>10910</td>\n",
       "    </tr>\n",
       "    <tr>\n",
       "      <th>1</th>\n",
       "      <td>CHID46</td>\n",
       "      <td>16</td>\n",
       "      <td>108100</td>\n",
       "    </tr>\n",
       "    <tr>\n",
       "      <th>2</th>\n",
       "      <td>CHID46</td>\n",
       "      <td>20</td>\n",
       "      <td>800000</td>\n",
       "    </tr>\n",
       "    <tr>\n",
       "      <th>3</th>\n",
       "      <td>CHID46</td>\n",
       "      <td>23</td>\n",
       "      <td>922270</td>\n",
       "    </tr>\n",
       "    <tr>\n",
       "      <th>4</th>\n",
       "      <td>CHID46</td>\n",
       "      <td>27</td>\n",
       "      <td>340400</td>\n",
       "    </tr>\n",
       "    <tr>\n",
       "      <th>...</th>\n",
       "      <td>...</td>\n",
       "      <td>...</td>\n",
       "      <td>...</td>\n",
       "    </tr>\n",
       "    <tr>\n",
       "      <th>62</th>\n",
       "      <td>CHID08</td>\n",
       "      <td>19</td>\n",
       "      <td>5631550</td>\n",
       "    </tr>\n",
       "    <tr>\n",
       "      <th>63</th>\n",
       "      <td>CHID08</td>\n",
       "      <td>24</td>\n",
       "      <td>6486240</td>\n",
       "    </tr>\n",
       "    <tr>\n",
       "      <th>64</th>\n",
       "      <td>CHID08</td>\n",
       "      <td>26</td>\n",
       "      <td>2296060</td>\n",
       "    </tr>\n",
       "    <tr>\n",
       "      <th>65</th>\n",
       "      <td>CHID08</td>\n",
       "      <td>31</td>\n",
       "      <td>26311</td>\n",
       "    </tr>\n",
       "    <tr>\n",
       "      <th>66</th>\n",
       "      <td>CHID08</td>\n",
       "      <td>33</td>\n",
       "      <td>17425</td>\n",
       "    </tr>\n",
       "  </tbody>\n",
       "</table>\n",
       "<p>67 rows × 3 columns</p>\n",
       "</div>"
      ],
      "text/plain": [
       "   patient  dpi     vRNA\n",
       "0   CHID46   13    10910\n",
       "1   CHID46   16   108100\n",
       "2   CHID46   20   800000\n",
       "3   CHID46   23   922270\n",
       "4   CHID46   27   340400\n",
       "..     ...  ...      ...\n",
       "62  CHID08   19  5631550\n",
       "63  CHID08   24  6486240\n",
       "64  CHID08   26  2296060\n",
       "65  CHID08   31    26311\n",
       "66  CHID08   33    17425\n",
       "\n",
       "[67 rows x 3 columns]"
      ]
     },
     "execution_count": 21,
     "metadata": {},
     "output_type": "execute_result"
    }
   ],
   "source": [
    "dg1 = df[['patient','dpi','vRNA']]\n",
    "dg1"
   ]
  },
  {
   "cell_type": "code",
   "execution_count": 28,
   "id": "3c880670",
   "metadata": {},
   "outputs": [],
   "source": [
    "dg11 = dg1.groupby('patient').get_group('CHID77')\n",
    "dg11[['dpi','vRNA']].to_csv('dg11.csv',index=False, header=False)"
   ]
  },
  {
   "cell_type": "code",
   "execution_count": 29,
   "id": "c3a5ac6e",
   "metadata": {},
   "outputs": [],
   "source": [
    "df1 = df[['patient','dpi','log_vRNA']]"
   ]
  },
  {
   "cell_type": "code",
   "execution_count": 31,
   "id": "9c7ec643",
   "metadata": {},
   "outputs": [],
   "source": [
    "df11 = df1.groupby('patient').get_group('CHID77')\n",
    "df11[['dpi','log_vRNA']].to_csv('df11.csv',index=False, header=False)"
   ]
  },
  {
   "cell_type": "code",
   "execution_count": 16,
   "id": "6a5bdf11",
   "metadata": {},
   "outputs": [
    {
     "data": {
      "text/html": [
       "<div>\n",
       "<style scoped>\n",
       "    .dataframe tbody tr th:only-of-type {\n",
       "        vertical-align: middle;\n",
       "    }\n",
       "\n",
       "    .dataframe tbody tr th {\n",
       "        vertical-align: top;\n",
       "    }\n",
       "\n",
       "    .dataframe thead th {\n",
       "        text-align: right;\n",
       "    }\n",
       "</style>\n",
       "<table border=\"1\" class=\"dataframe\">\n",
       "  <thead>\n",
       "    <tr style=\"text-align: right;\">\n",
       "      <th></th>\n",
       "      <th>patient</th>\n",
       "      <th>dpi</th>\n",
       "      <th>IgM</th>\n",
       "      <th>IgG</th>\n",
       "      <th>IgM+IgG</th>\n",
       "    </tr>\n",
       "  </thead>\n",
       "  <tbody>\n",
       "    <tr>\n",
       "      <th>1</th>\n",
       "      <td>CHID46</td>\n",
       "      <td>16</td>\n",
       "      <td>0.026</td>\n",
       "      <td>0.268</td>\n",
       "      <td>0.294</td>\n",
       "    </tr>\n",
       "    <tr>\n",
       "      <th>2</th>\n",
       "      <td>CHID46</td>\n",
       "      <td>20</td>\n",
       "      <td>0.371</td>\n",
       "      <td>0.354</td>\n",
       "      <td>0.725</td>\n",
       "    </tr>\n",
       "    <tr>\n",
       "      <th>3</th>\n",
       "      <td>CHID46</td>\n",
       "      <td>23</td>\n",
       "      <td>1.927</td>\n",
       "      <td>2.047</td>\n",
       "      <td>3.974</td>\n",
       "    </tr>\n",
       "    <tr>\n",
       "      <th>4</th>\n",
       "      <td>CHID46</td>\n",
       "      <td>27</td>\n",
       "      <td>1.512</td>\n",
       "      <td>2.335</td>\n",
       "      <td>3.847</td>\n",
       "    </tr>\n",
       "    <tr>\n",
       "      <th>5</th>\n",
       "      <td>CHID46</td>\n",
       "      <td>30</td>\n",
       "      <td>1.023</td>\n",
       "      <td>2.526</td>\n",
       "      <td>3.549</td>\n",
       "    </tr>\n",
       "  </tbody>\n",
       "</table>\n",
       "</div>"
      ],
      "text/plain": [
       "  patient  dpi    IgM    IgG  IgM+IgG\n",
       "1  CHID46   16  0.026  0.268    0.294\n",
       "2  CHID46   20  0.371  0.354    0.725\n",
       "3  CHID46   23  1.927  2.047    3.974\n",
       "4  CHID46   27  1.512  2.335    3.847\n",
       "5  CHID46   30  1.023  2.526    3.549"
      ]
     },
     "execution_count": 16,
     "metadata": {},
     "output_type": "execute_result"
    }
   ],
   "source": [
    "df2 = df[['patient','dpi','IgM','IgG']].replace('-',np.nan).dropna()\n",
    "df2[['IgM','IgG']] = df2[['IgM','IgG']].astype(float)\n",
    "\n",
    "df2['IgM+IgG'] = df2['IgM'] + df2['IgG']\n",
    "df2[:5]"
   ]
  },
  {
   "cell_type": "code",
   "execution_count": 17,
   "id": "58f98442",
   "metadata": {},
   "outputs": [
    {
     "data": {
      "text/plain": [
       "array(['CHID46', 'CHID77', 'CHID79', 'CHID32', 'CHID40', 'CHID08'],\n",
       "      dtype=object)"
      ]
     },
     "execution_count": 17,
     "metadata": {},
     "output_type": "execute_result"
    }
   ],
   "source": [
    "patient_cols = df.patient.unique()\n",
    "patient_cols"
   ]
  },
  {
   "cell_type": "code",
   "execution_count": 18,
   "id": "1412801d",
   "metadata": {},
   "outputs": [
    {
     "data": {
      "image/png": "[encoded data removed]",
      "text/plain": [
       "<Figure size 576x576 with 6 Axes>"
      ]
     },
     "metadata": {
      "needs_background": "light"
     },
     "output_type": "display_data"
    }
   ],
   "source": [
    "# Plot the data \n",
    "# 3x2 figures\n",
    "plt.figure(figsize=(8,8),tight_layout=True)\n",
    "\n",
    "for n in range(6):\n",
    "    ax = plt.subplot(321+n)\n",
    "    ax.set_xlim(left=0, right=80)\n",
    "    ax.set_ylim(bottom=0, top=8)\n",
    "    \n",
    "    subdf = df1.groupby(['patient']).get_group(patient_cols[n])\n",
    "    x = list(subdf.dpi)\n",
    "    plt.scatter(x,subdf['log_vRNA'],label=patient_cols[n])\n",
    "    \n",
    "    plt.xlabel('Days')\n",
    "    plt.ylabel('vRNA copies log_10/ml plasma')\n",
    "    plt.legend()\n",
    "#     plt.title(patient_cols[n])    \n",
    "\n",
    "plt.show()"
   ]
  },
  {
   "cell_type": "markdown",
   "id": "ac6191c7",
   "metadata": {},
   "source": [
    "[markers](https://matplotlib.org/stable/api/markers_api.html)\n",
    "\n",
    "[linestyle](https://matplotlib.org/stable/gallery/lines_bars_and_markers/linestyles.html)"
   ]
  },
  {
   "cell_type": "code",
   "execution_count": 19,
   "id": "fb552bff",
   "metadata": {},
   "outputs": [
    {
     "data": {
      "image/png": "[encoded data removed]",
      "text/plain": [
       "<Figure size 576x576 with 6 Axes>"
      ]
     },
     "metadata": {
      "needs_background": "light"
     },
     "output_type": "display_data"
    }
   ],
   "source": [
    "# plot antibodies response\n",
    "plt.figure(figsize=(8,8),tight_layout=True)\n",
    "\n",
    "for n in range(6):\n",
    "    ax = plt.subplot(321+n)\n",
    "    ax.set_xlim(left=0, right=80)\n",
    "    ax.set_ylim(bottom=0, top=6)\n",
    "\n",
    "    dg = df2.groupby(['patient']).get_group(patient_cols[n])\n",
    "    \n",
    "    markers = [\"d\",\"s\",\"*\"]\n",
    "    antibodies = ['IgM','IgG','IgM+IgG']\n",
    "    \n",
    "    for i in range(3):\n",
    "        subdg = dg[['dpi',antibodies[i]]].dropna()\n",
    "        x = subdg.dpi\n",
    "        \n",
    "        plt.plot(x, subdg[antibodies[i]], marker=markers[i],markersize=5,label = antibodies[i],linestyle='dashdot')\n",
    "        \n",
    "        plt.legend()\n",
    "    \n",
    "    plt.title(patient_cols[n]) \n",
    "    plt.xlabel('Days post infection')\n",
    "    plt.ylabel('O.D.')    \n",
    "    \n",
    "    \n",
    "plt.show()\n",
    "    "
   ]
  },
  {
   "cell_type": "code",
   "execution_count": null,
   "id": "ceadc3e9",
   "metadata": {},
   "outputs": [],
   "source": []
  }
 ],
 "metadata": {
  "kernelspec": {
   "display_name": "Python 3 (ipykernel)",
   "language": "python",
   "name": "python3"
  },
  "language_info": {
   "codemirror_mode": {
    "name": "ipython",
    "version": 3
   },
   "file_extension": ".py",
   "mimetype": "text/x-python",
   "name": "python",
   "nbconvert_exporter": "python",
   "pygments_lexer": "ipython3",
   "version": "3.9.7"
  }
 },
 "nbformat": 4,
 "nbformat_minor": 5
}
