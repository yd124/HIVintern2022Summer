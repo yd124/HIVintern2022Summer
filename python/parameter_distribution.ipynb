{
 "cells": [
  {
   "cell_type": "code",
   "execution_count": 1,
   "id": "8a6c8eda",
   "metadata": {},
   "outputs": [],
   "source": [
    "import pandas as pd\n",
    "import numpy as np\n",
    "import matplotlib.pyplot as plt\n",
    "\n",
    "from sklearn.metrics import mean_squared_error\n"
   ]
  },
  {
   "cell_type": "markdown",
   "id": "89792135",
   "metadata": {},
   "source": [
    "$$\n",
    "[a-k,a+k] \\implies a + 2*\\text{Uniform}[0,1]*k-1\n",
    "$$\n",
    "\n",
    "$$\n",
    "p(\\theta|y) = \\frac{p(y|\\theta)p(\\theta)}{\\int_{\\Theta} p(y|\\tilde{\\theta})p(\\tilde{\\theta}) d\\tilde{\\theta}}\n",
    "$$"
   ]
  },
  {
   "cell_type": "code",
   "execution_count": null,
   "id": "46f46cee",
   "metadata": {},
   "outputs": [],
   "source": [
    "def beta(t, tau, k,beta_0,beta_ifty):\n",
    "    if t <= tau:\n",
    "        return beta_0\n",
    "    else:\n",
    "        return beta_ifty + (beta_0-beta_ifty)*np.exp(-k*(t-tau))\n",
    "    \n",
    "    \n",
    "def prob_of_pred_given_param(y,theta):\n",
    "    return 1/(2*pi*1)^{N/2} \n",
    "\n",
    "def pred_LV(t, beta_0,beta_ifty,k,dlt,p,d,tau):\n",
    "    sol = odeint(model,[T_0,I_0,V_0],t, args =(beta_0,beta_ifty,k,dlt,p,d,tau))   \n",
    "#     pred = sol[:,2]\n",
    "#     return np.array([pred[int(x/h)] for x in dg1.dpi.values])\n",
    "    \n",
    "    pred = np.log10([x[2] for x in sol])  #  sol[:,2])\n",
    "    \n",
    "    return np.array([pred[int(x/h)] for x in df11.dpi.values])"
   ]
  },
  {
   "cell_type": "code",
   "execution_count": null,
   "id": "c7be2241",
   "metadata": {},
   "outputs": [],
   "source": [
    "k = 0.1\n",
    "\n",
    "beta_0 = \n",
    "beta_infty\n",
    "k\n",
    "p\n",
    "d\n",
    "tau \n",
    "\n"
   ]
  },
  {
   "cell_type": "code",
   "execution_count": 8,
   "id": "b351108f",
   "metadata": {},
   "outputs": [
    {
     "ename": "IndentationError",
     "evalue": "expected an indented block (1581253861.py, line 8)",
     "output_type": "error",
     "traceback": [
      "\u001b[0;36m  File \u001b[0;32m\"/var/folders/f3/n_k12zn16934xvkj_g52jk4c0000gn/T/ipykernel_63715/1581253861.py\"\u001b[0;36m, line \u001b[0;32m8\u001b[0m\n\u001b[0;31m    \u001b[0m\n\u001b[0m    ^\u001b[0m\n\u001b[0;31mIndentationError\u001b[0m\u001b[0;31m:\u001b[0m expected an indented block\n"
     ]
    }
   ],
   "source": [
    "n = 10\n",
    "L = []\n",
    "\n",
    "\n",
    "for i in range(n):\n",
    "    \n",
    "    \n",
    "    "
   ]
  },
  {
   "cell_type": "code",
   "execution_count": null,
   "id": "37a4e6c1",
   "metadata": {},
   "outputs": [],
   "source": []
  },
  {
   "cell_type": "code",
   "execution_count": null,
   "id": "031ea00c",
   "metadata": {},
   "outputs": [],
   "source": []
  },
  {
   "cell_type": "code",
   "execution_count": null,
   "id": "2c12be10",
   "metadata": {},
   "outputs": [],
   "source": [
    "def beta(t, tau, k,beta_0,beta_ifty):\n",
    "    if t <= tau:\n",
    "        return beta_0\n",
    "    else:\n",
    "        return beta_ifty + (beta_0-beta_ifty)*np.exp(-k*(t-tau))\n",
    "    \n",
    "    \n",
    "def prob_of_pred_given_param(y,theta):\n",
    "    return 1/(2*pi*1)^{N/2} \n",
    "    \n",
    "    \n",
    "    "
   ]
  },
  {
   "cell_type": "code",
   "execution_count": 7,
   "id": "3cdfc132",
   "metadata": {},
   "outputs": [
    {
     "data": {
      "text/plain": [
       "array([[-0.32064262,  0.13074117,  0.18387894]])"
      ]
     },
     "execution_count": 7,
     "metadata": {},
     "output_type": "execute_result"
    }
   ],
   "source": [
    "np.random.rand(1,3) * 2 -1 "
   ]
  }
 ],
 "metadata": {
  "kernelspec": {
   "display_name": "Python 3 (ipykernel)",
   "language": "python",
   "name": "python3"
  },
  "language_info": {
   "codemirror_mode": {
    "name": "ipython",
    "version": 3
   },
   "file_extension": ".py",
   "mimetype": "text/x-python",
   "name": "python",
   "nbconvert_exporter": "python",
   "pygments_lexer": "ipython3",
   "version": "3.9.7"
  }
 },
 "nbformat": 4,
 "nbformat_minor": 5
}
