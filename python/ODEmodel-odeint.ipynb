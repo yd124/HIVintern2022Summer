{
 "cells": [
  {
   "cell_type": "code",
   "execution_count": 1,
   "id": "bf05c6e2",
   "metadata": {},
   "outputs": [],
   "source": [
    "import pandas as pd\n",
    "import numpy as np\n",
    "import matplotlib.pyplot as plt"
   ]
  },
  {
   "cell_type": "code",
   "execution_count": 2,
   "id": "fa493575",
   "metadata": {},
   "outputs": [
    {
     "data": {
      "text/html": [
       "<div>\n",
       "<style scoped>\n",
       "    .dataframe tbody tr th:only-of-type {\n",
       "        vertical-align: middle;\n",
       "    }\n",
       "\n",
       "    .dataframe tbody tr th {\n",
       "        vertical-align: top;\n",
       "    }\n",
       "\n",
       "    .dataframe thead th {\n",
       "        text-align: right;\n",
       "    }\n",
       "</style>\n",
       "<table border=\"1\" class=\"dataframe\">\n",
       "  <thead>\n",
       "    <tr style=\"text-align: right;\">\n",
       "      <th></th>\n",
       "      <th>patient</th>\n",
       "      <th>dpi</th>\n",
       "      <th>vRNA</th>\n",
       "      <th>IgM</th>\n",
       "      <th>IgG</th>\n",
       "      <th>log_vRNA</th>\n",
       "    </tr>\n",
       "  </thead>\n",
       "  <tbody>\n",
       "    <tr>\n",
       "      <th>0</th>\n",
       "      <td>CHID46</td>\n",
       "      <td>13</td>\n",
       "      <td>10910</td>\n",
       "      <td>-</td>\n",
       "      <td>-</td>\n",
       "      <td>4.037825</td>\n",
       "    </tr>\n",
       "    <tr>\n",
       "      <th>1</th>\n",
       "      <td>CHID46</td>\n",
       "      <td>16</td>\n",
       "      <td>108100</td>\n",
       "      <td>0.026</td>\n",
       "      <td>0.268</td>\n",
       "      <td>5.033826</td>\n",
       "    </tr>\n",
       "    <tr>\n",
       "      <th>2</th>\n",
       "      <td>CHID46</td>\n",
       "      <td>20</td>\n",
       "      <td>800000</td>\n",
       "      <td>0.371</td>\n",
       "      <td>0.354</td>\n",
       "      <td>5.903090</td>\n",
       "    </tr>\n",
       "    <tr>\n",
       "      <th>3</th>\n",
       "      <td>CHID46</td>\n",
       "      <td>23</td>\n",
       "      <td>922270</td>\n",
       "      <td>1.927</td>\n",
       "      <td>2.047</td>\n",
       "      <td>5.964858</td>\n",
       "    </tr>\n",
       "    <tr>\n",
       "      <th>4</th>\n",
       "      <td>CHID46</td>\n",
       "      <td>27</td>\n",
       "      <td>340400</td>\n",
       "      <td>1.512</td>\n",
       "      <td>2.335</td>\n",
       "      <td>5.531990</td>\n",
       "    </tr>\n",
       "    <tr>\n",
       "      <th>...</th>\n",
       "      <td>...</td>\n",
       "      <td>...</td>\n",
       "      <td>...</td>\n",
       "      <td>...</td>\n",
       "      <td>...</td>\n",
       "      <td>...</td>\n",
       "    </tr>\n",
       "    <tr>\n",
       "      <th>62</th>\n",
       "      <td>CHID08</td>\n",
       "      <td>19</td>\n",
       "      <td>5631550</td>\n",
       "      <td>0.014</td>\n",
       "      <td>0.175</td>\n",
       "      <td>6.750628</td>\n",
       "    </tr>\n",
       "    <tr>\n",
       "      <th>63</th>\n",
       "      <td>CHID08</td>\n",
       "      <td>24</td>\n",
       "      <td>6486240</td>\n",
       "      <td>0.114</td>\n",
       "      <td>0.258</td>\n",
       "      <td>6.811993</td>\n",
       "    </tr>\n",
       "    <tr>\n",
       "      <th>64</th>\n",
       "      <td>CHID08</td>\n",
       "      <td>26</td>\n",
       "      <td>2296060</td>\n",
       "      <td>0.795</td>\n",
       "      <td>0.585</td>\n",
       "      <td>6.360983</td>\n",
       "    </tr>\n",
       "    <tr>\n",
       "      <th>65</th>\n",
       "      <td>CHID08</td>\n",
       "      <td>31</td>\n",
       "      <td>26311</td>\n",
       "      <td>0.997</td>\n",
       "      <td>1.456</td>\n",
       "      <td>4.420137</td>\n",
       "    </tr>\n",
       "    <tr>\n",
       "      <th>66</th>\n",
       "      <td>CHID08</td>\n",
       "      <td>33</td>\n",
       "      <td>17425</td>\n",
       "      <td>0.872</td>\n",
       "      <td>1.579</td>\n",
       "      <td>4.241173</td>\n",
       "    </tr>\n",
       "  </tbody>\n",
       "</table>\n",
       "<p>67 rows × 6 columns</p>\n",
       "</div>"
      ],
      "text/plain": [
       "   patient  dpi     vRNA    IgM    IgG  log_vRNA\n",
       "0   CHID46   13    10910      -      -  4.037825\n",
       "1   CHID46   16   108100  0.026  0.268  5.033826\n",
       "2   CHID46   20   800000  0.371  0.354  5.903090\n",
       "3   CHID46   23   922270  1.927  2.047  5.964858\n",
       "4   CHID46   27   340400  1.512  2.335  5.531990\n",
       "..     ...  ...      ...    ...    ...       ...\n",
       "62  CHID08   19  5631550  0.014  0.175  6.750628\n",
       "63  CHID08   24  6486240  0.114  0.258  6.811993\n",
       "64  CHID08   26  2296060  0.795  0.585  6.360983\n",
       "65  CHID08   31    26311  0.997  1.456  4.420137\n",
       "66  CHID08   33    17425  0.872  1.579  4.241173\n",
       "\n",
       "[67 rows x 6 columns]"
      ]
     },
     "execution_count": 2,
     "metadata": {},
     "output_type": "execute_result"
    }
   ],
   "source": [
    "df = pd.read_csv('table2.csv') \n",
    "df.rename(columns={'Patient':'patient',\n",
    "                     'Days post Infection':'dpi',\n",
    "                     'vRNA copies/ml':'vRNA', \n",
    "                     'IgM (O.D.)':'IgM',\n",
    "                    'IgG (O.D.)':'IgG'}, inplace=True)\n",
    "\n",
    "df['log_vRNA'] = np.log10(df['vRNA'])\n",
    "df"
   ]
  },
  {
   "cell_type": "code",
   "execution_count": 3,
   "id": "de3d5017",
   "metadata": {},
   "outputs": [
    {
     "data": {
      "text/html": [
       "<div>\n",
       "<style scoped>\n",
       "    .dataframe tbody tr th:only-of-type {\n",
       "        vertical-align: middle;\n",
       "    }\n",
       "\n",
       "    .dataframe tbody tr th {\n",
       "        vertical-align: top;\n",
       "    }\n",
       "\n",
       "    .dataframe thead th {\n",
       "        text-align: right;\n",
       "    }\n",
       "</style>\n",
       "<table border=\"1\" class=\"dataframe\">\n",
       "  <thead>\n",
       "    <tr style=\"text-align: right;\">\n",
       "      <th></th>\n",
       "      <th>patient</th>\n",
       "      <th>dpi</th>\n",
       "      <th>vRNA</th>\n",
       "    </tr>\n",
       "  </thead>\n",
       "  <tbody>\n",
       "    <tr>\n",
       "      <th>0</th>\n",
       "      <td>CHID46</td>\n",
       "      <td>13</td>\n",
       "      <td>10910</td>\n",
       "    </tr>\n",
       "    <tr>\n",
       "      <th>1</th>\n",
       "      <td>CHID46</td>\n",
       "      <td>16</td>\n",
       "      <td>108100</td>\n",
       "    </tr>\n",
       "    <tr>\n",
       "      <th>2</th>\n",
       "      <td>CHID46</td>\n",
       "      <td>20</td>\n",
       "      <td>800000</td>\n",
       "    </tr>\n",
       "    <tr>\n",
       "      <th>3</th>\n",
       "      <td>CHID46</td>\n",
       "      <td>23</td>\n",
       "      <td>922270</td>\n",
       "    </tr>\n",
       "    <tr>\n",
       "      <th>4</th>\n",
       "      <td>CHID46</td>\n",
       "      <td>27</td>\n",
       "      <td>340400</td>\n",
       "    </tr>\n",
       "    <tr>\n",
       "      <th>5</th>\n",
       "      <td>CHID46</td>\n",
       "      <td>30</td>\n",
       "      <td>77800</td>\n",
       "    </tr>\n",
       "    <tr>\n",
       "      <th>6</th>\n",
       "      <td>CHID46</td>\n",
       "      <td>36</td>\n",
       "      <td>27540</td>\n",
       "    </tr>\n",
       "    <tr>\n",
       "      <th>7</th>\n",
       "      <td>CHID46</td>\n",
       "      <td>38</td>\n",
       "      <td>14700</td>\n",
       "    </tr>\n",
       "    <tr>\n",
       "      <th>8</th>\n",
       "      <td>CHID46</td>\n",
       "      <td>43</td>\n",
       "      <td>18340</td>\n",
       "    </tr>\n",
       "  </tbody>\n",
       "</table>\n",
       "</div>"
      ],
      "text/plain": [
       "  patient  dpi    vRNA\n",
       "0  CHID46   13   10910\n",
       "1  CHID46   16  108100\n",
       "2  CHID46   20  800000\n",
       "3  CHID46   23  922270\n",
       "4  CHID46   27  340400\n",
       "5  CHID46   30   77800\n",
       "6  CHID46   36   27540\n",
       "7  CHID46   38   14700\n",
       "8  CHID46   43   18340"
      ]
     },
     "execution_count": 3,
     "metadata": {},
     "output_type": "execute_result"
    }
   ],
   "source": [
    "dg1=  df[['patient','dpi','vRNA']].groupby('patient').get_group('CHID46')\n",
    "dg1"
   ]
  },
  {
   "cell_type": "code",
   "execution_count": 4,
   "id": "636fbb50",
   "metadata": {},
   "outputs": [],
   "source": [
    "df1 = df[['patient','dpi','log_vRNA']]\n",
    "df2 = df[['patient','dpi','IgM','IgG']].replace('-',np.nan).dropna()\n",
    "df2[['IgM','IgG']] = df2[['IgM','IgG']].astype(float)\n",
    "\n",
    "df2['IgM+IgG'] = df2['IgM'] + df2['IgG']\n"
   ]
  },
  {
   "cell_type": "code",
   "execution_count": 5,
   "id": "874f798f",
   "metadata": {},
   "outputs": [
    {
     "data": {
      "text/plain": [
       "array(['CHID46', 'CHID77', 'CHID79', 'CHID32', 'CHID40', 'CHID08'],\n",
       "      dtype=object)"
      ]
     },
     "execution_count": 5,
     "metadata": {},
     "output_type": "execute_result"
    }
   ],
   "source": [
    "patient_cols = df.patient.unique()\n",
    "patient_cols"
   ]
  },
  {
   "cell_type": "markdown",
   "id": "e0151b7d",
   "metadata": {},
   "source": [
    "[markers](https://matplotlib.org/stable/api/markers_api.html)\n",
    "\n",
    "[linestyle](https://matplotlib.org/stable/gallery/lines_bars_and_markers/linestyles.html)"
   ]
  },
  {
   "cell_type": "markdown",
   "id": "8c58c95f",
   "metadata": {},
   "source": [
    "* T: target cells （CD4$^+$ T cells)\n",
    "* I: productively infected CD4$^+$ T cells,\n",
    "* V: free virus\n",
    "\n",
    "\\begin{align}\n",
    "\\frac{dT}{dt} &= \\lambda -dT -\\beta(t)TV, \\quad T(0) =T_0\\\\\n",
    "\\frac{dI}{dt} &= \\beta(t) TV - \\delta I,\\quad  I(0)= I_0 \\\\\n",
    "\\frac{dV}{dt} &= pI - cV, \\quad V(0) = V_0\n",
    "\\end{align}\n",
    "where \n",
    "\\begin{align}\n",
    "\\beta(t) = \n",
    "\\begin{cases}\n",
    "\\beta_0, \\quad t\\leq \\tau \\\\\n",
    "\\beta_{\\infty} + (\\beta_0 - \\beta_{\\infty}) e^{-k(t-\\tau)}, \\quad t>\\tau\n",
    "\\end{cases}\n",
    "\\end{align}\n",
    "\n",
    "Determine the parameters $(\\beta_0,\\beta_{\\infty},\\lambda, d, \\delta, p, c, k, \\tau)$ so that it can fit the real data\n"
   ]
  },
  {
   "cell_type": "code",
   "execution_count": 6,
   "id": "cda70122",
   "metadata": {},
   "outputs": [],
   "source": [
    "T_0 = 10**4  # ml\n",
    "I_0 = 0\n",
    "V_0 = 10**-3"
   ]
  },
  {
   "cell_type": "code",
   "execution_count": 7,
   "id": "3549f256",
   "metadata": {},
   "outputs": [],
   "source": [
    "def beta(t, tau, k,beta_0,beta_ifty):\n",
    "    if t <= tau:\n",
    "        return beta_0\n",
    "    else:\n",
    "        return beta_ifty + (beta_0-beta_ifty)*np.exp(-k*(t-tau))\n",
    "    \n",
    "def model(y,t):\n",
    "    T = y[0]\n",
    "    I = y[1]\n",
    "    V = y[2]\n",
    "    \n",
    "    c=23\n",
    "    \n",
    "    beta_0 = 4.09*(10**-7)\n",
    "    beta_ifty = 0.233*(10**-6)\n",
    "    k = 0.249\n",
    "    dlt =  0.775\n",
    "    p = 14.5*(10**3)\n",
    "    d = 0.030\n",
    "    tau = 7\n",
    "    \n",
    "    b = beta(t, tau, k,beta_0,beta_ifty)\n",
    "    \n",
    "    dTdt = d*(10**4) - d * T - b*T*V\n",
    "    dIdt = b*T*V-dlt*I\n",
    "    dVdt = p*I-c*V\n",
    "    \n",
    "    dydt = [dTdt,dIdt,dVdt]\n",
    "    return dydt    "
   ]
  },
  {
   "cell_type": "code",
   "execution_count": 11,
   "id": "e2ee447b",
   "metadata": {},
   "outputs": [],
   "source": [
    "t = np.linspace(0,80,600)\n"
   ]
  },
  {
   "cell_type": "code",
   "execution_count": 14,
   "id": "08f21d48",
   "metadata": {},
   "outputs": [
    {
     "data": {
      "text/plain": [
       "<matplotlib.collections.PathCollection at 0x7fd07b15eca0>"
      ]
     },
     "execution_count": 14,
     "metadata": {},
     "output_type": "execute_result"
    },
    {
     "data": {
      "image/png": "[encoded data removed]",
      "text/plain": [
       "<Figure size 432x288 with 1 Axes>"
      ]
     },
     "metadata": {
      "needs_background": "light"
     },
     "output_type": "display_data"
    }
   ],
   "source": [
    "from scipy.integrate import odeint\n",
    "\n",
    "sol = odeint(model,[T_0,I_0,V_0],t)\n",
    "plt.plot(t,V)\n",
    "plt.scatter(dg1.dpi,dg1.vRNA)"
   ]
  },
  {
   "cell_type": "code",
   "execution_count": null,
   "id": "b0c54d7c",
   "metadata": {},
   "outputs": [],
   "source": []
  },
  {
   "cell_type": "code",
   "execution_count": null,
   "id": "e5ce3b51",
   "metadata": {},
   "outputs": [],
   "source": [
    "def J(beta_0,beta_infty, k, delta, p, d):\n",
    "    return 1/N * sum(([np.log10(V[i]) -np.log10(V_true[i])**2 for i in range(N)])   "
   ]
  }
 ],
 "metadata": {
  "kernelspec": {
   "display_name": "Python 3 (ipykernel)",
   "language": "python",
   "name": "python3"
  },
  "language_info": {
   "codemirror_mode": {
    "name": "ipython",
    "version": 3
   },
   "file_extension": ".py",
   "mimetype": "text/x-python",
   "name": "python",
   "nbconvert_exporter": "python",
   "pygments_lexer": "ipython3",
   "version": "3.9.7"
  }
 },
 "nbformat": 4,
 "nbformat_minor": 5
}
