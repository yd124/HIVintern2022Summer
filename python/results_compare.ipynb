{
 "cells": [
  {
   "cell_type": "code",
   "execution_count": 15,
   "id": "f42bc1b2",
   "metadata": {},
   "outputs": [],
   "source": [
    "import pandas as pd\n",
    "import numpy as np\n",
    "import matplotlib.pyplot as plt\n",
    "\n",
    "from scipy.integrate import odeint\n"
   ]
  },
  {
   "cell_type": "code",
   "execution_count": 16,
   "id": "0cfdac58",
   "metadata": {},
   "outputs": [],
   "source": [
    "df = pd.read_csv('../data/data1/logvRNA.csv')\n",
    "patients = df.patient.unique()\n",
    "# df"
   ]
  },
  {
   "cell_type": "code",
   "execution_count": null,
   "id": "6b3666fe",
   "metadata": {},
   "outputs": [],
   "source": []
  },
  {
   "cell_type": "code",
   "execution_count": 17,
   "id": "d7af04a7",
   "metadata": {},
   "outputs": [],
   "source": [
    "from sklearn.metrics import mean_squared_error\n",
    "def beta(t, tau, k,beta_0,beta_ifty):\n",
    "    if t <= tau:\n",
    "        return beta_0\n",
    "    else:\n",
    "        return beta_ifty + (beta_0-beta_ifty)*np.exp(-k*(t-tau))\n",
    "def model(y,t, beta_0,beta_ifty,k,dlt,p,d,tau):\n",
    "    T = y[0]\n",
    "    I = y[1]\n",
    "    V = y[2]\n",
    "    \n",
    "    c=23\n",
    "    \n",
    "    b = beta(t, tau, k,beta_0,beta_ifty)\n",
    "    \n",
    "    dTdt = d*(10**4) - d * T - b*T*V\n",
    "    dIdt = b*T*V-dlt*I\n",
    "    dVdt = p*I-c*V\n",
    "    \n",
    "    dydt = [dTdt,dIdt,dVdt]\n",
    "    return dydt    \n",
    "\n",
    "def pred_LV(t, beta_0,beta_ifty,k,dlt,p,d,tau,times):\n",
    "    T_0 = 10**4  # ml\n",
    "    I_0 = 0\n",
    "    V_0 = 10**-3\n",
    "    h = 0.01\n",
    "    \n",
    "    sol = odeint(model,[T_0,I_0,V_0],t, args =(beta_0,beta_ifty,k,dlt,p,d,tau))   \n",
    "    \n",
    "    pred = np.log10([x[2] for x in sol])  #  sol[:,2])    \n",
    "    return np.array([pred[int(x/h)] for x in times])\n",
    "\n",
    "def error(params):\n",
    "    beta_0 = params[0]\n",
    "    beta_ifty = params[1]\n",
    "    k = params[2]\n",
    "    dlt = params[3]\n",
    "    p = params[4]\n",
    "    d = params[5]\n",
    "    tau = params[6]  \n",
    "    \n",
    "    t = np.arange(0,80,0.01)\n",
    "    \n",
    "    dg = df.groupby('patient').get_group(patients[0])\n",
    "    \n",
    "    pred = pred_LV(t,beta_0,beta_ifty,k,dlt,p,d,tau, dg.dpi.values)\n",
    "    true = dg['log_vRNA'].values\n",
    "\n",
    "    \n",
    "    \n",
    "    \n",
    "    return round(mean_squared_error(pred, true),5)\n",
    "    \n",
    "    "
   ]
  },
  {
   "cell_type": "code",
   "execution_count": 23,
   "id": "3e8917de",
   "metadata": {},
   "outputs": [
    {
     "data": {
      "text/plain": [
       "[[4.09e-07, 2.33e-07, 0.249, 0.775, 14500.0, 0.03, 7],\n",
       " [2.0209e-07, 1.2719e-07, 0.41184, 1.52453, 41085.62299, 0.03901, 6],\n",
       " [1.9975e-07, 1.265e-07, 0.33022, 1.5147, 40734, 0.039136, 6.0109],\n",
       " [2.0273e-07, 1.2499e-07, 1.81286, 1.57038, 42987.62471, 0.03935, 7],\n",
       " [2.0262e-07, 1.2506e-07, 1.7837, 1.5725, 42997, 0.039383, 7.0061]]"
      ]
     },
     "execution_count": 23,
     "metadata": {},
     "output_type": "execute_result"
    }
   ],
   "source": [
    "xx1 = [0.409E-6, 0.233E-6, 0.249, 0.775, 14.5E3, 0.03, 7];\n",
    "xx2 = [2.0209E-7, 1.2719E-7, 0.41184, 1.52453, 41085.62299, 0.03901, 6];\n",
    "xx3 = [1.9975e-07, 1.265e-07, 0.33022,    1.5147,    40734,    0.039136,    6.0109];\n",
    "\n",
    "xx4 = [2.0273E-7, 1.2499E-7, 1.81286, 1.57038, 42987.62471, 0.03935, 7];\n",
    "xx5 = [2.0262e-07, 1.2506e-07,    1.7837,    1.5725,    42997,    0.039383,    7.0061]\n",
    "\n",
    "M3 = [xx1,xx2,xx3,xx4,xx5];\n",
    "M3"
   ]
  },
  {
   "cell_type": "code",
   "execution_count": 21,
   "id": "344743b2",
   "metadata": {},
   "outputs": [
    {
     "data": {
      "text/plain": [
       "0.0045"
      ]
     },
     "execution_count": 21,
     "metadata": {},
     "output_type": "execute_result"
    }
   ],
   "source": [
    "error(xx4)"
   ]
  },
  {
   "cell_type": "code",
   "execution_count": 26,
   "id": "7449d8e2",
   "metadata": {},
   "outputs": [
    {
     "data": {
      "text/html": [
       "<div>\n",
       "<style scoped>\n",
       "    .dataframe tbody tr th:only-of-type {\n",
       "        vertical-align: middle;\n",
       "    }\n",
       "\n",
       "    .dataframe tbody tr th {\n",
       "        vertical-align: top;\n",
       "    }\n",
       "\n",
       "    .dataframe thead th {\n",
       "        text-align: right;\n",
       "    }\n",
       "</style>\n",
       "<table border=\"1\" class=\"dataframe\">\n",
       "  <thead>\n",
       "    <tr style=\"text-align: right;\">\n",
       "      <th></th>\n",
       "      <th>J</th>\n",
       "      <th>b0</th>\n",
       "      <th>bi</th>\n",
       "      <th>k</th>\n",
       "      <th>dlt</th>\n",
       "      <th>p</th>\n",
       "      <th>d</th>\n",
       "      <th>tau</th>\n",
       "    </tr>\n",
       "  </thead>\n",
       "  <tbody>\n",
       "    <tr>\n",
       "      <th>paper</th>\n",
       "      <td>0.00793</td>\n",
       "      <td>4.090000e-07</td>\n",
       "      <td>2.330000e-07</td>\n",
       "      <td>0.24900</td>\n",
       "      <td>0.77500</td>\n",
       "      <td>14500.00000</td>\n",
       "      <td>0.030000</td>\n",
       "      <td>7.0000</td>\n",
       "    </tr>\n",
       "    <tr>\n",
       "      <th>Berkeley Madona 1</th>\n",
       "      <td>0.00426</td>\n",
       "      <td>2.020900e-07</td>\n",
       "      <td>1.271900e-07</td>\n",
       "      <td>0.41184</td>\n",
       "      <td>1.52453</td>\n",
       "      <td>41085.62299</td>\n",
       "      <td>0.039010</td>\n",
       "      <td>6.0000</td>\n",
       "    </tr>\n",
       "    <tr>\n",
       "      <th>fminsearch 1</th>\n",
       "      <td>0.00421</td>\n",
       "      <td>1.997500e-07</td>\n",
       "      <td>1.265000e-07</td>\n",
       "      <td>0.33022</td>\n",
       "      <td>1.51470</td>\n",
       "      <td>40734.00000</td>\n",
       "      <td>0.039136</td>\n",
       "      <td>6.0109</td>\n",
       "    </tr>\n",
       "    <tr>\n",
       "      <th>Berkeley Madona 2</th>\n",
       "      <td>0.00450</td>\n",
       "      <td>2.027300e-07</td>\n",
       "      <td>1.249900e-07</td>\n",
       "      <td>1.81286</td>\n",
       "      <td>1.57038</td>\n",
       "      <td>42987.62471</td>\n",
       "      <td>0.039350</td>\n",
       "      <td>7.0000</td>\n",
       "    </tr>\n",
       "    <tr>\n",
       "      <th>fminsearch 2</th>\n",
       "      <td>0.00450</td>\n",
       "      <td>2.026200e-07</td>\n",
       "      <td>1.250600e-07</td>\n",
       "      <td>1.78370</td>\n",
       "      <td>1.57250</td>\n",
       "      <td>42997.00000</td>\n",
       "      <td>0.039383</td>\n",
       "      <td>7.0061</td>\n",
       "    </tr>\n",
       "  </tbody>\n",
       "</table>\n",
       "</div>"
      ],
      "text/plain": [
       "                         J            b0            bi        k      dlt  \\\n",
       "paper              0.00793  4.090000e-07  2.330000e-07  0.24900  0.77500   \n",
       "Berkeley Madona 1  0.00426  2.020900e-07  1.271900e-07  0.41184  1.52453   \n",
       "fminsearch 1       0.00421  1.997500e-07  1.265000e-07  0.33022  1.51470   \n",
       "Berkeley Madona 2  0.00450  2.027300e-07  1.249900e-07  1.81286  1.57038   \n",
       "fminsearch 2       0.00450  2.026200e-07  1.250600e-07  1.78370  1.57250   \n",
       "\n",
       "                             p         d     tau  \n",
       "paper              14500.00000  0.030000  7.0000  \n",
       "Berkeley Madona 1  41085.62299  0.039010  6.0000  \n",
       "fminsearch 1       40734.00000  0.039136  6.0109  \n",
       "Berkeley Madona 2  42987.62471  0.039350  7.0000  \n",
       "fminsearch 2       42997.00000  0.039383  7.0061  "
      ]
     },
     "execution_count": 26,
     "metadata": {},
     "output_type": "execute_result"
    }
   ],
   "source": [
    "M = [[0 for j in range(8)] for i in range(5)]\n",
    "\n",
    "for i in range(5):\n",
    "#     M[i][0] = error(M1[i])\n",
    "#     M[i][1] = error(M2[i])\n",
    "    M[i][0] = error(M3[i])\n",
    "    M[i][1:] = M3[i]\n",
    "    \n",
    "dff = pd.DataFrame(M,index=['paper', 'Berkeley Madona 1','fminsearch 1', 'Berkeley Madona 2','fminsearch 2'],columns=['J','b0','bi','k','dlt','p','d','tau'])\n",
    "# dff['min'] = dff.min(axis=1)\n",
    "dff"
   ]
  },
  {
   "cell_type": "code",
   "execution_count": null,
   "id": "a9fbe741",
   "metadata": {},
   "outputs": [],
   "source": []
  }
 ],
 "metadata": {
  "kernelspec": {
   "display_name": "Python 3 (ipykernel)",
   "language": "python",
   "name": "python3"
  },
  "language_info": {
   "codemirror_mode": {
    "name": "ipython",
    "version": 3
   },
   "file_extension": ".py",
   "mimetype": "text/x-python",
   "name": "python",
   "nbconvert_exporter": "python",
   "pygments_lexer": "ipython3",
   "version": "3.9.7"
  }
 },
 "nbformat": 4,
 "nbformat_minor": 5
}
