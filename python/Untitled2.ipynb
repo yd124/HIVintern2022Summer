{
 "cells": [
  {
   "cell_type": "code",
   "execution_count": 9,
   "id": "714327ad",
   "metadata": {},
   "outputs": [],
   "source": [
    "import pandas as pd\n",
    "import numpy as np\n",
    "import matplotlib.pyplot as plt\n",
    "from sklearn.linear_model import LinearRegression"
   ]
  },
  {
   "cell_type": "code",
   "execution_count": 60,
   "id": "1513eeb2",
   "metadata": {},
   "outputs": [
    {
     "data": {
      "text/html": [
       "<div>\n",
       "<style scoped>\n",
       "    .dataframe tbody tr th:only-of-type {\n",
       "        vertical-align: middle;\n",
       "    }\n",
       "\n",
       "    .dataframe tbody tr th {\n",
       "        vertical-align: top;\n",
       "    }\n",
       "\n",
       "    .dataframe thead th {\n",
       "        text-align: right;\n",
       "    }\n",
       "</style>\n",
       "<table border=\"1\" class=\"dataframe\">\n",
       "  <thead>\n",
       "    <tr style=\"text-align: right;\">\n",
       "      <th></th>\n",
       "      <th>patient</th>\n",
       "      <th>dpi</th>\n",
       "      <th>IgM</th>\n",
       "      <th>IgG</th>\n",
       "      <th>IgM+IgG</th>\n",
       "    </tr>\n",
       "  </thead>\n",
       "  <tbody>\n",
       "    <tr>\n",
       "      <th>0</th>\n",
       "      <td>CHID46</td>\n",
       "      <td>16</td>\n",
       "      <td>0.026</td>\n",
       "      <td>0.268</td>\n",
       "      <td>0.294</td>\n",
       "    </tr>\n",
       "    <tr>\n",
       "      <th>1</th>\n",
       "      <td>CHID46</td>\n",
       "      <td>20</td>\n",
       "      <td>0.371</td>\n",
       "      <td>0.354</td>\n",
       "      <td>0.725</td>\n",
       "    </tr>\n",
       "    <tr>\n",
       "      <th>2</th>\n",
       "      <td>CHID46</td>\n",
       "      <td>23</td>\n",
       "      <td>1.927</td>\n",
       "      <td>2.047</td>\n",
       "      <td>3.974</td>\n",
       "    </tr>\n",
       "    <tr>\n",
       "      <th>3</th>\n",
       "      <td>CHID46</td>\n",
       "      <td>27</td>\n",
       "      <td>1.512</td>\n",
       "      <td>2.335</td>\n",
       "      <td>3.847</td>\n",
       "    </tr>\n",
       "    <tr>\n",
       "      <th>4</th>\n",
       "      <td>CHID46</td>\n",
       "      <td>30</td>\n",
       "      <td>1.023</td>\n",
       "      <td>2.526</td>\n",
       "      <td>3.549</td>\n",
       "    </tr>\n",
       "  </tbody>\n",
       "</table>\n",
       "</div>"
      ],
      "text/plain": [
       "  patient  dpi    IgM    IgG  IgM+IgG\n",
       "0  CHID46   16  0.026  0.268    0.294\n",
       "1  CHID46   20  0.371  0.354    0.725\n",
       "2  CHID46   23  1.927  2.047    3.974\n",
       "3  CHID46   27  1.512  2.335    3.847\n",
       "4  CHID46   30  1.023  2.526    3.549"
      ]
     },
     "execution_count": 60,
     "metadata": {},
     "output_type": "execute_result"
    }
   ],
   "source": [
    "df = pd.read_csv('../data/data1/antibodies.csv') \n",
    "df[:5]"
   ]
  },
  {
   "cell_type": "code",
   "execution_count": 62,
   "id": "359a5ba5",
   "metadata": {},
   "outputs": [
    {
     "data": {
      "text/plain": [
       "array(['CHID46', 'CHID77', 'CHID79', 'CHID32', 'CHID40', 'CHID08'],\n",
       "      dtype=object)"
      ]
     },
     "execution_count": 62,
     "metadata": {},
     "output_type": "execute_result"
    }
   ],
   "source": [
    "patients = df.patient.unique()\n",
    "patients"
   ]
  },
  {
   "cell_type": "code",
   "execution_count": 208,
   "id": "662cf531",
   "metadata": {},
   "outputs": [],
   "source": [
    "def highest_rate(X,y, n):\n",
    "    k = 0\n",
    "    b = 0\n",
    "    idx = 0\n",
    "    \n",
    "    for i in range(1,n+1):\n",
    "        reg = LinearRegression().fit(X[:i], y[:i])\n",
    "        if k < reg.coef_[0]:\n",
    "            k = reg.coef_[0]\n",
    "            b = reg.intercept_\n",
    "            idx = i\n",
    "            \n",
    "    return [k,b,idx]\n",
    "        "
   ]
  },
  {
   "cell_type": "code",
   "execution_count": 209,
   "id": "acbb7646",
   "metadata": {},
   "outputs": [
    {
     "data": {
      "text/plain": [
       "[[0.2615540540540541, 0.2415675675675676, 0.5031216216216217],\n",
       " [0.31760000000000005, 0.06692307692307692, 0.36200000000000004],\n",
       " [0.15492307692307694, 0.06422190201729108, 0.19084615384615386],\n",
       " [0.22446153846153852, 0.09757692307692309, 0.3220384615384615],\n",
       " [0.11788461538461538, 0.22959615384615384, 0.3474807692307692],\n",
       " [0.09396153846153847, 0.1131006389776358, 0.1971891891891892]]"
      ]
     },
     "execution_count": 209,
     "metadata": {},
     "output_type": "execute_result"
    }
   ],
   "source": [
    "slopes = [[0 for j in range(3)] for i in range(6)]\n",
    "intercepts = [[0 for j in range(3)] for i in range(6)]\n",
    "\n",
    "for i in range(len(patients)):    \n",
    "    dg = df.groupby('patient').get_group(patients[i])\n",
    "    X = dg.dpi.values.reshape(-1,1)\n",
    "    \n",
    "    y1 = dg.IgM.values\n",
    "    y2 = dg.IgG.values\n",
    "    y3 = dg['IgM+IgG'].values\n",
    "    \n",
    "    n = len(dg)\n",
    "    \n",
    "    \n",
    "    \n",
    "    slopes[i][0], intercepts[i][0], _  = highest_rate(X, y1, n)\n",
    "    slopes[i][1], intercepts[i][1], _  = highest_rate(X, y2, n)\n",
    "    slopes[i][2], intercepts[i][2], _  = highest_rate(X, y3, n)\n",
    "\n",
    "slopes"
   ]
  },
  {
   "cell_type": "code",
   "execution_count": 211,
   "id": "f3165392",
   "metadata": {},
   "outputs": [
    {
     "data": {
      "text/html": [
       "<div>\n",
       "<style scoped>\n",
       "    .dataframe tbody tr th:only-of-type {\n",
       "        vertical-align: middle;\n",
       "    }\n",
       "\n",
       "    .dataframe tbody tr th {\n",
       "        vertical-align: top;\n",
       "    }\n",
       "\n",
       "    .dataframe thead th {\n",
       "        text-align: right;\n",
       "    }\n",
       "</style>\n",
       "<table border=\"1\" class=\"dataframe\">\n",
       "  <thead>\n",
       "    <tr style=\"text-align: right;\">\n",
       "      <th></th>\n",
       "      <th>patient</th>\n",
       "      <th>IgM</th>\n",
       "      <th>IgG</th>\n",
       "      <th>IgM+IgG</th>\n",
       "    </tr>\n",
       "  </thead>\n",
       "  <tbody>\n",
       "    <tr>\n",
       "      <th>0</th>\n",
       "      <td>CHID46</td>\n",
       "      <td>0.261554</td>\n",
       "      <td>0.241568</td>\n",
       "      <td>0.503122</td>\n",
       "    </tr>\n",
       "    <tr>\n",
       "      <th>1</th>\n",
       "      <td>CHID77</td>\n",
       "      <td>0.317600</td>\n",
       "      <td>0.066923</td>\n",
       "      <td>0.362000</td>\n",
       "    </tr>\n",
       "    <tr>\n",
       "      <th>2</th>\n",
       "      <td>CHID79</td>\n",
       "      <td>0.154923</td>\n",
       "      <td>0.064222</td>\n",
       "      <td>0.190846</td>\n",
       "    </tr>\n",
       "    <tr>\n",
       "      <th>3</th>\n",
       "      <td>CHID32</td>\n",
       "      <td>0.224462</td>\n",
       "      <td>0.097577</td>\n",
       "      <td>0.322038</td>\n",
       "    </tr>\n",
       "    <tr>\n",
       "      <th>4</th>\n",
       "      <td>CHID40</td>\n",
       "      <td>0.117885</td>\n",
       "      <td>0.229596</td>\n",
       "      <td>0.347481</td>\n",
       "    </tr>\n",
       "    <tr>\n",
       "      <th>5</th>\n",
       "      <td>CHID08</td>\n",
       "      <td>0.093962</td>\n",
       "      <td>0.113101</td>\n",
       "      <td>0.197189</td>\n",
       "    </tr>\n",
       "  </tbody>\n",
       "</table>\n",
       "</div>"
      ],
      "text/plain": [
       "  patient       IgM       IgG   IgM+IgG\n",
       "0  CHID46  0.261554  0.241568  0.503122\n",
       "1  CHID77  0.317600  0.066923  0.362000\n",
       "2  CHID79  0.154923  0.064222  0.190846\n",
       "3  CHID32  0.224462  0.097577  0.322038\n",
       "4  CHID40  0.117885  0.229596  0.347481\n",
       "5  CHID08  0.093962  0.113101  0.197189"
      ]
     },
     "execution_count": 211,
     "metadata": {},
     "output_type": "execute_result"
    }
   ],
   "source": [
    "df_ab = pd.DataFrame(patients,columns=['patient'])\n",
    "df_ab[['IgM','IgG','IgM+IgG']] = slopes\n",
    "df_ab.to_csv('../data/data1/antibodies_rate.csv',index=False)\n",
    "df_ab"
   ]
  },
  {
   "cell_type": "code",
   "execution_count": 198,
   "id": "a5fa490e",
   "metadata": {},
   "outputs": [
    {
     "data": {
      "text/html": [
       "<div>\n",
       "<style scoped>\n",
       "    .dataframe tbody tr th:only-of-type {\n",
       "        vertical-align: middle;\n",
       "    }\n",
       "\n",
       "    .dataframe tbody tr th {\n",
       "        vertical-align: top;\n",
       "    }\n",
       "\n",
       "    .dataframe thead th {\n",
       "        text-align: right;\n",
       "    }\n",
       "</style>\n",
       "<table border=\"1\" class=\"dataframe\">\n",
       "  <thead>\n",
       "    <tr style=\"text-align: right;\">\n",
       "      <th></th>\n",
       "      <th>IgM</th>\n",
       "      <th>IgG</th>\n",
       "      <th>IgM+IgG</th>\n",
       "    </tr>\n",
       "  </thead>\n",
       "  <tbody>\n",
       "    <tr>\n",
       "      <th>CHID46</th>\n",
       "      <td>0.261554</td>\n",
       "      <td>0.241568</td>\n",
       "      <td>0.503122</td>\n",
       "    </tr>\n",
       "    <tr>\n",
       "      <th>CHID77</th>\n",
       "      <td>0.317600</td>\n",
       "      <td>0.066923</td>\n",
       "      <td>0.362000</td>\n",
       "    </tr>\n",
       "    <tr>\n",
       "      <th>CHID79</th>\n",
       "      <td>0.154923</td>\n",
       "      <td>0.064222</td>\n",
       "      <td>0.190846</td>\n",
       "    </tr>\n",
       "    <tr>\n",
       "      <th>CHID32</th>\n",
       "      <td>0.224462</td>\n",
       "      <td>0.097577</td>\n",
       "      <td>0.322038</td>\n",
       "    </tr>\n",
       "    <tr>\n",
       "      <th>CHID40</th>\n",
       "      <td>0.117885</td>\n",
       "      <td>0.229596</td>\n",
       "      <td>0.347481</td>\n",
       "    </tr>\n",
       "    <tr>\n",
       "      <th>CHID08</th>\n",
       "      <td>0.093962</td>\n",
       "      <td>0.113101</td>\n",
       "      <td>0.197189</td>\n",
       "    </tr>\n",
       "  </tbody>\n",
       "</table>\n",
       "</div>"
      ],
      "text/plain": [
       "             IgM       IgG   IgM+IgG\n",
       "CHID46  0.261554  0.241568  0.503122\n",
       "CHID77  0.317600  0.066923  0.362000\n",
       "CHID79  0.154923  0.064222  0.190846\n",
       "CHID32  0.224462  0.097577  0.322038\n",
       "CHID40  0.117885  0.229596  0.347481\n",
       "CHID08  0.093962  0.113101  0.197189"
      ]
     },
     "execution_count": 198,
     "metadata": {},
     "output_type": "execute_result"
    }
   ],
   "source": [
    "pd.DataFrame(slopes, columns=['IgM','IgG','IgM+IgG'],index = patients)"
   ]
  },
  {
   "cell_type": "code",
   "execution_count": 193,
   "id": "d9c2fb35",
   "metadata": {},
   "outputs": [
    {
     "data": {
      "image/png": "[encoded data removed]",
      "text/plain": [
       "<Figure size 576x576 with 6 Axes>"
      ]
     },
     "metadata": {
      "needs_background": "light"
     },
     "output_type": "display_data"
    }
   ],
   "source": [
    "# plot antibodies response\n",
    "plt.figure(figsize=(8,8),tight_layout=True)\n",
    "\n",
    "for n in range(6):\n",
    "    ax = plt.subplot(321+n)\n",
    "    ax.set_xlim(left=0, right=80)\n",
    "    ax.set_ylim(bottom=0, top=6)\n",
    "\n",
    "    dg = df.groupby(['patient']).get_group(patients[n])\n",
    "    \n",
    "    markers = [\"d\",\"s\",\"*\"]\n",
    "    antibodies = ['IgM','IgG','IgM+IgG']\n",
    "    \n",
    "    for i in range(3):\n",
    "        subdg = dg[['dpi',antibodies[i]]].dropna()\n",
    "        x = subdg.dpi\n",
    "        \n",
    "        plt.plot(x, subdg[antibodies[i]], marker=markers[i],markersize=5,label = antibodies[i],linestyle='dashdot')\n",
    "        \n",
    "        plt.legend()\n",
    "    \n",
    "    plt.title(patients[n]) \n",
    "    plt.xlabel('Days post infection')\n",
    "    plt.ylabel('O.D.')    \n",
    "    \n",
    "    \n",
    "plt.show()"
   ]
  },
  {
   "cell_type": "code",
   "execution_count": null,
   "id": "e279e221",
   "metadata": {},
   "outputs": [],
   "source": []
  },
  {
   "cell_type": "code",
   "execution_count": null,
   "id": "4e9d1d4c",
   "metadata": {},
   "outputs": [],
   "source": []
  },
  {
   "cell_type": "code",
   "execution_count": null,
   "id": "5d2b2c52",
   "metadata": {},
   "outputs": [],
   "source": []
  },
  {
   "cell_type": "code",
   "execution_count": null,
   "id": "ab00bb47",
   "metadata": {},
   "outputs": [],
   "source": []
  },
  {
   "cell_type": "code",
   "execution_count": null,
   "id": "a2c96a80",
   "metadata": {},
   "outputs": [],
   "source": []
  },
  {
   "cell_type": "code",
   "execution_count": null,
   "id": "06bdce7b",
   "metadata": {},
   "outputs": [],
   "source": []
  },
  {
   "cell_type": "code",
   "execution_count": null,
   "id": "13a3503b",
   "metadata": {},
   "outputs": [],
   "source": []
  },
  {
   "cell_type": "code",
   "execution_count": 106,
   "id": "ff2ed3ec",
   "metadata": {},
   "outputs": [
    {
     "name": "stdout",
     "output_type": "stream",
     "text": [
      "[0.2615540540540541, 0.2139692307692308, 0.5031216216216217]\n",
      "[0.2657692307692308, 0.05994594594594595, 0.33269230769230773]\n",
      "[0.15492307692307694, 0.06352702702702702, 0.19084615384615386]\n",
      "[0.22446153846153852, 0.08860171306209855, 0.19608565310492518]\n",
      "[0.11788461538461538, 0.11425178826895567, 0.3474807692307692]\n",
      "[0.08890540540540541, 0.1131006389776358, 0.1971891891891892]\n"
     ]
    }
   ],
   "source": [
    "for i in range(len(patients)):    \n",
    "    dg = df.groupby('patient').get_group(patients[i])\n",
    "    X = dg.dpi.values.reshape(-1,1)\n",
    "    \n",
    "    idx1 = dg.IgM.idxmax() + 1\n",
    "    y1 = dg.IgM.values\n",
    "    idx1 = fdd(y1)\n",
    "    \n",
    "    idx2 = dg.IgM.idxmax() + 1\n",
    "    y2 = dg.IgG.values\n",
    "    idx2 = fdd(y2)\n",
    "    \n",
    "    \n",
    "    idx3 = dg['IgM+IgG'].idxmax()+1\n",
    "    y3 = dg['IgM+IgG'].values\n",
    "    idx3 = fdd(y3)\n",
    "    \n",
    "    \n",
    "    \n",
    "    reg1 = LinearRegression().fit(X[:idx1], y1[:idx1])\n",
    "    reg2 = LinearRegression().fit(X[:idx2], y2[:idx2])\n",
    "    reg3 = LinearRegression().fit(X[:idx3], y3[:idx3])\n",
    "    \n",
    "    slopes[i][0] = reg1.coef_[0]\n",
    "    slopes[i][1] = reg2.coef_[0]\n",
    "    slopes[i][2] = reg3.coef_[0]\n",
    "    print([reg1.coef_[0],reg2.coef_[0],reg3.coef_[0]])\n",
    "    "
   ]
  },
  {
   "cell_type": "code",
   "execution_count": 157,
   "id": "ba637fc4",
   "metadata": {},
   "outputs": [
    {
     "data": {
      "text/plain": [
       "7"
      ]
     },
     "execution_count": 157,
     "metadata": {},
     "output_type": "execute_result"
    }
   ],
   "source": [
    "len(dg)"
   ]
  },
  {
   "cell_type": "code",
   "execution_count": 168,
   "id": "476dfad5",
   "metadata": {},
   "outputs": [
    {
     "data": {
      "text/plain": [
       "[0.5031216216216217, -8.230391891891893, 3]"
      ]
     },
     "execution_count": 168,
     "metadata": {},
     "output_type": "execute_result"
    }
   ],
   "source": [
    "dg = df.groupby('patient').get_group(patients[0])\n",
    "X = dg.dpi.values.reshape(-1,1)\n",
    "y3 = dg['IgM+IgG'].values\n",
    "highest_decay(X,y3,len(dg))"
   ]
  },
  {
   "cell_type": "code",
   "execution_count": null,
   "id": "adcb3409",
   "metadata": {},
   "outputs": [],
   "source": []
  },
  {
   "cell_type": "code",
   "execution_count": null,
   "id": "b15eff24",
   "metadata": {},
   "outputs": [],
   "source": []
  },
  {
   "cell_type": "code",
   "execution_count": null,
   "id": "eee8c998",
   "metadata": {},
   "outputs": [],
   "source": []
  },
  {
   "cell_type": "code",
   "execution_count": null,
   "id": "bbacea5e",
   "metadata": {},
   "outputs": [],
   "source": []
  },
  {
   "cell_type": "code",
   "execution_count": null,
   "id": "f9a8c249",
   "metadata": {},
   "outputs": [],
   "source": []
  },
  {
   "cell_type": "code",
   "execution_count": 142,
   "id": "4e2890d7",
   "metadata": {},
   "outputs": [
    {
     "data": {
      "text/html": [
       "<div>\n",
       "<style scoped>\n",
       "    .dataframe tbody tr th:only-of-type {\n",
       "        vertical-align: middle;\n",
       "    }\n",
       "\n",
       "    .dataframe tbody tr th {\n",
       "        vertical-align: top;\n",
       "    }\n",
       "\n",
       "    .dataframe thead th {\n",
       "        text-align: right;\n",
       "    }\n",
       "</style>\n",
       "<table border=\"1\" class=\"dataframe\">\n",
       "  <thead>\n",
       "    <tr style=\"text-align: right;\">\n",
       "      <th></th>\n",
       "      <th>patient</th>\n",
       "      <th>dpi</th>\n",
       "      <th>IgM</th>\n",
       "      <th>IgG</th>\n",
       "      <th>IgM+IgG</th>\n",
       "    </tr>\n",
       "  </thead>\n",
       "  <tbody>\n",
       "    <tr>\n",
       "      <th>0</th>\n",
       "      <td>CHID46</td>\n",
       "      <td>16</td>\n",
       "      <td>0.026</td>\n",
       "      <td>0.268</td>\n",
       "      <td>0.294</td>\n",
       "    </tr>\n",
       "    <tr>\n",
       "      <th>1</th>\n",
       "      <td>CHID46</td>\n",
       "      <td>20</td>\n",
       "      <td>0.371</td>\n",
       "      <td>0.354</td>\n",
       "      <td>0.725</td>\n",
       "    </tr>\n",
       "    <tr>\n",
       "      <th>2</th>\n",
       "      <td>CHID46</td>\n",
       "      <td>23</td>\n",
       "      <td>1.927</td>\n",
       "      <td>2.047</td>\n",
       "      <td>3.974</td>\n",
       "    </tr>\n",
       "    <tr>\n",
       "      <th>3</th>\n",
       "      <td>CHID46</td>\n",
       "      <td>27</td>\n",
       "      <td>1.512</td>\n",
       "      <td>2.335</td>\n",
       "      <td>3.847</td>\n",
       "    </tr>\n",
       "    <tr>\n",
       "      <th>4</th>\n",
       "      <td>CHID46</td>\n",
       "      <td>30</td>\n",
       "      <td>1.023</td>\n",
       "      <td>2.526</td>\n",
       "      <td>3.549</td>\n",
       "    </tr>\n",
       "    <tr>\n",
       "      <th>5</th>\n",
       "      <td>CHID46</td>\n",
       "      <td>36</td>\n",
       "      <td>0.896</td>\n",
       "      <td>2.592</td>\n",
       "      <td>3.488</td>\n",
       "    </tr>\n",
       "    <tr>\n",
       "      <th>6</th>\n",
       "      <td>CHID46</td>\n",
       "      <td>38</td>\n",
       "      <td>0.728</td>\n",
       "      <td>2.647</td>\n",
       "      <td>3.375</td>\n",
       "    </tr>\n",
       "  </tbody>\n",
       "</table>\n",
       "</div>"
      ],
      "text/plain": [
       "  patient  dpi    IgM    IgG  IgM+IgG\n",
       "0  CHID46   16  0.026  0.268    0.294\n",
       "1  CHID46   20  0.371  0.354    0.725\n",
       "2  CHID46   23  1.927  2.047    3.974\n",
       "3  CHID46   27  1.512  2.335    3.847\n",
       "4  CHID46   30  1.023  2.526    3.549\n",
       "5  CHID46   36  0.896  2.592    3.488\n",
       "6  CHID46   38  0.728  2.647    3.375"
      ]
     },
     "execution_count": 142,
     "metadata": {},
     "output_type": "execute_result"
    }
   ],
   "source": [
    "df.groupby('patient').get_group('CHID46')"
   ]
  },
  {
   "cell_type": "code",
   "execution_count": null,
   "id": "3d88a778",
   "metadata": {},
   "outputs": [],
   "source": []
  },
  {
   "cell_type": "code",
   "execution_count": 183,
   "id": "9d56daaf",
   "metadata": {},
   "outputs": [
    {
     "name": "stdout",
     "output_type": "stream",
     "text": [
      "[0.09396154]\n",
      "-1.8534487179487182\n"
     ]
    },
    {
     "data": {
      "text/plain": [
       "[0.09396153846153847, -1.8534487179487182, 3]"
      ]
     },
     "execution_count": 183,
     "metadata": {},
     "output_type": "execute_result"
    },
    {
     "data": {
      "image/png": "[encoded data removed]",
      "text/plain": [
       "<Figure size 432x288 with 1 Axes>"
      ]
     },
     "metadata": {
      "needs_background": "light"
     },
     "output_type": "display_data"
    }
   ],
   "source": [
    "dg = df.groupby('patient').get_group('CHID08')\n",
    "idx1 = dg.IgM.idxmax() + 1\n",
    "y1 = dg.IgM.values\n",
    "\n",
    "idx2 = dg.IgG.idxmax() + 1\n",
    "y2 = dg.IgG.values\n",
    "\n",
    "y2 = dg.IgG.values\n",
    "y3 = dg['IgM+IgG'].values\n",
    "\n",
    "X = dg.dpi.values.reshape(-1,1)\n",
    "\n",
    "reg = LinearRegression().fit(X[:3], y1[:3])\n",
    "k = reg.coef_[0]\n",
    "print(reg.coef_)\n",
    "plt.scatter(X,y1)\n",
    "\n",
    "\n",
    "b = reg.intercept_\n",
    "print(b)\n",
    "t = np.arange(15,35,2)\n",
    "plt.plot(t, k*t+b)\n",
    "\n",
    "highest_decay(X, y1, len(dg))"
   ]
  },
  {
   "cell_type": "code",
   "execution_count": 140,
   "id": "ca73deba",
   "metadata": {},
   "outputs": [
    {
     "data": {
      "text/plain": [
       "4"
      ]
     },
     "execution_count": 140,
     "metadata": {},
     "output_type": "execute_result"
    }
   ],
   "source": [
    "# find the day that antibodies starting decay or saturate \n",
    "def fdd(d):\n",
    "    n = len(d)\n",
    "    \n",
    "    old_diff = 0\n",
    "    for i in range(1,n):\n",
    "        new_diff = d[i] - d[i-1]\n",
    "        if new_diff < 0:\n",
    "            return i\n",
    "        \n",
    "        if new_diff < old_diff:\n",
    "            return i + 1\n",
    "        \n",
    "        old_diff = new_diff\n",
    "        \n",
    "        \n",
    "        \n",
    "fdd(dg.IgG.values)"
   ]
  }
 ],
 "metadata": {
  "kernelspec": {
   "display_name": "Python 3",
   "language": "python",
   "name": "python3"
  },
  "language_info": {
   "codemirror_mode": {
    "name": "ipython",
    "version": 3
   },
   "file_extension": ".py",
   "mimetype": "text/x-python",
   "name": "python",
   "nbconvert_exporter": "python",
   "pygments_lexer": "ipython3",
   "version": "3.8.10"
  }
 },
 "nbformat": 4,
 "nbformat_minor": 5
}
