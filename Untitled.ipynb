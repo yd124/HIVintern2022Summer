{
 "cells": [
  {
   "cell_type": "markdown",
   "id": "3dea4946",
   "metadata": {},
   "source": [
    "## Fitting \n",
    "\n",
    "* T: target cells （CD4$^+$ T cells)\n",
    "* I: productively infected CD4$^+$ T cells,\n",
    "* V: free virus\n",
    "\n",
    "Let \n",
    "\\begin{align}\n",
    "\\beta(t) = \n",
    "\\begin{cases}\n",
    "\\beta_0, \\quad t\\leq \\tau \\\\\n",
    "\\beta_{\\infty} + (\\beta_0 - \\beta_{\\infty}) e^{-k(t-\\tau)}, \\quad t>\\tau\n",
    "\\end{cases}\n",
    "\\end{align}\n",
    "The HIV mathematical model is given by\n",
    "\n",
    "\\begin{align}\n",
    "\\frac{dT}{dt} &= \\lambda -dT -\\beta(t)TV, \\quad T(0) =T_0\\\\\n",
    "\\frac{dI}{dt} &= \\beta(t) TV - \\delta I,\\quad  I(0)= I_0 \\\\\n",
    "\\frac{dV}{dt} &= pI - cV, \\quad V(0) = V_0    \n",
    "\\end{align}\n",
    "\n",
    "Let $LV:=\\log_{10}V$, then \n",
    "$$\n",
    "\\frac{dLV}{dt} = \\frac{1}{V\\cdot\\log_e(10)} \\cdot(pI-cV)\n",
    "$$\n",
    "\n",
    "Determine the parameters $(\\beta_0,\\beta_{\\infty},\\lambda, d, \\delta, p, c, k, \\tau)$ so that it can fit the real data\n"
   ]
  },
  {
   "cell_type": "markdown",
   "id": "3884e432",
   "metadata": {},
   "source": [
    "\n",
    "\n"
   ]
  },
  {
   "cell_type": "code",
   "execution_count": null,
   "id": "1ea44bd7",
   "metadata": {},
   "outputs": [],
   "source": []
  }
 ],
 "metadata": {
  "kernelspec": {
   "display_name": "Python 3 (ipykernel)",
   "language": "python",
   "name": "python3"
  },
  "language_info": {
   "codemirror_mode": {
    "name": "ipython",
    "version": 3
   },
   "file_extension": ".py",
   "mimetype": "text/x-python",
   "name": "python",
   "nbconvert_exporter": "python",
   "pygments_lexer": "ipython3",
   "version": "3.9.7"
  }
 },
 "nbformat": 4,
 "nbformat_minor": 5
}
